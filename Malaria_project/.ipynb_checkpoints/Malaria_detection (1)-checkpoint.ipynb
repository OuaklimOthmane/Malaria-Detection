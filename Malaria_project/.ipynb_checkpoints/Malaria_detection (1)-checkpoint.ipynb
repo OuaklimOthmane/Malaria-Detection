{
 "cells": [
  {
   "cell_type": "code",
   "execution_count": 1,
   "metadata": {},
   "outputs": [
    {
     "name": "stdout",
     "output_type": "stream",
     "text": [
      "Requirement already satisfied: opencv-python in c:\\programdata\\anaconda3\\envs\\mini-projet\\lib\\site-packages (4.5.1.48)Note: you may need to restart the kernel to use updated packages.\n",
      "Requirement already satisfied: numpy>=1.13.3 in c:\\programdata\\anaconda3\\envs\\mini-projet\\lib\\site-packages (from opencv-python) (1.19.5)\n",
      "\n"
     ]
    }
   ],
   "source": [
    "pip install opencv-python"
   ]
  },
  {
   "cell_type": "code",
   "execution_count": 2,
   "metadata": {},
   "outputs": [],
   "source": [
    "import numpy as np\n",
    "import matplotlib.pyplot as plt\n",
    "import cv2"
   ]
  },
  {
   "cell_type": "code",
   "execution_count": 3,
   "metadata": {},
   "outputs": [
    {
     "name": "stdout",
     "output_type": "stream",
     "text": [
      "(100, 100, 3)\n"
     ]
    }
   ],
   "source": [
    "#resize a image from the dataset\n",
    "img = cv2.imread('dataset/training_set/1.png')\n",
    "img_resized = cv2.resize(img, dsize=(100,100), interpolation=cv2.INTER_CUBIC)\n",
    "taille=img_resized.shape\n",
    "print(taille)"
   ]
  },
  {
   "cell_type": "code",
   "execution_count": 4,
   "metadata": {},
   "outputs": [],
   "source": [
    "def rgb2gray(I):\n",
    "    r, g, b = I[:,:,0], I[:,:,1], I[:,:,2]\n",
    "    gray = 0.2989 * r + 0.5870 * g + 0.1140 * b\n",
    "    return gray"
   ]
  },
  {
   "cell_type": "code",
   "execution_count": 5,
   "metadata": {},
   "outputs": [
    {
     "data": {
      "image/png": "[encoded data removed]",
      "text/plain": [
       "<Figure size 432x288 with 1 Axes>"
      ]
     },
     "metadata": {
      "needs_background": "light"
     },
     "output_type": "display_data"
    }
   ],
   "source": [
    "I_gray=rgb2gray(img_resized)\n",
    "plt.imshow(I_gray,cmap=plt.get_cmap('gray')) #draws an image on the current figure (creates a figure if there isn't a current figure)\n",
    "plt.show() #displays the figure"
   ]
  },
  {
   "cell_type": "code",
   "execution_count": 6,
   "metadata": {},
   "outputs": [
    {
     "data": {
      "text/plain": [
       "array([[[0, 0, 0],\n",
       "        [0, 0, 0],\n",
       "        [0, 0, 0],\n",
       "        ...,\n",
       "        [0, 0, 0],\n",
       "        [0, 0, 0],\n",
       "        [0, 0, 0]],\n",
       "\n",
       "       [[0, 0, 0],\n",
       "        [0, 0, 0],\n",
       "        [0, 0, 0],\n",
       "        ...,\n",
       "        [0, 0, 0],\n",
       "        [0, 0, 0],\n",
       "        [0, 0, 0]],\n",
       "\n",
       "       [[0, 0, 0],\n",
       "        [0, 0, 0],\n",
       "        [0, 0, 0],\n",
       "        ...,\n",
       "        [0, 0, 0],\n",
       "        [0, 0, 0],\n",
       "        [0, 0, 0]],\n",
       "\n",
       "       ...,\n",
       "\n",
       "       [[0, 0, 0],\n",
       "        [0, 0, 0],\n",
       "        [0, 0, 0],\n",
       "        ...,\n",
       "        [0, 0, 0],\n",
       "        [0, 0, 0],\n",
       "        [0, 0, 0]],\n",
       "\n",
       "       [[0, 0, 0],\n",
       "        [0, 0, 0],\n",
       "        [0, 0, 0],\n",
       "        ...,\n",
       "        [0, 0, 0],\n",
       "        [0, 0, 0],\n",
       "        [0, 0, 0]],\n",
       "\n",
       "       [[0, 0, 0],\n",
       "        [0, 0, 0],\n",
       "        [0, 0, 0],\n",
       "        ...,\n",
       "        [0, 0, 0],\n",
       "        [0, 0, 0],\n",
       "        [0, 0, 0]]], dtype=uint8)"
      ]
     },
     "execution_count": 6,
     "metadata": {},
     "output_type": "execute_result"
    }
   ],
   "source": [
    "img_resized"
   ]
  },
  {
   "cell_type": "code",
   "execution_count": 7,
   "metadata": {},
   "outputs": [
    {
     "data": {
      "text/plain": [
       "(100, 100)"
      ]
     },
     "execution_count": 7,
     "metadata": {},
     "output_type": "execute_result"
    }
   ],
   "source": [
    "taille=I_gray.shape\n",
    "taille\n",
    "# nl,nc=taille"
   ]
  },
  {
   "cell_type": "code",
   "execution_count": 8,
   "metadata": {},
   "outputs": [],
   "source": [
    "filename_train=\"./dataset/training_set/\"\n",
    "filename_test=\"./dataset/testing_set/\"\n",
    "nbr_im=200"
   ]
  },
  {
   "cell_type": "code",
   "execution_count": 9,
   "metadata": {},
   "outputs": [],
   "source": [
    "#read the dataset and normalize it\n",
    "def stocker_images(nbr_im, filename):\n",
    "    nl,nc=taille\n",
    "    mat_image=np.zeros((nl,nc,nbr_im))\n",
    "    for i in range(nbr_im):\n",
    "        target= filename+ str(i+1) + '.png'\n",
    "        img = cv2.imread(target)\n",
    "        img_resized = cv2.resize(img, dsize=(100,100), interpolation=cv2.INTER_CUBIC)\n",
    "        mat_image[:,:,i]=rgb2gray(img_resized)       \n",
    "    return mat_image"
   ]
  },
  {
   "cell_type": "code",
   "execution_count": 10,
   "metadata": {
    "scrolled": true
   },
   "outputs": [],
   "source": [
    "# mat_image=stocker_images(nbr_im, filename)\n",
    "mat_train_image=stocker_images(nbr_im,filename_train)\n",
    "mat_test_image=stocker_images(nbr_im,filename_test)\n",
    "# mat_test_image"
   ]
  },
  {
   "cell_type": "code",
   "execution_count": 11,
   "metadata": {},
   "outputs": [
    {
     "data": {
      "text/plain": [
       "(100, 100, 200)"
      ]
     },
     "execution_count": 11,
     "metadata": {},
     "output_type": "execute_result"
    }
   ],
   "source": [
    "taille=mat_test_image.shape\n",
    "taille"
   ]
  },
  {
   "cell_type": "code",
   "execution_count": 12,
   "metadata": {},
   "outputs": [],
   "source": [
    "def histo(I):\n",
    "    [nl,nc]=np.shape(I)\n",
    "    h=np.zeros(256,dtype=int)\n",
    "    I_m=np.round(I)\n",
    "    for i in range(0,nl):\n",
    "        for j in range(0,nc):\n",
    "            val=int(I_m[i][j])\n",
    "            h[val]+=1\n",
    "    return h"
   ]
  },
  {
   "cell_type": "code",
   "execution_count": 13,
   "metadata": {},
   "outputs": [],
   "source": [
    "def stocker_histogramme(mat_image):\n",
    "    nl,nc,nb_im=mat_image.shape\n",
    "    mat_histo=np.zeros((nb_im,256))\n",
    "    for i in range(nb_im):\n",
    "        mat_histo[i,:]=histo(mat_image[:,:,i])\n",
    "    return mat_histo"
   ]
  },
  {
   "cell_type": "code",
   "execution_count": 14,
   "metadata": {},
   "outputs": [],
   "source": [
    "mat_histo_testing=stocker_histogramme(mat_test_image)\n",
    "mat_histo_training=stocker_histogramme(mat_train_image)"
   ]
  },
  {
   "cell_type": "code",
   "execution_count": 15,
   "metadata": {},
   "outputs": [
    {
     "data": {
      "text/plain": [
       "array([[2.428e+03, 1.600e+01, 3.000e+00, ..., 0.000e+00, 0.000e+00,\n",
       "        0.000e+00],\n",
       "       [2.319e+03, 2.900e+01, 2.000e+00, ..., 0.000e+00, 0.000e+00,\n",
       "        0.000e+00],\n",
       "       [2.211e+03, 5.000e+00, 1.100e+01, ..., 0.000e+00, 0.000e+00,\n",
       "        0.000e+00],\n",
       "       ...,\n",
       "       [2.903e+03, 1.000e+01, 6.000e+00, ..., 0.000e+00, 0.000e+00,\n",
       "        0.000e+00],\n",
       "       [2.743e+03, 1.400e+01, 0.000e+00, ..., 0.000e+00, 0.000e+00,\n",
       "        0.000e+00],\n",
       "       [2.228e+03, 1.100e+01, 3.000e+00, ..., 0.000e+00, 0.000e+00,\n",
       "        0.000e+00]])"
      ]
     },
     "execution_count": 15,
     "metadata": {},
     "output_type": "execute_result"
    }
   ],
   "source": [
    "mat_histo_testing"
   ]
  },
  {
   "cell_type": "code",
   "execution_count": 16,
   "metadata": {},
   "outputs": [
    {
     "data": {
      "text/plain": [
       "array([[2840.,   13.,    9., ...,    0.,    0.,    0.],\n",
       "       [2445.,   17.,    9., ...,    0.,    0.,    0.],\n",
       "       [2286.,   13.,    9., ...,    0.,    0.,    0.],\n",
       "       ...,\n",
       "       [2822.,   12.,    7., ...,    0.,    0.,    0.],\n",
       "       [2800.,    9.,   12., ...,    0.,    0.,    0.],\n",
       "       [3646.,    9.,    6., ...,    0.,    0.,    0.]])"
      ]
     },
     "execution_count": 16,
     "metadata": {},
     "output_type": "execute_result"
    }
   ],
   "source": [
    "mat_histo_training"
   ]
  },
  {
   "cell_type": "code",
   "execution_count": 17,
   "metadata": {},
   "outputs": [
    {
     "data": {
      "text/plain": [
       "array([2.319e+03, 2.900e+01, 2.000e+00, 0.000e+00, 2.000e+00, 1.300e+01,\n",
       "       4.000e+00, 2.000e+00, 1.000e+00, 0.000e+00, 1.000e+00, 5.000e+00,\n",
       "       2.000e+00, 1.000e+00, 1.000e+00, 1.000e+00, 2.000e+00, 2.000e+00,\n",
       "       1.000e+00, 7.000e+00, 8.000e+00, 1.400e+01, 2.000e+00, 2.000e+00,\n",
       "       0.000e+00, 3.000e+00, 0.000e+00, 0.000e+00, 0.000e+00, 0.000e+00,\n",
       "       1.000e+00, 2.000e+00, 2.000e+00, 1.000e+00, 1.000e+00, 1.000e+00,\n",
       "       2.000e+00, 0.000e+00, 1.000e+00, 0.000e+00, 0.000e+00, 1.000e+00,\n",
       "       0.000e+00, 1.000e+00, 2.000e+00, 1.000e+00, 3.000e+00, 3.000e+00,\n",
       "       3.000e+00, 2.000e+00, 3.000e+00, 2.000e+00, 2.000e+00, 1.000e+00,\n",
       "       0.000e+00, 0.000e+00, 3.000e+00, 0.000e+00, 2.000e+00, 1.000e+00,\n",
       "       1.000e+00, 1.000e+00, 2.000e+00, 0.000e+00, 0.000e+00, 0.000e+00,\n",
       "       0.000e+00, 1.000e+00, 1.000e+00, 1.000e+00, 1.000e+00, 1.000e+00,\n",
       "       0.000e+00, 2.000e+00, 2.000e+00, 0.000e+00, 0.000e+00, 0.000e+00,\n",
       "       2.000e+00, 4.000e+00, 2.000e+00, 2.000e+00, 4.000e+00, 4.000e+00,\n",
       "       9.000e+00, 9.000e+00, 1.000e+00, 2.000e+00, 3.000e+00, 2.000e+00,\n",
       "       2.000e+00, 2.000e+00, 3.000e+00, 2.000e+00, 4.000e+00, 0.000e+00,\n",
       "       2.000e+00, 5.000e+00, 6.000e+00, 1.000e+00, 3.000e+00, 2.000e+00,\n",
       "       0.000e+00, 2.000e+00, 3.000e+00, 4.000e+00, 2.000e+00, 3.000e+00,\n",
       "       3.000e+00, 2.000e+00, 2.000e+00, 2.000e+00, 0.000e+00, 4.000e+00,\n",
       "       1.000e+00, 0.000e+00, 1.000e+00, 1.000e+00, 3.000e+00, 0.000e+00,\n",
       "       2.000e+00, 2.000e+00, 1.000e+00, 1.000e+00, 0.000e+00, 2.000e+00,\n",
       "       3.000e+00, 3.000e+00, 3.000e+00, 2.000e+00, 1.000e+00, 1.000e+00,\n",
       "       3.000e+00, 1.000e+00, 2.000e+00, 0.000e+00, 5.000e+00, 1.500e+01,\n",
       "       4.700e+01, 1.250e+02, 2.020e+02, 3.560e+02, 5.140e+02, 5.530e+02,\n",
       "       4.730e+02, 4.220e+02, 4.000e+02, 3.470e+02, 3.210e+02, 3.300e+02,\n",
       "       3.160e+02, 2.660e+02, 2.580e+02, 2.700e+02, 2.610e+02, 2.700e+02,\n",
       "       1.900e+02, 1.560e+02, 1.320e+02, 1.460e+02, 1.090e+02, 1.060e+02,\n",
       "       9.900e+01, 1.020e+02, 7.500e+01, 7.900e+01, 8.000e+01, 8.500e+01,\n",
       "       5.500e+01, 3.000e+01, 1.700e+01, 1.300e+01, 1.600e+01, 1.500e+01,\n",
       "       1.400e+01, 1.300e+01, 1.000e+01, 1.400e+01, 6.000e+00, 1.500e+01,\n",
       "       4.000e+00, 6.000e+00, 8.000e+00, 7.000e+00, 6.000e+00, 3.000e+00,\n",
       "       2.000e+00, 4.000e+00, 2.000e+00, 2.000e+00, 2.000e+00, 1.000e+00,\n",
       "       0.000e+00, 0.000e+00, 2.000e+00, 1.000e+00, 1.000e+00, 2.000e+00,\n",
       "       1.000e+00, 0.000e+00, 2.000e+00, 0.000e+00, 0.000e+00, 0.000e+00,\n",
       "       0.000e+00, 0.000e+00, 0.000e+00, 1.000e+00, 0.000e+00, 0.000e+00,\n",
       "       0.000e+00, 0.000e+00, 1.000e+00, 0.000e+00, 0.000e+00, 0.000e+00,\n",
       "       0.000e+00, 0.000e+00, 0.000e+00, 0.000e+00, 0.000e+00, 0.000e+00,\n",
       "       0.000e+00, 0.000e+00, 0.000e+00, 0.000e+00, 0.000e+00, 0.000e+00,\n",
       "       0.000e+00, 0.000e+00, 0.000e+00, 0.000e+00, 0.000e+00, 0.000e+00,\n",
       "       0.000e+00, 0.000e+00, 0.000e+00, 0.000e+00, 0.000e+00, 0.000e+00,\n",
       "       0.000e+00, 0.000e+00, 0.000e+00, 0.000e+00, 0.000e+00, 0.000e+00,\n",
       "       0.000e+00, 0.000e+00, 0.000e+00, 0.000e+00, 0.000e+00, 0.000e+00,\n",
       "       0.000e+00, 0.000e+00, 0.000e+00, 0.000e+00])"
      ]
     },
     "execution_count": 17,
     "metadata": {},
     "output_type": "execute_result"
    }
   ],
   "source": [
    "#affichage l'histogramme du premier image test\n",
    "hs=mat_histo_testing[1,:]\n",
    "hs"
   ]
  },
  {
   "cell_type": "code",
   "execution_count": 18,
   "metadata": {},
   "outputs": [
    {
     "data": {
      "image/png": "[encoded data removed]",
      "text/plain": [
       "<Figure size 432x288 with 1 Axes>"
      ]
     },
     "metadata": {
      "needs_background": "light"
     },
     "output_type": "display_data"
    }
   ],
   "source": [
    "pixel=np.arange(len(mat_histo_testing[1,:]))\n",
    "plt.bar(pixel,mat_histo_testing[1,:],alpha=0.9)\n",
    "plt.xlabel('Pixel')\n",
    "plt.ylabel('Frequency')\n",
    "plt.show()"
   ]
  },
  {
   "cell_type": "code",
   "execution_count": 19,
   "metadata": {},
   "outputs": [],
   "source": [
    "def dist(x,y):\n",
    "    return np.sqrt(np.sum((x-y)**2))"
   ]
  },
  {
   "cell_type": "code",
   "execution_count": 20,
   "metadata": {},
   "outputs": [],
   "source": [
    "def stock_dist(hist1,hist2,nbr_im):\n",
    "    mat_dist=np.zeros((nbr_im,nbr_im))\n",
    "    for i in range(0,nbr_im):\n",
    "        for j in range(0,nbr_im):\n",
    "            mat_dist[i,j]=dist(hist1[i],hist2[j])\n",
    "    return mat_dist"
   ]
  },
  {
   "cell_type": "code",
   "execution_count": 21,
   "metadata": {
    "scrolled": true
   },
   "outputs": [
    {
     "data": {
      "text/plain": [
       "array([[2200.352699  , 1492.29152648, 2359.89406542, ..., 1470.13740854,\n",
       "         880.15112339, 1983.4318743 ],\n",
       "       [2165.34939444, 1850.7825372 , 2222.52469053, ...,  733.06207104,\n",
       "        1200.94629355, 1694.6757802 ],\n",
       "       [2072.21523979, 1626.2103185 , 2145.00769229, ...,  905.02265165,\n",
       "         919.84020351, 1835.76142241],\n",
       "       ...,\n",
       "       [1484.07142685, 1339.23336279, 1703.76993752, ...,  894.00447426,\n",
       "         667.38894207, 1237.30351976],\n",
       "       [1630.92489097, 1588.61260224, 1671.67460949, ...,  684.94525329,\n",
       "         898.01002222, 1209.01695604],\n",
       "       [1946.96635821, 1702.69198624, 1888.37072631, ...,  766.62376692,\n",
       "        1110.01801787, 1586.88436882]])"
      ]
     },
     "execution_count": 21,
     "metadata": {},
     "output_type": "execute_result"
    }
   ],
   "source": [
    "nbr_im=200\n",
    "mat_dist=stock_dist(mat_histo_testing,mat_histo_training,nbr_im)\n",
    "mat_dist"
   ]
  },
  {
   "cell_type": "code",
   "execution_count": 22,
   "metadata": {},
   "outputs": [
    {
     "data": {
      "text/plain": [
       "array([2046.42224382, 2229.34340109, 1689.08673549, 2196.28868776,\n",
       "       2325.42856265, 1257.77422457, 2009.43822995, 1683.43636648,\n",
       "       1794.49547227, 1995.33606192, 2106.99311817, 1826.99315817,\n",
       "       2217.67535947, 2502.83719007, 2175.78675426, 2262.36955425,\n",
       "       2116.66435695, 1728.44091597, 2275.94463905, 2354.16651917,\n",
       "       1479.46476808, 2391.91178767, 2142.98156782, 2300.76509014,\n",
       "       2162.87956207, 2072.36242004, 1986.54222205, 1831.27714997,\n",
       "       1443.04192593, 2031.78985134, 2147.41938149, 1799.56550311,\n",
       "       2223.56920288, 1858.13562476, 1883.18772298, 1953.84288007,\n",
       "       2335.12312309, 2147.1641763 , 2093.16602304, 2242.71754798,\n",
       "       2154.05431686, 2118.79210873, 2433.59898093, 2339.62903042,\n",
       "       2494.00842019, 2216.99616599, 1812.73991516, 2372.25125145,\n",
       "       1544.19169794, 2395.65398169, 2347.29461295, 2372.49320336,\n",
       "       2051.59060244, 2526.18803734, 2280.51003067, 1747.12850128,\n",
       "       2345.63253729, 2580.74214132, 2168.5963202 , 2144.44351756,\n",
       "       2440.94448933, 2166.99330871, 2206.80764907, 2078.0741084 ,\n",
       "       2129.98591545, 2013.2913351 , 2175.3174481 , 2467.83143671,\n",
       "       2131.20716966, 2077.12878753, 1829.93114625, 2376.30890248,\n",
       "       2264.87659708, 1903.33706947, 2408.89269167, 2163.22536967,\n",
       "       2261.21604452, 1889.28399136, 1835.09018852, 1569.87388028,\n",
       "       1738.949683  , 2126.62220434, 2076.13968702, 1834.19737215,\n",
       "       2002.52190999, 2360.52663616, 1515.13299746, 1558.81814206,\n",
       "       1970.22942826, 1632.96540074, 2121.80300688, 1979.27663554,\n",
       "       1998.62452702, 1882.69593934, 1934.68343664, 1827.14421981,\n",
       "       2049.48139782, 2669.36809002, 1980.42722664, 2177.56377633,\n",
       "       1744.64151045, 1806.00996675, 2016.43993216, 2003.40160727,\n",
       "       2182.84676512, 2159.6939598 , 1757.22906873, 1810.18562584,\n",
       "       1751.32863849, 1657.80698515, 2328.83833703, 2022.55729214,\n",
       "       1924.68594841, 1994.73507013, 1266.04581276, 1557.6617091 ,\n",
       "       2422.70881453, 2279.60566765, 1829.70380117, 1804.76369644,\n",
       "       1822.50432098, 1782.63568909, 2029.16140314, 2280.04649075,\n",
       "       1968.92102432, 2058.92933342, 1893.90126459, 2194.4069814 ,\n",
       "       1892.44920672, 2087.39790169, 2193.79169476, 2612.12825106,\n",
       "       2173.56297355, 1965.83213932, 1850.40373973, 2331.76885647,\n",
       "       2315.1475115 , 1892.62833118, 2243.67421878, 2240.11338999,\n",
       "       2257.96457014, 1958.05515755, 1883.66345189, 1692.06560157,\n",
       "       2088.44200303, 2259.71104347, 2497.31175467, 2162.24882934,\n",
       "       2055.37295886, 2272.63591453, 1940.62361111, 2201.73204546,\n",
       "       2427.86943636, 2102.14081355, 2140.86524564, 2412.38554133,\n",
       "       1520.88658354, 2639.63823279, 2174.34219938, 1569.96369385,\n",
       "       2175.31285106, 3420.04736809, 1507.88527415, 1832.73238636,\n",
       "       1615.49868462, 2142.88777121, 1772.56650087, 1789.89496899,\n",
       "       1905.64792131, 2070.00386473, 1775.48246964, 1830.13551411,\n",
       "       1755.89236572, 2342.03074275, 1713.6300651 , 1817.29249159,\n",
       "       1595.35638652, 1868.55077533, 1921.07001434, 2442.08926946,\n",
       "       1819.05360009, 1856.42936844, 1346.52515758, 1885.94962817,\n",
       "       1519.11948181, 1713.7847006 , 1910.0455492 , 1948.91354349,\n",
       "       1609.90869306, 1698.26735233, 1796.55670659, 1565.99616858,\n",
       "       2215.57938246, 1754.16760887, 1833.21575381, 1849.89567273,\n",
       "       1776.27137566, 1961.01606317, 2000.460447  , 2113.17155006])"
      ]
     },
     "execution_count": 22,
     "metadata": {},
     "output_type": "execute_result"
    }
   ],
   "source": [
    "mat_dist[100,:]"
   ]
  },
  {
   "cell_type": "code",
   "execution_count": 23,
   "metadata": {},
   "outputs": [
    {
     "data": {
      "text/plain": [
       "array([[ 47,  66,  45, ...,  36, 157, 161],\n",
       "       [138, 149,  54, ...,  36, 157, 161],\n",
       "       [ 62,  96,  99, ...,  36, 157, 161],\n",
       "       ...,\n",
       "       [191, 185, 188, ..., 110,  97, 161],\n",
       "       [176, 189, 134, ...,  36, 157, 161],\n",
       "       [100, 121, 119, ...,  36, 157, 161]], dtype=int64)"
      ]
     },
     "execution_count": 23,
     "metadata": {},
     "output_type": "execute_result"
    }
   ],
   "source": [
    "#Returns the indices that would sort in mat_dist\n",
    "mat_index=np.argsort(mat_dist,axis=1)\n",
    "mat_index"
   ]
  },
  {
   "cell_type": "code",
   "execution_count": 24,
   "metadata": {},
   "outputs": [
    {
     "data": {
      "text/plain": [
       "array([29,  1, 50, 15,  3, 40, 83, 33, 22, 12], dtype=int64)"
      ]
     },
     "execution_count": 24,
     "metadata": {},
     "output_type": "execute_result"
    }
   ],
   "source": [
    "mat_index[30,0:10]"
   ]
  },
  {
   "cell_type": "code",
   "execution_count": 25,
   "metadata": {},
   "outputs": [
    {
     "data": {
      "text/plain": [
       "(200, 200)"
      ]
     },
     "execution_count": 25,
     "metadata": {},
     "output_type": "execute_result"
    }
   ],
   "source": [
    "mat_index.shape"
   ]
  },
  {
   "cell_type": "code",
   "execution_count": 37,
   "metadata": {},
   "outputs": [],
   "source": [
    "new_mat=np.zeros((200,200))\n",
    "for i in range(200):\n",
    "    if i>=0 and i<=99 :\n",
    "        for j in range(0,200):\n",
    "            if mat_index[i][j]<=99:\n",
    "                    new_mat[i][j]=1\n",
    "            else:\n",
    "                    new_mat[i][j]=0\n",
    "    elif i>=100 and i<=199 :\n",
    "        for j in range(0,200):\n",
    "                if mat_index[i][j]<=199 and mat_index[i][j]>=100:\n",
    "                    new_mat[i][j]=1\n",
    "                else:\n",
    "                    new_mat[i][j]=0                  "
   ]
  },
  {
   "cell_type": "code",
   "execution_count": 38,
   "metadata": {},
   "outputs": [
    {
     "data": {
      "text/plain": [
       "array([[1., 1., 1., ..., 1., 0., 0.],\n",
       "       [0., 0., 1., ..., 1., 0., 0.],\n",
       "       [1., 1., 1., ..., 1., 0., 0.],\n",
       "       ...,\n",
       "       [1., 1., 1., ..., 1., 0., 1.],\n",
       "       [1., 1., 1., ..., 0., 1., 1.],\n",
       "       [1., 1., 1., ..., 0., 1., 1.]])"
      ]
     },
     "execution_count": 38,
     "metadata": {},
     "output_type": "execute_result"
    }
   ],
   "source": [
    "new_mat"
   ]
  },
  {
   "cell_type": "code",
   "execution_count": 39,
   "metadata": {},
   "outputs": [
    {
     "data": {
      "text/plain": [
       "array([1., 1., 1., 0., 1., 1., 1., 1., 1., 1., 1., 0., 1., 1., 1., 1., 1.,\n",
       "       1., 1., 1., 1., 1., 1., 1., 1., 0., 1., 0., 0., 1., 1., 0., 0., 1.,\n",
       "       0., 0., 0., 0., 0., 1., 0., 0., 0., 0., 0., 1., 0., 0., 1., 0., 0.,\n",
       "       1., 1., 0., 1., 1., 1., 0., 1., 1., 0., 0., 0., 1., 1., 1., 0., 1.,\n",
       "       1., 0., 0., 0., 0., 0., 0., 0., 0., 0., 0., 0., 0., 0., 1., 1., 1.,\n",
       "       0., 1., 1., 0., 1., 0., 0., 1., 1., 1., 1., 0., 1., 1., 0., 1., 0.,\n",
       "       1., 0., 1., 0., 1., 1., 1., 0., 1., 0., 0., 1., 1., 1., 0., 0., 0.,\n",
       "       0., 0., 0., 0., 0., 0., 1., 0., 0., 0., 1., 0., 0., 0., 0., 0., 1.,\n",
       "       0., 1., 1., 0., 1., 0., 0., 0., 0., 1., 1., 1., 1., 0., 0., 0., 1.,\n",
       "       0., 0., 1., 0., 1., 0., 1., 0., 0., 1., 1., 1., 1., 0., 0., 1., 0.,\n",
       "       0., 0., 1., 0., 0., 1., 1., 0., 1., 1., 1., 1., 0., 1., 0., 1., 1.,\n",
       "       0., 1., 1., 0., 0., 1., 1., 1., 1., 0., 1., 0., 0.])"
      ]
     },
     "execution_count": 39,
     "metadata": {},
     "output_type": "execute_result"
    }
   ],
   "source": [
    "#l'image requete est la premiere image du test(non infectée)\n",
    "mat_dist_non_Infectee=new_mat[0,:]\n",
    "mat_dist_non_Infectee"
   ]
  },
  {
   "cell_type": "code",
   "execution_count": 40,
   "metadata": {
    "scrolled": true
   },
   "outputs": [
    {
     "data": {
      "text/plain": [
       "array([0., 1., 1., 0., 0., 1., 0., 1., 1., 0., 1., 0., 1., 0., 1., 1., 1.,\n",
       "       1., 0., 1., 0., 0., 1., 1., 1., 1., 0., 0., 1., 0., 1., 1., 1., 1.,\n",
       "       1., 1., 1., 1., 1., 0., 1., 0., 1., 1., 1., 0., 1., 1., 1., 0., 0.,\n",
       "       1., 0., 1., 0., 1., 1., 0., 0., 1., 1., 1., 0., 1., 0., 0., 1., 1.,\n",
       "       0., 1., 1., 1., 0., 1., 1., 1., 1., 0., 1., 1., 0., 1., 1., 1., 1.,\n",
       "       0., 0., 0., 0., 1., 0., 0., 1., 0., 1., 0., 0., 1., 1., 1., 0., 0.,\n",
       "       0., 0., 1., 1., 1., 0., 0., 0., 0., 1., 1., 0., 1., 0., 1., 0., 0.,\n",
       "       0., 0., 0., 0., 1., 1., 0., 0., 0., 0., 0., 1., 1., 0., 0., 0., 0.,\n",
       "       1., 1., 1., 0., 0., 0., 1., 1., 1., 0., 1., 0., 1., 0., 0., 0., 0.,\n",
       "       1., 0., 1., 1., 1., 0., 0., 0., 1., 0., 1., 1., 0., 0., 1., 0., 1.,\n",
       "       1., 0., 0., 1., 0., 0., 0., 0., 0., 0., 0., 0., 0., 0., 1., 1., 1.,\n",
       "       0., 0., 1., 0., 0., 1., 0., 0., 0., 1., 1., 0., 1.])"
      ]
     },
     "execution_count": 40,
     "metadata": {},
     "output_type": "execute_result"
    }
   ],
   "source": [
    "#l'image requete est la premiere image du test (infectée)\n",
    "mat_dist_Infectee=new_mat[100,:]\n",
    "mat_dist_Infectee"
   ]
  },
  {
   "cell_type": "code",
   "execution_count": 41,
   "metadata": {},
   "outputs": [],
   "source": [
    "precision_nI=np.zeros((1,200))\n",
    "recall_nI=np.zeros((1,200))\n",
    "specificity_nI=np.zeros((1,200))\n",
    "sensitivity_nI=np.zeros((1,200))"
   ]
  },
  {
   "cell_type": "code",
   "execution_count": 42,
   "metadata": {},
   "outputs": [],
   "source": [
    "precision_I=np.zeros((1,200))\n",
    "recall_I=np.zeros((1,200))\n",
    "specificity_I=np.zeros((1,200))\n",
    "sensitivity_I=np.zeros((1,200))"
   ]
  },
  {
   "cell_type": "code",
   "execution_count": 43,
   "metadata": {},
   "outputs": [
    {
     "name": "stdout",
     "output_type": "stream",
     "text": [
      "100.0\n"
     ]
    }
   ],
   "source": [
    "pertinent= np.sum(mat_dist_non_Infectee)\n",
    "print(pertinent)"
   ]
  },
  {
   "cell_type": "code",
   "execution_count": 44,
   "metadata": {},
   "outputs": [
    {
     "name": "stdout",
     "output_type": "stream",
     "text": [
      "100.0\n"
     ]
    }
   ],
   "source": [
    "pertinent= np.sum(mat_dist_Infectee)\n",
    "print(pertinent)"
   ]
  },
  {
   "cell_type": "markdown",
   "metadata": {},
   "source": [
    "sensitivity = recall = vp / (vp + fn)\n",
    "\n",
    "specificity = vn / (vn + fp)\n",
    "\n",
    "precision = vp / (vp + fp)"
   ]
  },
  {
   "cell_type": "code",
   "execution_count": 45,
   "metadata": {},
   "outputs": [
    {
     "name": "stdout",
     "output_type": "stream",
     "text": [
      "1.0\n",
      "2.0\n",
      "3.0\n",
      "3.0\n",
      "4.0\n",
      "5.0\n",
      "6.0\n",
      "7.0\n",
      "8.0\n",
      "9.0\n",
      "10.0\n",
      "10.0\n",
      "11.0\n",
      "12.0\n",
      "13.0\n",
      "14.0\n",
      "15.0\n",
      "16.0\n",
      "17.0\n",
      "18.0\n",
      "19.0\n",
      "20.0\n",
      "21.0\n",
      "22.0\n",
      "23.0\n",
      "23.0\n",
      "24.0\n",
      "24.0\n",
      "24.0\n",
      "25.0\n",
      "26.0\n",
      "26.0\n",
      "26.0\n",
      "27.0\n",
      "27.0\n",
      "27.0\n",
      "27.0\n",
      "27.0\n",
      "27.0\n",
      "28.0\n",
      "28.0\n",
      "28.0\n",
      "28.0\n",
      "28.0\n",
      "28.0\n",
      "29.0\n",
      "29.0\n",
      "29.0\n",
      "30.0\n",
      "30.0\n",
      "30.0\n",
      "31.0\n",
      "32.0\n",
      "32.0\n",
      "33.0\n",
      "34.0\n",
      "35.0\n",
      "35.0\n",
      "36.0\n",
      "37.0\n",
      "37.0\n",
      "37.0\n",
      "37.0\n",
      "38.0\n",
      "39.0\n",
      "40.0\n",
      "40.0\n",
      "41.0\n",
      "42.0\n",
      "42.0\n",
      "42.0\n",
      "42.0\n",
      "42.0\n",
      "42.0\n",
      "42.0\n",
      "42.0\n",
      "42.0\n",
      "42.0\n",
      "42.0\n",
      "42.0\n",
      "42.0\n",
      "42.0\n",
      "43.0\n",
      "44.0\n",
      "45.0\n",
      "45.0\n",
      "46.0\n",
      "47.0\n",
      "47.0\n",
      "48.0\n",
      "48.0\n",
      "48.0\n",
      "49.0\n",
      "50.0\n",
      "51.0\n",
      "52.0\n",
      "52.0\n",
      "53.0\n",
      "54.0\n",
      "54.0\n",
      "55.0\n",
      "55.0\n",
      "56.0\n",
      "56.0\n",
      "57.0\n",
      "57.0\n",
      "58.0\n",
      "59.0\n",
      "60.0\n",
      "60.0\n",
      "61.0\n",
      "61.0\n",
      "61.0\n",
      "62.0\n",
      "63.0\n",
      "64.0\n",
      "64.0\n",
      "64.0\n",
      "64.0\n",
      "64.0\n",
      "64.0\n",
      "64.0\n",
      "64.0\n",
      "64.0\n",
      "64.0\n",
      "65.0\n",
      "65.0\n",
      "65.0\n",
      "65.0\n",
      "66.0\n",
      "66.0\n",
      "66.0\n",
      "66.0\n",
      "66.0\n",
      "66.0\n",
      "67.0\n",
      "67.0\n",
      "68.0\n",
      "69.0\n",
      "69.0\n",
      "70.0\n",
      "70.0\n",
      "70.0\n",
      "70.0\n",
      "70.0\n",
      "71.0\n",
      "72.0\n",
      "73.0\n",
      "74.0\n",
      "74.0\n",
      "74.0\n",
      "74.0\n",
      "75.0\n",
      "75.0\n",
      "75.0\n",
      "76.0\n",
      "76.0\n",
      "77.0\n",
      "77.0\n",
      "78.0\n",
      "78.0\n",
      "78.0\n",
      "79.0\n",
      "80.0\n",
      "81.0\n",
      "82.0\n",
      "82.0\n",
      "82.0\n",
      "83.0\n",
      "83.0\n",
      "83.0\n",
      "83.0\n",
      "84.0\n",
      "84.0\n",
      "84.0\n",
      "85.0\n",
      "86.0\n",
      "86.0\n",
      "87.0\n",
      "88.0\n",
      "89.0\n",
      "90.0\n",
      "90.0\n",
      "91.0\n",
      "91.0\n",
      "92.0\n",
      "93.0\n",
      "93.0\n",
      "94.0\n",
      "95.0\n",
      "95.0\n",
      "95.0\n",
      "96.0\n",
      "97.0\n",
      "98.0\n",
      "99.0\n",
      "99.0\n",
      "100.0\n",
      "100.0\n",
      "100.0\n"
     ]
    }
   ],
   "source": [
    "for i in range(1,201):\n",
    "    VP=np.sum(mat_dist_non_Infectee[0:i]) #sommer les valeurs positive du 0 jusqua i (exclus) dans la premiere ligne dans la matrice\n",
    "    print(VP)\n",
    "    FP=i-VP\n",
    "    FN=pertinent-VP\n",
    "    VN=200-i-FN\n",
    "    precision_nI[0,i-1]=VP/(VP+FP)\n",
    "    recall_nI[0,i-1] =VP/(VP+FN)\n",
    "    sensitivity_nI[0,i-1]=VP/(VP+FN)\n",
    "    specificity_nI[0,i-1]=VN/(VN+FP)"
   ]
  },
  {
   "cell_type": "code",
   "execution_count": 46,
   "metadata": {},
   "outputs": [
    {
     "name": "stdout",
     "output_type": "stream",
     "text": [
      "0.0\n",
      "1.0\n",
      "2.0\n",
      "2.0\n",
      "2.0\n",
      "3.0\n",
      "3.0\n",
      "4.0\n",
      "5.0\n",
      "5.0\n",
      "6.0\n",
      "6.0\n",
      "7.0\n",
      "7.0\n",
      "8.0\n",
      "9.0\n",
      "10.0\n",
      "11.0\n",
      "11.0\n",
      "12.0\n",
      "12.0\n",
      "12.0\n",
      "13.0\n",
      "14.0\n",
      "15.0\n",
      "16.0\n",
      "16.0\n",
      "16.0\n",
      "17.0\n",
      "17.0\n",
      "18.0\n",
      "19.0\n",
      "20.0\n",
      "21.0\n",
      "22.0\n",
      "23.0\n",
      "24.0\n",
      "25.0\n",
      "26.0\n",
      "26.0\n",
      "27.0\n",
      "27.0\n",
      "28.0\n",
      "29.0\n",
      "30.0\n",
      "30.0\n",
      "31.0\n",
      "32.0\n",
      "33.0\n",
      "33.0\n",
      "33.0\n",
      "34.0\n",
      "34.0\n",
      "35.0\n",
      "35.0\n",
      "36.0\n",
      "37.0\n",
      "37.0\n",
      "37.0\n",
      "38.0\n",
      "39.0\n",
      "40.0\n",
      "40.0\n",
      "41.0\n",
      "41.0\n",
      "41.0\n",
      "42.0\n",
      "43.0\n",
      "43.0\n",
      "44.0\n",
      "45.0\n",
      "46.0\n",
      "46.0\n",
      "47.0\n",
      "48.0\n",
      "49.0\n",
      "50.0\n",
      "50.0\n",
      "51.0\n",
      "52.0\n",
      "52.0\n",
      "53.0\n",
      "54.0\n",
      "55.0\n",
      "56.0\n",
      "56.0\n",
      "56.0\n",
      "56.0\n",
      "56.0\n",
      "57.0\n",
      "57.0\n",
      "57.0\n",
      "58.0\n",
      "58.0\n",
      "59.0\n",
      "59.0\n",
      "59.0\n",
      "60.0\n",
      "61.0\n",
      "62.0\n",
      "62.0\n",
      "62.0\n",
      "62.0\n",
      "62.0\n",
      "63.0\n",
      "64.0\n",
      "65.0\n",
      "65.0\n",
      "65.0\n",
      "65.0\n",
      "65.0\n",
      "66.0\n",
      "67.0\n",
      "67.0\n",
      "68.0\n",
      "68.0\n",
      "69.0\n",
      "69.0\n",
      "69.0\n",
      "69.0\n",
      "69.0\n",
      "69.0\n",
      "69.0\n",
      "70.0\n",
      "71.0\n",
      "71.0\n",
      "71.0\n",
      "71.0\n",
      "71.0\n",
      "71.0\n",
      "72.0\n",
      "73.0\n",
      "73.0\n",
      "73.0\n",
      "73.0\n",
      "73.0\n",
      "74.0\n",
      "75.0\n",
      "76.0\n",
      "76.0\n",
      "76.0\n",
      "76.0\n",
      "77.0\n",
      "78.0\n",
      "79.0\n",
      "79.0\n",
      "80.0\n",
      "80.0\n",
      "81.0\n",
      "81.0\n",
      "81.0\n",
      "81.0\n",
      "81.0\n",
      "82.0\n",
      "82.0\n",
      "83.0\n",
      "84.0\n",
      "85.0\n",
      "85.0\n",
      "85.0\n",
      "85.0\n",
      "86.0\n",
      "86.0\n",
      "87.0\n",
      "88.0\n",
      "88.0\n",
      "88.0\n",
      "89.0\n",
      "89.0\n",
      "90.0\n",
      "91.0\n",
      "91.0\n",
      "91.0\n",
      "92.0\n",
      "92.0\n",
      "92.0\n",
      "92.0\n",
      "92.0\n",
      "92.0\n",
      "92.0\n",
      "92.0\n",
      "92.0\n",
      "92.0\n",
      "92.0\n",
      "93.0\n",
      "94.0\n",
      "95.0\n",
      "95.0\n",
      "95.0\n",
      "96.0\n",
      "96.0\n",
      "96.0\n",
      "97.0\n",
      "97.0\n",
      "97.0\n",
      "97.0\n",
      "98.0\n",
      "99.0\n",
      "99.0\n",
      "100.0\n"
     ]
    }
   ],
   "source": [
    "for i in range(1,201):\n",
    "    VP=np.sum(mat_dist_Infectee[0:i]) #sommer les valeurs positive du 0 jusqua i (exclus) dans la premiere ligne dans la matrice\n",
    "    print(VP)\n",
    "    FP=i-VP\n",
    "    FN=pertinent-VP\n",
    "    VN=200-i-FN\n",
    "    precision_I[0,i-1]=VP/(VP+FP)\n",
    "    recall_I[0,i-1] =VP/(VP+FN)\n",
    "    sensitivity_I[0,i-1]=VP/(VP+FN)\n",
    "    specificity_I[0,i-1]=VN/(VN+FP)"
   ]
  },
  {
   "cell_type": "code",
   "execution_count": 47,
   "metadata": {},
   "outputs": [
    {
     "name": "stdout",
     "output_type": "stream",
     "text": [
      "[[1.         1.         1.         0.75       0.8        0.83333333\n",
      "  0.85714286 0.875      0.88888889 0.9        0.90909091 0.83333333\n",
      "  0.84615385 0.85714286 0.86666667 0.875      0.88235294 0.88888889\n",
      "  0.89473684 0.9        0.9047619  0.90909091 0.91304348 0.91666667\n",
      "  0.92       0.88461538 0.88888889 0.85714286 0.82758621 0.83333333\n",
      "  0.83870968 0.8125     0.78787879 0.79411765 0.77142857 0.75\n",
      "  0.72972973 0.71052632 0.69230769 0.7        0.68292683 0.66666667\n",
      "  0.65116279 0.63636364 0.62222222 0.63043478 0.61702128 0.60416667\n",
      "  0.6122449  0.6        0.58823529 0.59615385 0.60377358 0.59259259\n",
      "  0.6        0.60714286 0.61403509 0.60344828 0.61016949 0.61666667\n",
      "  0.60655738 0.59677419 0.58730159 0.59375    0.6        0.60606061\n",
      "  0.59701493 0.60294118 0.60869565 0.6        0.5915493  0.58333333\n",
      "  0.57534247 0.56756757 0.56       0.55263158 0.54545455 0.53846154\n",
      "  0.53164557 0.525      0.51851852 0.51219512 0.51807229 0.52380952\n",
      "  0.52941176 0.52325581 0.52873563 0.53409091 0.52808989 0.53333333\n",
      "  0.52747253 0.52173913 0.52688172 0.53191489 0.53684211 0.54166667\n",
      "  0.53608247 0.54081633 0.54545455 0.54       0.54455446 0.53921569\n",
      "  0.54368932 0.53846154 0.54285714 0.53773585 0.54205607 0.5462963\n",
      "  0.55045872 0.54545455 0.54954955 0.54464286 0.53982301 0.54385965\n",
      "  0.54782609 0.55172414 0.54700855 0.54237288 0.53781513 0.53333333\n",
      "  0.52892562 0.52459016 0.5203252  0.51612903 0.512      0.51587302\n",
      "  0.51181102 0.5078125  0.50387597 0.50769231 0.50381679 0.5\n",
      "  0.4962406  0.49253731 0.48888889 0.49264706 0.48905109 0.49275362\n",
      "  0.49640288 0.49285714 0.4964539  0.49295775 0.48951049 0.48611111\n",
      "  0.48275862 0.48630137 0.48979592 0.49324324 0.4966443  0.49333333\n",
      "  0.49006623 0.48684211 0.49019608 0.48701299 0.48387097 0.48717949\n",
      "  0.48407643 0.48734177 0.48427673 0.4875     0.48447205 0.48148148\n",
      "  0.48466258 0.48780488 0.49090909 0.4939759  0.49101796 0.48809524\n",
      "  0.49112426 0.48823529 0.48538012 0.48255814 0.48554913 0.48275862\n",
      "  0.48       0.48295455 0.48587571 0.48314607 0.48603352 0.48888889\n",
      "  0.49171271 0.49450549 0.49180328 0.49456522 0.49189189 0.49462366\n",
      "  0.4973262  0.49468085 0.4973545  0.5        0.4973822  0.49479167\n",
      "  0.49740933 0.5        0.5025641  0.50510204 0.50253807 0.50505051\n",
      "  0.50251256 0.5       ]]\n"
     ]
    }
   ],
   "source": [
    "print(precision_nI)"
   ]
  },
  {
   "cell_type": "code",
   "execution_count": 59,
   "metadata": {},
   "outputs": [
    {
     "name": "stdout",
     "output_type": "stream",
     "text": [
      "[[0.         0.5        0.66666667 0.5        0.4        0.5\n",
      "  0.42857143 0.5        0.55555556 0.5        0.54545455 0.5\n",
      "  0.53846154 0.5        0.53333333 0.5625     0.58823529 0.61111111\n",
      "  0.57894737 0.6        0.57142857 0.54545455 0.56521739 0.58333333\n",
      "  0.6        0.61538462 0.59259259 0.57142857 0.5862069  0.56666667\n",
      "  0.58064516 0.59375    0.60606061 0.61764706 0.62857143 0.63888889\n",
      "  0.64864865 0.65789474 0.66666667 0.65       0.65853659 0.64285714\n",
      "  0.65116279 0.65909091 0.66666667 0.65217391 0.65957447 0.66666667\n",
      "  0.67346939 0.66       0.64705882 0.65384615 0.64150943 0.64814815\n",
      "  0.63636364 0.64285714 0.64912281 0.63793103 0.62711864 0.63333333\n",
      "  0.63934426 0.64516129 0.63492063 0.640625   0.63076923 0.62121212\n",
      "  0.62686567 0.63235294 0.62318841 0.62857143 0.63380282 0.63888889\n",
      "  0.63013699 0.63513514 0.64       0.64473684 0.64935065 0.64102564\n",
      "  0.64556962 0.65       0.64197531 0.64634146 0.65060241 0.6547619\n",
      "  0.65882353 0.65116279 0.64367816 0.63636364 0.62921348 0.63333333\n",
      "  0.62637363 0.61956522 0.62365591 0.61702128 0.62105263 0.61458333\n",
      "  0.60824742 0.6122449  0.61616162 0.62       0.61386139 0.60784314\n",
      "  0.60194175 0.59615385 0.6        0.60377358 0.60747664 0.60185185\n",
      "  0.59633028 0.59090909 0.58558559 0.58928571 0.59292035 0.5877193\n",
      "  0.59130435 0.5862069  0.58974359 0.58474576 0.57983193 0.575\n",
      "  0.57024793 0.56557377 0.56097561 0.56451613 0.568      0.56349206\n",
      "  0.55905512 0.5546875  0.5503876  0.54615385 0.54961832 0.5530303\n",
      "  0.54887218 0.54477612 0.54074074 0.53676471 0.54014599 0.54347826\n",
      "  0.54676259 0.54285714 0.53900709 0.53521127 0.53846154 0.54166667\n",
      "  0.54482759 0.54109589 0.54421769 0.54054054 0.54362416 0.54\n",
      "  0.53642384 0.53289474 0.52941176 0.53246753 0.52903226 0.53205128\n",
      "  0.53503185 0.53797468 0.53459119 0.53125    0.52795031 0.5308642\n",
      "  0.52760736 0.5304878  0.53333333 0.53012048 0.52694611 0.5297619\n",
      "  0.52662722 0.52941176 0.53216374 0.52906977 0.52601156 0.52873563\n",
      "  0.52571429 0.52272727 0.51977401 0.51685393 0.51396648 0.51111111\n",
      "  0.50828729 0.50549451 0.50273224 0.5        0.5027027  0.50537634\n",
      "  0.50802139 0.50531915 0.5026455  0.50526316 0.5026178  0.5\n",
      "  0.50259067 0.5        0.4974359  0.49489796 0.49746193 0.5\n",
      "  0.49748744 0.5       ]]\n"
     ]
    }
   ],
   "source": [
    "print(precision_I)"
   ]
  },
  {
   "cell_type": "code",
   "execution_count": 60,
   "metadata": {},
   "outputs": [
    {
     "name": "stdout",
     "output_type": "stream",
     "text": [
      "[[0.01 0.02 0.03 0.03 0.04 0.05 0.06 0.07 0.08 0.09 0.1  0.1  0.11 0.12\n",
      "  0.13 0.14 0.15 0.16 0.17 0.18 0.19 0.2  0.21 0.22 0.23 0.23 0.24 0.24\n",
      "  0.24 0.25 0.26 0.26 0.26 0.27 0.27 0.27 0.27 0.27 0.27 0.28 0.28 0.28\n",
      "  0.28 0.28 0.28 0.29 0.29 0.29 0.3  0.3  0.3  0.31 0.32 0.32 0.33 0.34\n",
      "  0.35 0.35 0.36 0.37 0.37 0.37 0.37 0.38 0.39 0.4  0.4  0.41 0.42 0.42\n",
      "  0.42 0.42 0.42 0.42 0.42 0.42 0.42 0.42 0.42 0.42 0.42 0.42 0.43 0.44\n",
      "  0.45 0.45 0.46 0.47 0.47 0.48 0.48 0.48 0.49 0.5  0.51 0.52 0.52 0.53\n",
      "  0.54 0.54 0.55 0.55 0.56 0.56 0.57 0.57 0.58 0.59 0.6  0.6  0.61 0.61\n",
      "  0.61 0.62 0.63 0.64 0.64 0.64 0.64 0.64 0.64 0.64 0.64 0.64 0.64 0.65\n",
      "  0.65 0.65 0.65 0.66 0.66 0.66 0.66 0.66 0.66 0.67 0.67 0.68 0.69 0.69\n",
      "  0.7  0.7  0.7  0.7  0.7  0.71 0.72 0.73 0.74 0.74 0.74 0.74 0.75 0.75\n",
      "  0.75 0.76 0.76 0.77 0.77 0.78 0.78 0.78 0.79 0.8  0.81 0.82 0.82 0.82\n",
      "  0.83 0.83 0.83 0.83 0.84 0.84 0.84 0.85 0.86 0.86 0.87 0.88 0.89 0.9\n",
      "  0.9  0.91 0.91 0.92 0.93 0.93 0.94 0.95 0.95 0.95 0.96 0.97 0.98 0.99\n",
      "  0.99 1.   1.   1.  ]]\n"
     ]
    }
   ],
   "source": [
    "print(recall_nI)"
   ]
  },
  {
   "cell_type": "code",
   "execution_count": 61,
   "metadata": {},
   "outputs": [
    {
     "name": "stdout",
     "output_type": "stream",
     "text": [
      "[[0.   0.01 0.02 0.02 0.02 0.03 0.03 0.04 0.05 0.05 0.06 0.06 0.07 0.07\n",
      "  0.08 0.09 0.1  0.11 0.11 0.12 0.12 0.12 0.13 0.14 0.15 0.16 0.16 0.16\n",
      "  0.17 0.17 0.18 0.19 0.2  0.21 0.22 0.23 0.24 0.25 0.26 0.26 0.27 0.27\n",
      "  0.28 0.29 0.3  0.3  0.31 0.32 0.33 0.33 0.33 0.34 0.34 0.35 0.35 0.36\n",
      "  0.37 0.37 0.37 0.38 0.39 0.4  0.4  0.41 0.41 0.41 0.42 0.43 0.43 0.44\n",
      "  0.45 0.46 0.46 0.47 0.48 0.49 0.5  0.5  0.51 0.52 0.52 0.53 0.54 0.55\n",
      "  0.56 0.56 0.56 0.56 0.56 0.57 0.57 0.57 0.58 0.58 0.59 0.59 0.59 0.6\n",
      "  0.61 0.62 0.62 0.62 0.62 0.62 0.63 0.64 0.65 0.65 0.65 0.65 0.65 0.66\n",
      "  0.67 0.67 0.68 0.68 0.69 0.69 0.69 0.69 0.69 0.69 0.69 0.7  0.71 0.71\n",
      "  0.71 0.71 0.71 0.71 0.72 0.73 0.73 0.73 0.73 0.73 0.74 0.75 0.76 0.76\n",
      "  0.76 0.76 0.77 0.78 0.79 0.79 0.8  0.8  0.81 0.81 0.81 0.81 0.81 0.82\n",
      "  0.82 0.83 0.84 0.85 0.85 0.85 0.85 0.86 0.86 0.87 0.88 0.88 0.88 0.89\n",
      "  0.89 0.9  0.91 0.91 0.91 0.92 0.92 0.92 0.92 0.92 0.92 0.92 0.92 0.92\n",
      "  0.92 0.92 0.93 0.94 0.95 0.95 0.95 0.96 0.96 0.96 0.97 0.97 0.97 0.97\n",
      "  0.98 0.99 0.99 1.  ]]\n"
     ]
    }
   ],
   "source": [
    "print(recall_I)"
   ]
  },
  {
   "cell_type": "code",
   "execution_count": 62,
   "metadata": {},
   "outputs": [
    {
     "name": "stdout",
     "output_type": "stream",
     "text": [
      "[[1.   1.   1.   0.99 0.99 0.99 0.99 0.99 0.99 0.99 0.99 0.98 0.98 0.98\n",
      "  0.98 0.98 0.98 0.98 0.98 0.98 0.98 0.98 0.98 0.98 0.98 0.97 0.97 0.96\n",
      "  0.95 0.95 0.95 0.94 0.93 0.93 0.92 0.91 0.9  0.89 0.88 0.88 0.87 0.86\n",
      "  0.85 0.84 0.83 0.83 0.82 0.81 0.81 0.8  0.79 0.79 0.79 0.78 0.78 0.78\n",
      "  0.78 0.77 0.77 0.77 0.76 0.75 0.74 0.74 0.74 0.74 0.73 0.73 0.73 0.72\n",
      "  0.71 0.7  0.69 0.68 0.67 0.66 0.65 0.64 0.63 0.62 0.61 0.6  0.6  0.6\n",
      "  0.6  0.59 0.59 0.59 0.58 0.58 0.57 0.56 0.56 0.56 0.56 0.56 0.55 0.55\n",
      "  0.55 0.54 0.54 0.53 0.53 0.52 0.52 0.51 0.51 0.51 0.51 0.5  0.5  0.49\n",
      "  0.48 0.48 0.48 0.48 0.47 0.46 0.45 0.44 0.43 0.42 0.41 0.4  0.39 0.39\n",
      "  0.38 0.37 0.36 0.36 0.35 0.34 0.33 0.32 0.31 0.31 0.3  0.3  0.3  0.29\n",
      "  0.29 0.28 0.27 0.26 0.25 0.25 0.25 0.25 0.25 0.24 0.23 0.22 0.22 0.21\n",
      "  0.2  0.2  0.19 0.19 0.18 0.18 0.17 0.16 0.16 0.16 0.16 0.16 0.15 0.14\n",
      "  0.14 0.13 0.12 0.11 0.11 0.1  0.09 0.09 0.09 0.08 0.08 0.08 0.08 0.08\n",
      "  0.07 0.07 0.06 0.06 0.06 0.05 0.05 0.05 0.04 0.03 0.03 0.03 0.03 0.03\n",
      "  0.02 0.02 0.01 0.  ]]\n"
     ]
    }
   ],
   "source": [
    "print(specificity_nI)"
   ]
  },
  {
   "cell_type": "code",
   "execution_count": 63,
   "metadata": {},
   "outputs": [
    {
     "name": "stdout",
     "output_type": "stream",
     "text": [
      "[[0.99 0.99 0.99 0.98 0.97 0.97 0.96 0.96 0.96 0.95 0.95 0.94 0.94 0.93\n",
      "  0.93 0.93 0.93 0.93 0.92 0.92 0.91 0.9  0.9  0.9  0.9  0.9  0.89 0.88\n",
      "  0.88 0.87 0.87 0.87 0.87 0.87 0.87 0.87 0.87 0.87 0.87 0.86 0.86 0.85\n",
      "  0.85 0.85 0.85 0.84 0.84 0.84 0.84 0.83 0.82 0.82 0.81 0.81 0.8  0.8\n",
      "  0.8  0.79 0.78 0.78 0.78 0.78 0.77 0.77 0.76 0.75 0.75 0.75 0.74 0.74\n",
      "  0.74 0.74 0.73 0.73 0.73 0.73 0.73 0.72 0.72 0.72 0.71 0.71 0.71 0.71\n",
      "  0.71 0.7  0.69 0.68 0.67 0.67 0.66 0.65 0.65 0.64 0.64 0.63 0.62 0.62\n",
      "  0.62 0.62 0.61 0.6  0.59 0.58 0.58 0.58 0.58 0.57 0.56 0.55 0.54 0.54\n",
      "  0.54 0.53 0.53 0.52 0.52 0.51 0.5  0.49 0.48 0.47 0.46 0.46 0.46 0.45\n",
      "  0.44 0.43 0.42 0.41 0.41 0.41 0.4  0.39 0.38 0.37 0.37 0.37 0.37 0.36\n",
      "  0.35 0.34 0.34 0.34 0.34 0.33 0.33 0.32 0.32 0.31 0.3  0.29 0.28 0.28\n",
      "  0.27 0.27 0.27 0.27 0.26 0.25 0.24 0.24 0.23 0.23 0.23 0.22 0.21 0.21\n",
      "  0.2  0.2  0.2  0.19 0.18 0.18 0.17 0.16 0.15 0.14 0.13 0.12 0.11 0.1\n",
      "  0.09 0.08 0.08 0.08 0.08 0.07 0.06 0.06 0.05 0.04 0.04 0.03 0.02 0.01\n",
      "  0.01 0.01 0.   0.  ]]\n"
     ]
    }
   ],
   "source": [
    "print(specificity_I)"
   ]
  },
  {
   "cell_type": "code",
   "execution_count": 64,
   "metadata": {},
   "outputs": [
    {
     "name": "stdout",
     "output_type": "stream",
     "text": [
      "[[0.01 0.02 0.03 0.03 0.04 0.05 0.06 0.07 0.08 0.09 0.1  0.1  0.11 0.12\n",
      "  0.13 0.14 0.15 0.16 0.17 0.18 0.19 0.2  0.21 0.22 0.23 0.23 0.24 0.24\n",
      "  0.24 0.25 0.26 0.26 0.26 0.27 0.27 0.27 0.27 0.27 0.27 0.28 0.28 0.28\n",
      "  0.28 0.28 0.28 0.29 0.29 0.29 0.3  0.3  0.3  0.31 0.32 0.32 0.33 0.34\n",
      "  0.35 0.35 0.36 0.37 0.37 0.37 0.37 0.38 0.39 0.4  0.4  0.41 0.42 0.42\n",
      "  0.42 0.42 0.42 0.42 0.42 0.42 0.42 0.42 0.42 0.42 0.42 0.42 0.43 0.44\n",
      "  0.45 0.45 0.46 0.47 0.47 0.48 0.48 0.48 0.49 0.5  0.51 0.52 0.52 0.53\n",
      "  0.54 0.54 0.55 0.55 0.56 0.56 0.57 0.57 0.58 0.59 0.6  0.6  0.61 0.61\n",
      "  0.61 0.62 0.63 0.64 0.64 0.64 0.64 0.64 0.64 0.64 0.64 0.64 0.64 0.65\n",
      "  0.65 0.65 0.65 0.66 0.66 0.66 0.66 0.66 0.66 0.67 0.67 0.68 0.69 0.69\n",
      "  0.7  0.7  0.7  0.7  0.7  0.71 0.72 0.73 0.74 0.74 0.74 0.74 0.75 0.75\n",
      "  0.75 0.76 0.76 0.77 0.77 0.78 0.78 0.78 0.79 0.8  0.81 0.82 0.82 0.82\n",
      "  0.83 0.83 0.83 0.83 0.84 0.84 0.84 0.85 0.86 0.86 0.87 0.88 0.89 0.9\n",
      "  0.9  0.91 0.91 0.92 0.93 0.93 0.94 0.95 0.95 0.95 0.96 0.97 0.98 0.99\n",
      "  0.99 1.   1.   1.  ]]\n"
     ]
    }
   ],
   "source": [
    "print(sensitivity_nI)"
   ]
  },
  {
   "cell_type": "code",
   "execution_count": 65,
   "metadata": {},
   "outputs": [
    {
     "name": "stdout",
     "output_type": "stream",
     "text": [
      "[[0.   0.01 0.02 0.02 0.02 0.03 0.03 0.04 0.05 0.05 0.06 0.06 0.07 0.07\n",
      "  0.08 0.09 0.1  0.11 0.11 0.12 0.12 0.12 0.13 0.14 0.15 0.16 0.16 0.16\n",
      "  0.17 0.17 0.18 0.19 0.2  0.21 0.22 0.23 0.24 0.25 0.26 0.26 0.27 0.27\n",
      "  0.28 0.29 0.3  0.3  0.31 0.32 0.33 0.33 0.33 0.34 0.34 0.35 0.35 0.36\n",
      "  0.37 0.37 0.37 0.38 0.39 0.4  0.4  0.41 0.41 0.41 0.42 0.43 0.43 0.44\n",
      "  0.45 0.46 0.46 0.47 0.48 0.49 0.5  0.5  0.51 0.52 0.52 0.53 0.54 0.55\n",
      "  0.56 0.56 0.56 0.56 0.56 0.57 0.57 0.57 0.58 0.58 0.59 0.59 0.59 0.6\n",
      "  0.61 0.62 0.62 0.62 0.62 0.62 0.63 0.64 0.65 0.65 0.65 0.65 0.65 0.66\n",
      "  0.67 0.67 0.68 0.68 0.69 0.69 0.69 0.69 0.69 0.69 0.69 0.7  0.71 0.71\n",
      "  0.71 0.71 0.71 0.71 0.72 0.73 0.73 0.73 0.73 0.73 0.74 0.75 0.76 0.76\n",
      "  0.76 0.76 0.77 0.78 0.79 0.79 0.8  0.8  0.81 0.81 0.81 0.81 0.81 0.82\n",
      "  0.82 0.83 0.84 0.85 0.85 0.85 0.85 0.86 0.86 0.87 0.88 0.88 0.88 0.89\n",
      "  0.89 0.9  0.91 0.91 0.91 0.92 0.92 0.92 0.92 0.92 0.92 0.92 0.92 0.92\n",
      "  0.92 0.92 0.93 0.94 0.95 0.95 0.95 0.96 0.96 0.96 0.97 0.97 0.97 0.97\n",
      "  0.98 0.99 0.99 1.  ]]\n"
     ]
    }
   ],
   "source": [
    "print(sensitivity_I)"
   ]
  },
  {
   "cell_type": "code",
   "execution_count": 66,
   "metadata": {},
   "outputs": [
    {
     "data": {
      "text/plain": [
       "array([0.59521564])"
      ]
     },
     "execution_count": 66,
     "metadata": {},
     "output_type": "execute_result"
    }
   ],
   "source": [
    "pr_moy_nI=np.sum(precision_nI[0,:])/precision_nI[0,:].shape\n",
    "pr_moy_nI"
   ]
  },
  {
   "cell_type": "code",
   "execution_count": 67,
   "metadata": {},
   "outputs": [
    {
     "data": {
      "text/plain": [
       "array([0.57394803])"
      ]
     },
     "execution_count": 67,
     "metadata": {},
     "output_type": "execute_result"
    }
   ],
   "source": [
    "pr_moy_I=np.sum(precision_I[0,:])/precision_I[0,:].shape\n",
    "pr_moy_I"
   ]
  },
  {
   "cell_type": "code",
   "execution_count": 68,
   "metadata": {},
   "outputs": [
    {
     "data": {
      "image/png": "[encoded data removed]",
      "text/plain": [
       "<Figure size 432x288 with 1 Axes>"
      ]
     },
     "metadata": {
      "needs_background": "light"
     },
     "output_type": "display_data"
    }
   ],
   "source": [
    "plt.grid(True)\n",
    "plt.ylabel(\"Precision\")\n",
    "plt.xlabel(\"Recall\")\n",
    "plt.plot(recall_nI[0,:],precision_nI[0,:],color=\"green\")\n",
    "plt.show()"
   ]
  },
  {
   "cell_type": "code",
   "execution_count": 69,
   "metadata": {},
   "outputs": [
    {
     "data": {
      "image/png": "[encoded data removed]",
      "text/plain": [
       "<Figure size 432x288 with 1 Axes>"
      ]
     },
     "metadata": {
      "needs_background": "light"
     },
     "output_type": "display_data"
    }
   ],
   "source": [
    "plt.grid(True)\n",
    "plt.ylabel(\"Precision\")\n",
    "plt.xlabel(\"Recall\")\n",
    "plt.plot(recall_I[0,:],precision_I[0,:],color=\"red\")\n",
    "plt.show()"
   ]
  },
  {
   "cell_type": "code",
   "execution_count": 70,
   "metadata": {},
   "outputs": [],
   "source": [
    "def determiner_KNN_images(index_img_requete,nbr_img_recuperes):\n",
    "    matrice_dest=mat_index[index_img_requete,:]\n",
    "    mat_index_proches=matrice_dest[0:nbr_img_recuperes]#les indices k plus proches\n",
    "    \n",
    "    k=1\n",
    "    for i in mat_index_proches:\n",
    "        target=filename_train + str(i) +\".png\"\n",
    "        pic=plt.imread(target)\n",
    "        plt.subplot(2,4,k)\n",
    "        if i>0 and i<100:\n",
    "            img_status='Non infectée'\n",
    "            plt.title(img_status)\n",
    "        elif i>=100 and i<200:\n",
    "            img_status=\"Infectée\"\n",
    "            plt.title(img_status)\n",
    "        plt.imshow(pic)\n",
    "        k=k+1"
   ]
  },
  {
   "cell_type": "code",
   "execution_count": 71,
   "metadata": {},
   "outputs": [
    {
     "name": "stdout",
     "output_type": "stream",
     "text": [
      "donner le numero d'image:2\n",
      "donner le nombre des images plus proches:8\n"
     ]
    },
    {
     "data": {
      "image/png": "[encoded data removed]",
      "text/plain": [
       "<Figure size 432x288 with 8 Axes>"
      ]
     },
     "metadata": {
      "needs_background": "light"
     },
     "output_type": "display_data"
    }
   ],
   "source": [
    "index_image=int(input(\"donner le numero d'image:\"))\n",
    "nbr_img_recuperes=int(input(\"donner le nombre des images plus proches:\"))\n",
    "determiner_KNN_images(index_image,nbr_img_recuperes)"
   ]
  },
  {
   "cell_type": "code",
   "execution_count": 43,
   "metadata": {},
   "outputs": [],
   "source": [
    "import os \n",
    "  \n",
    "folder=\"C:\\\\Users\\\\RACHID AHSOUNE\\\\Desktop\\\\SideProjects\\\\Malaria_project\\\\Malaria_project\\\\\\testing_paralized\"\n",
    "# Function to rename multiple files \n",
    "def main(): \n",
    "    k=301\n",
    "    for root, dirs, filenames in os.walk(folder):\n",
    "        for filename in filenames:\n",
    "            old_filename = os.path.join(root, filename)\n",
    "            dst = str(k) + \".png\"\n",
    "            k=k+1\n",
    "            print(dst)\n",
    "\n",
    "            # rename() function will \n",
    "            # rename all the files \n",
    "            os.rename(old_filename, old_filename.replace(filename,dst)) \n",
    "  "
   ]
  },
  {
   "cell_type": "code",
   "execution_count": 44,
   "metadata": {},
   "outputs": [
    {
     "name": "stdout",
     "output_type": "stream",
     "text": [
      "301.png\n",
      "302.png\n",
      "303.png\n",
      "304.png\n",
      "305.png\n",
      "306.png\n",
      "307.png\n",
      "308.png\n",
      "309.png\n",
      "310.png\n",
      "311.png\n",
      "312.png\n",
      "313.png\n",
      "314.png\n",
      "315.png\n",
      "316.png\n",
      "317.png\n",
      "318.png\n",
      "319.png\n",
      "320.png\n",
      "321.png\n",
      "322.png\n",
      "323.png\n",
      "324.png\n",
      "325.png\n",
      "326.png\n",
      "327.png\n",
      "328.png\n",
      "329.png\n",
      "330.png\n",
      "331.png\n",
      "332.png\n",
      "333.png\n",
      "334.png\n",
      "335.png\n",
      "336.png\n",
      "337.png\n",
      "338.png\n",
      "339.png\n",
      "340.png\n",
      "341.png\n",
      "342.png\n",
      "343.png\n",
      "344.png\n",
      "345.png\n",
      "346.png\n",
      "347.png\n",
      "348.png\n",
      "349.png\n",
      "350.png\n",
      "351.png\n",
      "352.png\n",
      "353.png\n",
      "354.png\n",
      "355.png\n",
      "356.png\n",
      "357.png\n",
      "358.png\n",
      "359.png\n",
      "360.png\n",
      "361.png\n",
      "362.png\n",
      "363.png\n",
      "364.png\n",
      "365.png\n",
      "366.png\n",
      "367.png\n",
      "368.png\n",
      "369.png\n",
      "370.png\n",
      "371.png\n",
      "372.png\n",
      "373.png\n",
      "374.png\n",
      "375.png\n",
      "376.png\n",
      "377.png\n",
      "378.png\n",
      "379.png\n",
      "380.png\n",
      "381.png\n",
      "382.png\n",
      "383.png\n",
      "384.png\n",
      "385.png\n",
      "386.png\n",
      "387.png\n",
      "388.png\n",
      "389.png\n",
      "390.png\n",
      "391.png\n",
      "392.png\n",
      "393.png\n",
      "394.png\n",
      "395.png\n",
      "396.png\n",
      "397.png\n",
      "398.png\n",
      "399.png\n",
      "400.png\n",
      "401.png\n",
      "402.png\n",
      "403.png\n",
      "404.png\n",
      "405.png\n",
      "406.png\n",
      "407.png\n",
      "408.png\n",
      "409.png\n",
      "410.png\n",
      "411.png\n",
      "412.png\n",
      "413.png\n",
      "414.png\n",
      "415.png\n",
      "416.png\n",
      "417.png\n",
      "418.png\n",
      "419.png\n",
      "420.png\n",
      "421.png\n",
      "422.png\n",
      "423.png\n",
      "424.png\n",
      "425.png\n",
      "426.png\n",
      "427.png\n",
      "428.png\n",
      "429.png\n",
      "430.png\n",
      "431.png\n",
      "432.png\n",
      "433.png\n",
      "434.png\n",
      "435.png\n",
      "436.png\n",
      "437.png\n",
      "438.png\n",
      "439.png\n",
      "440.png\n",
      "441.png\n",
      "442.png\n",
      "443.png\n",
      "444.png\n",
      "445.png\n",
      "446.png\n",
      "447.png\n",
      "448.png\n",
      "449.png\n",
      "450.png\n",
      "451.png\n",
      "452.png\n",
      "453.png\n",
      "454.png\n",
      "455.png\n",
      "456.png\n",
      "457.png\n",
      "458.png\n",
      "459.png\n",
      "460.png\n",
      "461.png\n",
      "462.png\n",
      "463.png\n",
      "464.png\n",
      "465.png\n",
      "466.png\n",
      "467.png\n",
      "468.png\n",
      "469.png\n",
      "470.png\n",
      "471.png\n",
      "472.png\n",
      "473.png\n",
      "474.png\n",
      "475.png\n",
      "476.png\n",
      "477.png\n",
      "478.png\n",
      "479.png\n",
      "480.png\n",
      "481.png\n",
      "482.png\n",
      "483.png\n",
      "484.png\n",
      "485.png\n",
      "486.png\n",
      "487.png\n",
      "488.png\n",
      "489.png\n",
      "490.png\n",
      "491.png\n",
      "492.png\n",
      "493.png\n",
      "494.png\n",
      "495.png\n",
      "496.png\n",
      "497.png\n",
      "498.png\n",
      "499.png\n",
      "500.png\n",
      "501.png\n",
      "502.png\n",
      "503.png\n",
      "504.png\n",
      "505.png\n",
      "506.png\n",
      "507.png\n",
      "508.png\n",
      "509.png\n",
      "510.png\n",
      "511.png\n",
      "512.png\n",
      "513.png\n",
      "514.png\n",
      "515.png\n",
      "516.png\n",
      "517.png\n",
      "518.png\n",
      "519.png\n",
      "520.png\n",
      "521.png\n",
      "522.png\n",
      "523.png\n",
      "524.png\n",
      "525.png\n",
      "526.png\n",
      "527.png\n",
      "528.png\n",
      "529.png\n",
      "530.png\n",
      "531.png\n",
      "532.png\n",
      "533.png\n",
      "534.png\n",
      "535.png\n",
      "536.png\n",
      "537.png\n",
      "538.png\n",
      "539.png\n",
      "540.png\n",
      "541.png\n",
      "542.png\n",
      "543.png\n",
      "544.png\n",
      "545.png\n",
      "546.png\n",
      "547.png\n",
      "548.png\n",
      "549.png\n",
      "550.png\n",
      "551.png\n",
      "552.png\n",
      "553.png\n",
      "554.png\n",
      "555.png\n",
      "556.png\n",
      "557.png\n",
      "558.png\n",
      "559.png\n",
      "560.png\n",
      "561.png\n",
      "562.png\n",
      "563.png\n",
      "564.png\n",
      "565.png\n",
      "566.png\n",
      "567.png\n",
      "568.png\n",
      "569.png\n",
      "570.png\n",
      "571.png\n",
      "572.png\n",
      "573.png\n",
      "574.png\n",
      "575.png\n",
      "576.png\n",
      "577.png\n",
      "578.png\n",
      "579.png\n",
      "580.png\n",
      "581.png\n",
      "582.png\n",
      "583.png\n",
      "584.png\n",
      "585.png\n",
      "586.png\n",
      "587.png\n",
      "588.png\n",
      "589.png\n",
      "590.png\n",
      "591.png\n",
      "592.png\n",
      "593.png\n",
      "594.png\n",
      "595.png\n",
      "596.png\n",
      "597.png\n",
      "598.png\n",
      "599.png\n",
      "600.png\n"
     ]
    }
   ],
   "source": [
    "main()"
   ]
  },
  {
   "cell_type": "code",
   "execution_count": null,
   "metadata": {},
   "outputs": [],
   "source": []
  }
 ],
 "metadata": {
  "kernelspec": {
   "display_name": "Anaconda (mini-projet)",
   "language": "python",
   "name": "anaconda-mini-projet"
  },
  "language_info": {
   "codemirror_mode": {
    "name": "ipython",
    "version": 3
   },
   "file_extension": ".py",
   "mimetype": "text/x-python",
   "name": "python",
   "nbconvert_exporter": "python",
   "pygments_lexer": "ipython3",
   "version": "3.6.9"
  }
 },
 "nbformat": 4,
 "nbformat_minor": 4
}
