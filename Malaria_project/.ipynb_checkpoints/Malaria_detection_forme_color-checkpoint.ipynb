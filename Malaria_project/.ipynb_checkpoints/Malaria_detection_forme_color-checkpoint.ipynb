{
 "cells": [
  {
   "cell_type": "code",
   "execution_count": 1,
   "metadata": {},
   "outputs": [
    {
     "name": "stdout",
     "output_type": "stream",
     "text": [
      "^C\n",
      "Note: you may need to restart the kernel to use updated packages.\n"
     ]
    }
   ],
   "source": [
    "pip install opencv-python"
   ]
  },
  {
   "cell_type": "code",
   "execution_count": 14,
   "metadata": {},
   "outputs": [],
   "source": [
    "import numpy as np\n",
    "import matplotlib.pyplot as plt\n",
    "import cv2"
   ]
  },
  {
   "cell_type": "code",
   "execution_count": 15,
   "metadata": {},
   "outputs": [
    {
     "name": "stdout",
     "output_type": "stream",
     "text": [
      "(100, 100, 3)\n"
     ]
    }
   ],
   "source": [
    "#resize a image from the dataset\n",
    "img = cv2.imread('dataset/training_set/109.png')\n",
    "img_resized = cv2.resize(img, dsize=(100,100), interpolation=cv2.INTER_CUBIC)\n",
    "taille=img_resized.shape\n",
    "print(taille)\n",
    " "
   ]
  },
  {
   "cell_type": "code",
   "execution_count": 4,
   "metadata": {},
   "outputs": [],
   "source": [
    "#plt.imshow(img) #draws an image on the current figure (creates a figure if there isn't a current figure)\n",
    "#plt.show()"
   ]
  },
  {
   "cell_type": "code",
   "execution_count": 5,
   "metadata": {},
   "outputs": [],
   "source": [
    "#def rgb2gray(I):\n",
    "   # r, g, b = I[:,:,0], I[:,:,1], I[:,:,2]\n",
    "    #gray = 0.2989 * r + 0.5870 * g + 0.1140 * b\n",
    "    #return gray"
   ]
  },
  {
   "cell_type": "code",
   "execution_count": 6,
   "metadata": {},
   "outputs": [],
   "source": [
    "#I_gray=rgb2gray(img_resized)\n",
    "#plt.imshow(I_gray,cmap=plt.get_cmap('gray')) #draws an image on the current figure (creates a figure if there isn't a current figure)\n",
    "#plt.show() #displays the figure"
   ]
  },
  {
   "cell_type": "code",
   "execution_count": 7,
   "metadata": {},
   "outputs": [],
   "source": [
    "#img_resized"
   ]
  },
  {
   "cell_type": "code",
   "execution_count": 17,
   "metadata": {},
   "outputs": [],
   "source": [
    "def Laplacian(I):\n",
    "    img_lap=cv2.Laplacian(I,cv2.CV_8U,-1)\n",
    "    r, g, b = img_lap[:,:,0], img_lap[:,:,1], img_lap[:,:,2]\n",
    "    gray_lap= 0.2989 * r + 0.5870 * g + 0.1140 * b\n",
    "    #plt.imshow(gray_lap,cmap='gray')\n",
    "    #plt.show()\n",
    "    return gray_lap"
   ]
  },
  {
   "cell_type": "code",
   "execution_count": 18,
   "metadata": {},
   "outputs": [
    {
     "name": "stdout",
     "output_type": "stream",
     "text": [
      "(100, 100)\n"
     ]
    }
   ],
   "source": [
    "img_lap=Laplacian(img_resized)\n",
    "taille=img_lap.shape\n",
    "print(taille)\n",
    "# nl,nc=taille"
   ]
  },
  {
   "cell_type": "code",
   "execution_count": 19,
   "metadata": {},
   "outputs": [],
   "source": [
    "filename_train=\"./dataset/training_set/\"\n",
    "filename_test=\"./dataset/testing_set/\"\n",
    "nbr_im=200\n"
   ]
  },
  {
   "cell_type": "code",
   "execution_count": 20,
   "metadata": {},
   "outputs": [],
   "source": [
    "#read the dataset and normalize it\n",
    "def stocker_images(nbr_im, filename):\n",
    "    nl,nc=taille\n",
    "    mat_image=np.zeros((nl,nc,nbr_im))\n",
    "    for i in range(nbr_im):\n",
    "        target= filename+ str(i+1) + '.png'\n",
    "        img = cv2.imread(target)\n",
    "        img_resized = cv2.resize(img, dsize=(100,100), interpolation=cv2.INTER_CUBIC)\n",
    "        mat_image[:,:,i]= Laplacian(img_resized)      \n",
    "    return mat_image\n"
   ]
  },
  {
   "cell_type": "code",
   "execution_count": 21,
   "metadata": {
    "scrolled": true
   },
   "outputs": [],
   "source": [
    "# mat_image=stocker_images(nbr_im, filename)\n",
    "mat_train_image=stocker_images(nbr_im,filename_train)\n",
    "mat_test_image=stocker_images(nbr_im,filename_test)\n",
    "# mat_test_image "
   ]
  },
  {
   "cell_type": "code",
   "execution_count": 22,
   "metadata": {},
   "outputs": [
    {
     "data": {
      "text/plain": [
       "(100, 100, 200)"
      ]
     },
     "execution_count": 22,
     "metadata": {},
     "output_type": "execute_result"
    }
   ],
   "source": [
    "taille=mat_test_image.shape\n",
    "taille\n"
   ]
  },
  {
   "cell_type": "code",
   "execution_count": 23,
   "metadata": {},
   "outputs": [
    {
     "data": {
      "text/plain": [
       "(100, 100, 200)"
      ]
     },
     "execution_count": 23,
     "metadata": {},
     "output_type": "execute_result"
    }
   ],
   "source": [
    "taille1=mat_train_image.shape\n",
    "taille1"
   ]
  },
  {
   "cell_type": "code",
   "execution_count": 24,
   "metadata": {},
   "outputs": [],
   "source": [
    "def histo(I):\n",
    "    [nl,nc]=np.shape(I)\n",
    "    h=np.zeros(256,dtype=int)\n",
    "    I_m=np.round(I)\n",
    "    for i in range(0,nl):\n",
    "        for j in range(0,nc):\n",
    "            val=int(I_m[i][j])\n",
    "            h[val]+=1\n",
    "    return h"
   ]
  },
  {
   "cell_type": "code",
   "execution_count": 25,
   "metadata": {},
   "outputs": [],
   "source": [
    "def stocker_histogramme(mat_image):\n",
    "    nl,nc,nb_im=mat_image.shape\n",
    "    mat_histo=np.zeros((nb_im,256))\n",
    "    for i in range(nb_im):\n",
    "        mat_histo[i,:]=histo(mat_image[:,:,i])\n",
    "    return mat_histo"
   ]
  },
  {
   "cell_type": "code",
   "execution_count": 26,
   "metadata": {},
   "outputs": [],
   "source": [
    "mat_histo_testing=stocker_histogramme(mat_test_image)\n",
    "mat_histo_training=stocker_histogramme(mat_train_image)"
   ]
  },
  {
   "cell_type": "code",
   "execution_count": 27,
   "metadata": {},
   "outputs": [
    {
     "data": {
      "text/plain": [
       "array([[6.023e+03, 9.560e+02, 7.130e+02, ..., 0.000e+00, 1.000e+00,\n",
       "        2.200e+01],\n",
       "       [5.917e+03, 9.730e+02, 7.200e+02, ..., 0.000e+00, 1.000e+00,\n",
       "        1.300e+01],\n",
       "       [5.905e+03, 8.400e+02, 6.200e+02, ..., 2.000e+00, 0.000e+00,\n",
       "        2.200e+01],\n",
       "       ...,\n",
       "       [6.083e+03, 9.120e+02, 6.310e+02, ..., 0.000e+00, 1.000e+00,\n",
       "        3.200e+01],\n",
       "       [5.920e+03, 1.112e+03, 6.570e+02, ..., 0.000e+00, 2.000e+00,\n",
       "        1.300e+01],\n",
       "       [5.631e+03, 9.580e+02, 6.360e+02, ..., 0.000e+00, 0.000e+00,\n",
       "        1.400e+01]])"
      ]
     },
     "execution_count": 27,
     "metadata": {},
     "output_type": "execute_result"
    }
   ],
   "source": [
    "mat_histo_testing"
   ]
  },
  {
   "cell_type": "code",
   "execution_count": 28,
   "metadata": {},
   "outputs": [
    {
     "data": {
      "text/plain": [
       "array([[6.256e+03, 1.122e+03, 7.260e+02, ..., 1.000e+00, 0.000e+00,\n",
       "        2.700e+01],\n",
       "       [5.977e+03, 1.261e+03, 8.360e+02, ..., 1.000e+00, 0.000e+00,\n",
       "        2.800e+01],\n",
       "       [6.023e+03, 1.130e+03, 7.840e+02, ..., 1.000e+00, 4.000e+00,\n",
       "        3.000e+01],\n",
       "       ...,\n",
       "       [5.977e+03, 1.043e+03, 6.720e+02, ..., 2.000e+00, 0.000e+00,\n",
       "        1.400e+01],\n",
       "       [6.078e+03, 9.960e+02, 6.680e+02, ..., 2.000e+00, 1.000e+00,\n",
       "        2.300e+01],\n",
       "       [6.376e+03, 6.490e+02, 4.780e+02, ..., 2.000e+00, 0.000e+00,\n",
       "        1.000e+01]])"
      ]
     },
     "execution_count": 28,
     "metadata": {},
     "output_type": "execute_result"
    }
   ],
   "source": [
    "mat_histo_training"
   ]
  },
  {
   "cell_type": "code",
   "execution_count": 29,
   "metadata": {},
   "outputs": [
    {
     "data": {
      "text/plain": [
       "array([5.905e+03, 8.400e+02, 6.200e+02, 5.260e+02, 4.030e+02, 3.140e+02,\n",
       "       2.580e+02, 2.250e+02, 1.410e+02, 8.800e+01, 7.900e+01, 5.700e+01,\n",
       "       3.700e+01, 3.700e+01, 2.600e+01, 2.000e+01, 1.700e+01, 7.000e+00,\n",
       "       1.100e+01, 4.000e+00, 2.000e+00, 6.000e+00, 2.000e+00, 2.000e+00,\n",
       "       5.000e+00, 3.000e+00, 2.000e+00, 6.000e+00, 6.000e+00, 2.000e+00,\n",
       "       1.200e+01, 4.000e+00, 2.000e+00, 3.000e+00, 2.000e+00, 3.000e+00,\n",
       "       2.000e+00, 0.000e+00, 1.000e+00, 3.000e+00, 1.000e+00, 2.000e+00,\n",
       "       1.000e+00, 3.000e+00, 4.000e+00, 0.000e+00, 0.000e+00, 0.000e+00,\n",
       "       1.000e+00, 2.000e+00, 3.000e+00, 0.000e+00, 1.000e+00, 5.000e+00,\n",
       "       1.200e+01, 6.000e+00, 4.000e+00, 3.000e+00, 1.000e+00, 2.000e+00,\n",
       "       0.000e+00, 1.000e+00, 2.000e+00, 2.000e+00, 3.000e+00, 3.000e+00,\n",
       "       2.000e+00, 3.000e+00, 3.000e+00, 1.000e+00, 1.000e+00, 0.000e+00,\n",
       "       2.000e+00, 2.000e+00, 1.000e+00, 1.000e+00, 0.000e+00, 0.000e+00,\n",
       "       2.000e+00, 2.000e+00, 3.000e+00, 0.000e+00, 1.000e+00, 1.000e+00,\n",
       "       2.000e+00, 0.000e+00, 1.000e+00, 0.000e+00, 0.000e+00, 0.000e+00,\n",
       "       3.000e+00, 1.000e+00, 1.000e+00, 1.000e+00, 1.000e+00, 3.000e+00,\n",
       "       2.000e+00, 4.000e+00, 4.000e+00, 1.000e+00, 4.000e+00, 3.000e+00,\n",
       "       0.000e+00, 1.000e+00, 1.000e+00, 2.000e+00, 1.000e+00, 3.000e+00,\n",
       "       2.000e+00, 3.000e+00, 1.100e+01, 8.000e+00, 6.000e+00, 6.000e+00,\n",
       "       4.000e+00, 2.000e+00, 3.000e+00, 1.000e+00, 1.000e+00, 0.000e+00,\n",
       "       0.000e+00, 1.000e+00, 0.000e+00, 2.000e+00, 0.000e+00, 0.000e+00,\n",
       "       3.000e+00, 0.000e+00, 1.000e+00, 1.000e+00, 0.000e+00, 3.000e+00,\n",
       "       0.000e+00, 3.000e+00, 0.000e+00, 2.000e+00, 1.000e+00, 1.000e+00,\n",
       "       1.000e+00, 1.000e+00, 0.000e+00, 4.000e+00, 3.000e+00, 2.000e+00,\n",
       "       3.000e+00, 1.000e+00, 0.000e+00, 1.000e+00, 1.000e+00, 0.000e+00,\n",
       "       2.000e+00, 2.000e+00, 1.000e+00, 0.000e+00, 5.000e+00, 7.000e+00,\n",
       "       0.000e+00, 2.000e+00, 3.000e+00, 0.000e+00, 2.000e+00, 1.000e+00,\n",
       "       0.000e+00, 1.000e+00, 1.000e+00, 1.000e+00, 1.000e+00, 3.000e+00,\n",
       "       0.000e+00, 1.000e+00, 4.000e+00, 1.000e+00, 1.000e+00, 1.000e+00,\n",
       "       2.000e+00, 1.000e+00, 2.000e+00, 1.000e+00, 2.000e+00, 0.000e+00,\n",
       "       4.000e+00, 0.000e+00, 1.000e+00, 2.000e+00, 1.000e+00, 2.000e+00,\n",
       "       2.000e+00, 0.000e+00, 1.000e+00, 0.000e+00, 1.000e+00, 0.000e+00,\n",
       "       0.000e+00, 0.000e+00, 0.000e+00, 1.000e+00, 0.000e+00, 0.000e+00,\n",
       "       0.000e+00, 1.000e+00, 1.000e+00, 2.000e+00, 0.000e+00, 0.000e+00,\n",
       "       1.000e+00, 1.000e+00, 1.000e+00, 0.000e+00, 0.000e+00, 0.000e+00,\n",
       "       1.000e+00, 0.000e+00, 0.000e+00, 0.000e+00, 0.000e+00, 0.000e+00,\n",
       "       0.000e+00, 0.000e+00, 1.000e+00, 0.000e+00, 2.000e+00, 0.000e+00,\n",
       "       1.000e+00, 0.000e+00, 0.000e+00, 0.000e+00, 0.000e+00, 0.000e+00,\n",
       "       0.000e+00, 0.000e+00, 2.000e+00, 0.000e+00, 0.000e+00, 0.000e+00,\n",
       "       1.000e+00, 0.000e+00, 1.000e+00, 1.000e+00, 0.000e+00, 1.000e+00,\n",
       "       0.000e+00, 0.000e+00, 0.000e+00, 0.000e+00, 0.000e+00, 0.000e+00,\n",
       "       1.000e+00, 1.000e+00, 0.000e+00, 0.000e+00, 1.000e+00, 1.000e+00,\n",
       "       0.000e+00, 2.000e+00, 0.000e+00, 2.200e+01])"
      ]
     },
     "execution_count": 29,
     "metadata": {},
     "output_type": "execute_result"
    }
   ],
   "source": [
    "#affichage l'histogramme du premier image test\n",
    "hs=mat_histo_testing[2,:]\n",
    "hs"
   ]
  },
  {
   "cell_type": "code",
   "execution_count": 30,
   "metadata": {},
   "outputs": [
    {
     "data": {
      "image/png": "[encoded data removed]",
      "text/plain": [
       "<Figure size 432x288 with 1 Axes>"
      ]
     },
     "metadata": {
      "needs_background": "light"
     },
     "output_type": "display_data"
    }
   ],
   "source": [
    "pixel=np.arange(len(mat_histo_testing[1,:]))\n",
    "plt.bar(pixel,mat_histo_testing[1,:],color='green')\n",
    "plt.xlabel('Pixel')\n",
    "plt.ylabel('Frequency')\n",
    "plt.show()"
   ]
  },
  {
   "cell_type": "code",
   "execution_count": 31,
   "metadata": {},
   "outputs": [],
   "source": [
    "def dist(x,y):\n",
    "    return np.sqrt(np.sum((x-y)**2))"
   ]
  },
  {
   "cell_type": "code",
   "execution_count": 32,
   "metadata": {},
   "outputs": [],
   "source": [
    "def stock_dist(hist1,hist2,nbr_im):\n",
    "    mat_dist=np.zeros((nbr_im,nbr_im))\n",
    "    for i in range(0,nbr_im):\n",
    "        for j in range(0,nbr_im):\n",
    "            mat_dist[i,j]=dist(hist1[i],hist2[j])\n",
    "    return mat_dist"
   ]
  },
  {
   "cell_type": "code",
   "execution_count": 33,
   "metadata": {},
   "outputs": [
    {
     "data": {
      "text/plain": [
       "array([[327.00764517, 364.13733673, 215.95832931, ..., 184.49932249,\n",
       "        110.81516142, 582.55471846],\n",
       "       [411.2955142 , 360.52461774, 235.23605166, ..., 171.16658552,\n",
       "        187.83503401, 651.23421286],\n",
       "       [540.45351326, 553.28292943, 420.31892653, ..., 308.07142029,\n",
       "        288.73863614, 572.75300087],\n",
       "       ...,\n",
       "       [349.28212093, 463.0118789 , 317.0520462 , ..., 212.25927542,\n",
       "        135.10736471, 453.95153926],\n",
       "       [374.66518386, 281.16543173, 209.8427983 , ..., 130.59862174,\n",
       "        215.93980643, 697.08249153],\n",
       "       [710.6110047 , 575.54669663, 514.5347413 , ..., 400.77924098,\n",
       "        484.46465299, 831.68984604]])"
      ]
     },
     "execution_count": 33,
     "metadata": {},
     "output_type": "execute_result"
    }
   ],
   "source": [
    "nbr_im=200\n",
    "mat_dist=stock_dist(mat_histo_testing,mat_histo_training,nbr_im)\n",
    "mat_dist"
   ]
  },
  {
   "cell_type": "code",
   "execution_count": 34,
   "metadata": {},
   "outputs": [
    {
     "data": {
      "text/plain": [
       "array([ 732.61176622,  862.47434744,  716.92537966,  696.06177887,\n",
       "        786.07124359,  662.49830188,  711.04711518,  609.34390946,\n",
       "        728.72079701,  728.18404267,  675.53386296,  750.43987101,\n",
       "        565.8798459 ,  767.32261794,  633.22665768,  729.30651992,\n",
       "        652.81237733,  635.97641466,  556.16724103,  764.51553287,\n",
       "        667.9625738 ,  845.34371708,  616.8678951 ,  800.16998194,\n",
       "        747.48511691,  607.87663222,  755.01523163,  551.78619048,\n",
       "        523.77476075,  807.29424623,  739.71616178,  742.258715  ,\n",
       "        664.14155118,  766.50505543,  565.26630892,  773.47139572,\n",
       "        841.06123439, 1006.74227089,  767.16360706,  232.2972234 ,\n",
       "        362.69546454,  526.0874452 ,  185.47776147,  333.23565235,\n",
       "        425.53495744,  355.13377761,  767.92187103,  306.5778857 ,\n",
       "        494.45727824,  338.78016471,  377.75918255,  345.91328393,\n",
       "        538.75968669,  546.22156677,  468.6128466 ,  596.51655467,\n",
       "        605.94059115,  705.58911556,  255.93358513,  628.50934758,\n",
       "        360.36925507,  725.06827265,  561.87009175,  469.39961653,\n",
       "        528.95179364,  466.73118602,  364.65600228,  374.67852888,\n",
       "        208.28826179,  427.73356193,  368.71940551,  591.08544222,\n",
       "        305.03114595,  579.32374369,  620.2563986 ,  386.82812721,\n",
       "        522.88622089,  522.27004509,  405.57859904,  548.43413461,\n",
       "        588.91934932,  512.19332288,  408.20583043,  488.70440964,\n",
       "        687.72087361,  401.73125345,  439.45875802,  674.213616  ,\n",
       "        484.02066072,  692.27017847,  362.27613777,  455.51289773,\n",
       "        797.55125227,  662.53603676,  436.3370257 ,  502.23500475,\n",
       "        642.15107257,  514.49781341,  696.35623068,  825.52528732,\n",
       "        608.83659548,  728.75235849,  227.87715989,  437.63226572,\n",
       "        563.9680842 ,  236.83327469,  719.07857707,  656.1691855 ,\n",
       "        463.83833391,  469.50186368,  430.76443679,  276.25350677,\n",
       "        252.91895935,  300.39640477,  505.25637057,  443.97747691,\n",
       "        707.00353606,  627.66551602,  719.76801818,  459.07515725,\n",
       "        746.96452392,  406.35698591,  343.18508126,  450.20217681,\n",
       "       1133.90123027,  392.09437639,  413.9734291 ,  369.68635355,\n",
       "        323.28934409,  326.37708253,  697.99713466,  756.06216676,\n",
       "        581.63218618,  809.82467238,  456.58515088,  541.22268984,\n",
       "        600.07166239,  446.46612413,  732.56262531,  625.22475959,\n",
       "        442.78888875,  554.93242832,  273.98540107,  356.14603746,\n",
       "        225.94689642,  454.56572682,  797.49106578,  315.4076727 ,\n",
       "        305.06392773,  784.29713757,  711.91572535,  606.86077481,\n",
       "        726.58378732,  686.4590301 ,  509.34467701,  722.3461774 ,\n",
       "        430.8038997 , 1005.58540164,  528.5205767 ,  559.34425893,\n",
       "        619.84030201, 1397.39042504,  589.6303927 ,  546.13551432,\n",
       "        710.07886886,  504.50173439,  468.26274676,  705.62171168,\n",
       "        580.27924312,  345.54305086,  643.17493732,  561.47840564,\n",
       "        491.13134699,  455.35919887,  622.64757287,  563.06305153,\n",
       "        530.30557229,  352.77755031,  455.64459834,  792.69414026,\n",
       "        550.05817874,  431.1844153 ,  555.1450261 ,  585.70128905,\n",
       "        779.30866799,  515.88564624,  623.4677217 ,  419.8666455 ,\n",
       "        446.17261234,  511.79097296,  479.05114549,  595.28816551,\n",
       "        623.75636269,  507.42881274,  721.15046974,  559.8517661 ,\n",
       "        466.86400589,  574.63031594,  534.75040907,  356.9145556 ])"
      ]
     },
     "execution_count": 34,
     "metadata": {},
     "output_type": "execute_result"
    }
   ],
   "source": [
    "mat_dist[100,:]"
   ]
  },
  {
   "cell_type": "code",
   "execution_count": 37,
   "metadata": {},
   "outputs": [
    {
     "data": {
      "text/plain": [
       "array([[198,  55,  12, ..., 146, 157, 161],\n",
       "       [ 73, 195,  41, ..., 146, 157, 161],\n",
       "       [ 67,  50,  70, ...,  36, 157, 161],\n",
       "       ...,\n",
       "       [181,  91,  48, ..., 146, 157, 161],\n",
       "       [168, 141, 162, ..., 146, 157, 161],\n",
       "       [100,  93,  96, ...,  36, 157, 161]], dtype=int64)"
      ]
     },
     "execution_count": 37,
     "metadata": {},
     "output_type": "execute_result"
    }
   ],
   "source": [
    "#Returns the indices that would sort in mat_dist\n",
    "mat_index=np.argsort(mat_dist,axis=1)\n",
    "mat_index"
   ]
  },
  {
   "cell_type": "code",
   "execution_count": 38,
   "metadata": {},
   "outputs": [
    {
     "data": {
      "text/plain": [
       "array([139,  17,  55,  20, 162, 192,  73,   8,  22, 195], dtype=int64)"
      ]
     },
     "execution_count": 38,
     "metadata": {},
     "output_type": "execute_result"
    }
   ],
   "source": [
    "mat_index[30,0:10]"
   ]
  },
  {
   "cell_type": "code",
   "execution_count": 39,
   "metadata": {},
   "outputs": [
    {
     "data": {
      "text/plain": [
       "(200, 200)"
      ]
     },
     "execution_count": 39,
     "metadata": {},
     "output_type": "execute_result"
    }
   ],
   "source": [
    "mat_index.shape"
   ]
  },
  {
   "cell_type": "code",
   "execution_count": 40,
   "metadata": {},
   "outputs": [],
   "source": [
    "new_mat=np.zeros((200,200))\n",
    "for i in range(200):\n",
    "    if i>=0 and i<=99 :\n",
    "        for j in range(0,200):\n",
    "            if mat_index[i][j]<=99:\n",
    "                    new_mat[i][j]=1\n",
    "            else:\n",
    "                    new_mat[i][j]=0\n",
    "    elif i>=100 and i<=199 :\n",
    "        for j in range(0,200):\n",
    "                if mat_index[i][j]<=199 and mat_index[i][j]>=100:\n",
    "                    new_mat[i][j]=1\n",
    "                else:\n",
    "                    new_mat[i][j]=0                  "
   ]
  },
  {
   "cell_type": "code",
   "execution_count": 41,
   "metadata": {},
   "outputs": [
    {
     "data": {
      "text/plain": [
       "array([[0., 1., 1., ..., 0., 0., 0.],\n",
       "       [1., 0., 1., ..., 0., 0., 0.],\n",
       "       [1., 1., 1., ..., 1., 0., 0.],\n",
       "       ...,\n",
       "       [1., 0., 0., ..., 1., 1., 1.],\n",
       "       [1., 1., 1., ..., 1., 1., 1.],\n",
       "       [1., 0., 0., ..., 0., 1., 1.]])"
      ]
     },
     "execution_count": 41,
     "metadata": {},
     "output_type": "execute_result"
    }
   ],
   "source": [
    "new_mat"
   ]
  },
  {
   "cell_type": "code",
   "execution_count": 42,
   "metadata": {},
   "outputs": [
    {
     "data": {
      "text/plain": [
       "array([0., 1., 1., 1., 1., 1., 0., 1., 0., 1., 0., 0., 0., 1., 0., 1., 1.,\n",
       "       0., 1., 0., 1., 0., 0., 0., 0., 1., 0., 1., 0., 0., 1., 1., 1., 1.,\n",
       "       1., 1., 1., 0., 0., 0., 0., 1., 1., 0., 0., 0., 1., 0., 1., 0., 0.,\n",
       "       0., 1., 1., 1., 0., 1., 1., 1., 1., 1., 1., 0., 1., 0., 1., 0., 1.,\n",
       "       0., 1., 1., 0., 1., 1., 1., 1., 0., 1., 0., 0., 1., 1., 0., 0., 0.,\n",
       "       0., 1., 0., 1., 1., 0., 1., 1., 1., 0., 1., 1., 0., 0., 0., 0., 1.,\n",
       "       0., 1., 0., 0., 1., 0., 0., 1., 1., 0., 1., 1., 0., 1., 0., 1., 1.,\n",
       "       1., 1., 1., 0., 1., 1., 0., 1., 1., 1., 0., 1., 0., 1., 1., 0., 1.,\n",
       "       0., 1., 1., 1., 0., 1., 1., 0., 0., 1., 1., 0., 1., 1., 1., 0., 0.,\n",
       "       1., 1., 0., 0., 0., 0., 0., 0., 1., 0., 1., 0., 0., 1., 1., 0., 1.,\n",
       "       0., 0., 1., 0., 1., 0., 0., 0., 0., 0., 0., 1., 0., 0., 0., 0., 1.,\n",
       "       0., 1., 0., 0., 0., 0., 1., 0., 0., 1., 0., 0., 0.])"
      ]
     },
     "execution_count": 42,
     "metadata": {},
     "output_type": "execute_result"
    }
   ],
   "source": [
    "#l'image requete est la premiere image du test(non infectée)\n",
    "mat_dist_non_Infectee=new_mat[0,:]\n",
    "mat_dist_non_Infectee"
   ]
  },
  {
   "cell_type": "code",
   "execution_count": 43,
   "metadata": {
    "scrolled": true
   },
   "outputs": [
    {
     "data": {
      "text/plain": [
       "array([0., 0., 1., 1., 0., 1., 1., 0., 1., 1., 1., 0., 1., 0., 1., 1., 1.,\n",
       "       0., 0., 1., 1., 0., 1., 0., 1., 1., 0., 0., 0., 0., 0., 1., 0., 0.,\n",
       "       0., 1., 0., 0., 1., 0., 1., 1., 0., 0., 1., 1., 1., 0., 1., 0., 1.,\n",
       "       1., 1., 1., 1., 1., 1., 0., 1., 1., 1., 1., 0., 1., 1., 0., 0., 1.,\n",
       "       1., 0., 0., 1., 0., 0., 1., 1., 1., 1., 1., 0., 0., 1., 0., 0., 0.,\n",
       "       0., 1., 0., 1., 1., 0., 1., 1., 0., 0., 1., 0., 1., 1., 0., 1., 1.,\n",
       "       1., 0., 1., 1., 0., 0., 1., 0., 1., 1., 1., 0., 1., 0., 1., 0., 1.,\n",
       "       0., 1., 0., 1., 0., 0., 1., 0., 1., 1., 1., 1., 1., 0., 0., 0., 0.,\n",
       "       1., 0., 1., 0., 0., 0., 0., 0., 0., 1., 0., 0., 0., 0., 1., 0., 1.,\n",
       "       1., 1., 0., 1., 0., 1., 1., 1., 1., 0., 1., 0., 0., 1., 0., 1., 0.,\n",
       "       0., 0., 1., 0., 0., 0., 1., 0., 0., 0., 0., 0., 0., 1., 1., 0., 1.,\n",
       "       1., 0., 0., 0., 1., 0., 0., 0., 0., 1., 0., 1., 1.])"
      ]
     },
     "execution_count": 43,
     "metadata": {},
     "output_type": "execute_result"
    }
   ],
   "source": [
    "#l'image requete est la premiere image du test (infectée)\n",
    "mat_dist_Infectee=new_mat[100,:]\n",
    "mat_dist_Infectee"
   ]
  },
  {
   "cell_type": "code",
   "execution_count": 44,
   "metadata": {},
   "outputs": [],
   "source": [
    "precision_nI=np.zeros((1,200))\n",
    "recall_nI=np.zeros((1,200))\n"
   ]
  },
  {
   "cell_type": "code",
   "execution_count": 50,
   "metadata": {},
   "outputs": [],
   "source": [
    "precision_I=np.zeros((1,200))\n",
    "recall_I=np.zeros((1,200))\n",
    "specificity_I=np.zeros((1,200))\n",
    "sensitivity_I=np.zeros((1,200))\n",
    "specificity_nI=np.zeros((1,200))\n",
    "sensitivity_nI=np.zeros((1,200))"
   ]
  },
  {
   "cell_type": "code",
   "execution_count": 51,
   "metadata": {},
   "outputs": [
    {
     "name": "stdout",
     "output_type": "stream",
     "text": [
      "100.0\n"
     ]
    }
   ],
   "source": [
    "pertinent= np.sum(mat_dist_non_Infectee)\n",
    "print(pertinent)"
   ]
  },
  {
   "cell_type": "code",
   "execution_count": 52,
   "metadata": {},
   "outputs": [
    {
     "name": "stdout",
     "output_type": "stream",
     "text": [
      "100.0\n"
     ]
    }
   ],
   "source": [
    "pertinent= np.sum(mat_dist_Infectee)\n",
    "print(pertinent)"
   ]
  },
  {
   "cell_type": "markdown",
   "metadata": {},
   "source": [
    "sensitivity = recall = vp / (vp + fn)\n",
    "\n",
    "specificity = vn / (vn + fp)\n",
    "\n",
    "precision = vp / (vp + fp)"
   ]
  },
  {
   "cell_type": "code",
   "execution_count": 53,
   "metadata": {},
   "outputs": [
    {
     "name": "stdout",
     "output_type": "stream",
     "text": [
      "0.0\n",
      "1.0\n",
      "2.0\n",
      "3.0\n",
      "4.0\n",
      "5.0\n",
      "5.0\n",
      "6.0\n",
      "6.0\n",
      "7.0\n",
      "7.0\n",
      "7.0\n",
      "7.0\n",
      "8.0\n",
      "8.0\n",
      "9.0\n",
      "10.0\n",
      "10.0\n",
      "11.0\n",
      "11.0\n",
      "12.0\n",
      "12.0\n",
      "12.0\n",
      "12.0\n",
      "12.0\n",
      "13.0\n",
      "13.0\n",
      "14.0\n",
      "14.0\n",
      "14.0\n",
      "15.0\n",
      "16.0\n",
      "17.0\n",
      "18.0\n",
      "19.0\n",
      "20.0\n",
      "21.0\n",
      "21.0\n",
      "21.0\n",
      "21.0\n",
      "21.0\n",
      "22.0\n",
      "23.0\n",
      "23.0\n",
      "23.0\n",
      "23.0\n",
      "24.0\n",
      "24.0\n",
      "25.0\n",
      "25.0\n",
      "25.0\n",
      "25.0\n",
      "26.0\n",
      "27.0\n",
      "28.0\n",
      "28.0\n",
      "29.0\n",
      "30.0\n",
      "31.0\n",
      "32.0\n",
      "33.0\n",
      "34.0\n",
      "34.0\n",
      "35.0\n",
      "35.0\n",
      "36.0\n",
      "36.0\n",
      "37.0\n",
      "37.0\n",
      "38.0\n",
      "39.0\n",
      "39.0\n",
      "40.0\n",
      "41.0\n",
      "42.0\n",
      "43.0\n",
      "43.0\n",
      "44.0\n",
      "44.0\n",
      "44.0\n",
      "45.0\n",
      "46.0\n",
      "46.0\n",
      "46.0\n",
      "46.0\n",
      "46.0\n",
      "47.0\n",
      "47.0\n",
      "48.0\n",
      "49.0\n",
      "49.0\n",
      "50.0\n",
      "51.0\n",
      "52.0\n",
      "52.0\n",
      "53.0\n",
      "54.0\n",
      "54.0\n",
      "54.0\n",
      "54.0\n",
      "54.0\n",
      "55.0\n",
      "55.0\n",
      "56.0\n",
      "56.0\n",
      "56.0\n",
      "57.0\n",
      "57.0\n",
      "57.0\n",
      "58.0\n",
      "59.0\n",
      "59.0\n",
      "60.0\n",
      "61.0\n",
      "61.0\n",
      "62.0\n",
      "62.0\n",
      "63.0\n",
      "64.0\n",
      "65.0\n",
      "66.0\n",
      "67.0\n",
      "67.0\n",
      "68.0\n",
      "69.0\n",
      "69.0\n",
      "70.0\n",
      "71.0\n",
      "72.0\n",
      "72.0\n",
      "73.0\n",
      "73.0\n",
      "74.0\n",
      "75.0\n",
      "75.0\n",
      "76.0\n",
      "76.0\n",
      "77.0\n",
      "78.0\n",
      "79.0\n",
      "79.0\n",
      "80.0\n",
      "81.0\n",
      "81.0\n",
      "81.0\n",
      "82.0\n",
      "83.0\n",
      "83.0\n",
      "84.0\n",
      "85.0\n",
      "86.0\n",
      "86.0\n",
      "86.0\n",
      "87.0\n",
      "88.0\n",
      "88.0\n",
      "88.0\n",
      "88.0\n",
      "88.0\n",
      "88.0\n",
      "88.0\n",
      "89.0\n",
      "89.0\n",
      "90.0\n",
      "90.0\n",
      "90.0\n",
      "91.0\n",
      "92.0\n",
      "92.0\n",
      "93.0\n",
      "93.0\n",
      "93.0\n",
      "94.0\n",
      "94.0\n",
      "95.0\n",
      "95.0\n",
      "95.0\n",
      "95.0\n",
      "95.0\n",
      "95.0\n",
      "95.0\n",
      "96.0\n",
      "96.0\n",
      "96.0\n",
      "96.0\n",
      "96.0\n",
      "97.0\n",
      "97.0\n",
      "98.0\n",
      "98.0\n",
      "98.0\n",
      "98.0\n",
      "98.0\n",
      "99.0\n",
      "99.0\n",
      "99.0\n",
      "100.0\n",
      "100.0\n",
      "100.0\n",
      "100.0\n"
     ]
    }
   ],
   "source": [
    "for i in range(1,201):\n",
    "    VP=np.sum(mat_dist_non_Infectee[0:i]) #sommer les valeurs positive du 0 jusqua i (exclus) dans la premiere ligne dans la matrice\n",
    "    print(VP)\n",
    "    FP=i-VP\n",
    "    FN=pertinent-VP\n",
    "    VN=200-i-FN\n",
    "    precision_nI[0,i-1]=VP/(VP+FP)\n",
    "    recall_nI[0,i-1] =VP/(VP+FN)\n",
    "    sensitivity_nI[0,i-1]=VP/(VP+FN)\n",
    "    specificity_nI[0,i-1]=VN/(VN+FP)"
   ]
  },
  {
   "cell_type": "code",
   "execution_count": 54,
   "metadata": {},
   "outputs": [
    {
     "name": "stdout",
     "output_type": "stream",
     "text": [
      "0.0\n",
      "1.0\n",
      "2.0\n",
      "3.0\n",
      "4.0\n",
      "5.0\n",
      "5.0\n",
      "6.0\n",
      "6.0\n",
      "7.0\n",
      "7.0\n",
      "7.0\n",
      "7.0\n",
      "8.0\n",
      "8.0\n",
      "9.0\n",
      "10.0\n",
      "10.0\n",
      "11.0\n",
      "11.0\n",
      "12.0\n",
      "12.0\n",
      "12.0\n",
      "12.0\n",
      "12.0\n",
      "13.0\n",
      "13.0\n",
      "14.0\n",
      "14.0\n",
      "14.0\n",
      "15.0\n",
      "16.0\n",
      "17.0\n",
      "18.0\n",
      "19.0\n",
      "20.0\n",
      "21.0\n",
      "21.0\n",
      "21.0\n",
      "21.0\n",
      "21.0\n",
      "22.0\n",
      "23.0\n",
      "23.0\n",
      "23.0\n",
      "23.0\n",
      "24.0\n",
      "24.0\n",
      "25.0\n",
      "25.0\n",
      "25.0\n",
      "25.0\n",
      "26.0\n",
      "27.0\n",
      "28.0\n",
      "28.0\n",
      "29.0\n",
      "30.0\n",
      "31.0\n",
      "32.0\n",
      "33.0\n",
      "34.0\n",
      "34.0\n",
      "35.0\n",
      "35.0\n",
      "36.0\n",
      "36.0\n",
      "37.0\n",
      "37.0\n",
      "38.0\n",
      "39.0\n",
      "39.0\n",
      "40.0\n",
      "41.0\n",
      "42.0\n",
      "43.0\n",
      "43.0\n",
      "44.0\n",
      "44.0\n",
      "44.0\n",
      "45.0\n",
      "46.0\n",
      "46.0\n",
      "46.0\n",
      "46.0\n",
      "46.0\n",
      "47.0\n",
      "47.0\n",
      "48.0\n",
      "49.0\n",
      "49.0\n",
      "50.0\n",
      "51.0\n",
      "52.0\n",
      "52.0\n",
      "53.0\n",
      "54.0\n",
      "54.0\n",
      "54.0\n",
      "54.0\n",
      "54.0\n",
      "55.0\n",
      "55.0\n",
      "56.0\n",
      "56.0\n",
      "56.0\n",
      "57.0\n",
      "57.0\n",
      "57.0\n",
      "58.0\n",
      "59.0\n",
      "59.0\n",
      "60.0\n",
      "61.0\n",
      "61.0\n",
      "62.0\n",
      "62.0\n",
      "63.0\n",
      "64.0\n",
      "65.0\n",
      "66.0\n",
      "67.0\n",
      "67.0\n",
      "68.0\n",
      "69.0\n",
      "69.0\n",
      "70.0\n",
      "71.0\n",
      "72.0\n",
      "72.0\n",
      "73.0\n",
      "73.0\n",
      "74.0\n",
      "75.0\n",
      "75.0\n",
      "76.0\n",
      "76.0\n",
      "77.0\n",
      "78.0\n",
      "79.0\n",
      "79.0\n",
      "80.0\n",
      "81.0\n",
      "81.0\n",
      "81.0\n",
      "82.0\n",
      "83.0\n",
      "83.0\n",
      "84.0\n",
      "85.0\n",
      "86.0\n",
      "86.0\n",
      "86.0\n",
      "87.0\n",
      "88.0\n",
      "88.0\n",
      "88.0\n",
      "88.0\n",
      "88.0\n",
      "88.0\n",
      "88.0\n",
      "89.0\n",
      "89.0\n",
      "90.0\n",
      "90.0\n",
      "90.0\n",
      "91.0\n",
      "92.0\n",
      "92.0\n",
      "93.0\n",
      "93.0\n",
      "93.0\n",
      "94.0\n",
      "94.0\n",
      "95.0\n",
      "95.0\n",
      "95.0\n",
      "95.0\n",
      "95.0\n",
      "95.0\n",
      "95.0\n",
      "96.0\n",
      "96.0\n",
      "96.0\n",
      "96.0\n",
      "96.0\n",
      "97.0\n",
      "97.0\n",
      "98.0\n",
      "98.0\n",
      "98.0\n",
      "98.0\n",
      "98.0\n",
      "99.0\n",
      "99.0\n",
      "99.0\n",
      "100.0\n",
      "100.0\n",
      "100.0\n",
      "100.0\n"
     ]
    }
   ],
   "source": [
    "for i in range(1,201):\n",
    "    VP=np.sum(mat_dist_non_Infectee[0:i]) #sommer les valeurs positive du 0 jusqua i (exclus) dans la premiere ligne dans la matrice\n",
    "    print(VP)\n",
    "    FP=i-VP\n",
    "    FN=pertinent-VP\n",
    "    VN=200-i-FN\n",
    "    precision_I[0,i-1]=VP/(VP+FP)\n",
    "    recall_I[0,i-1] =VP/(VP+FN)\n",
    "    sensitivity_I[0,i-1]=VP/(VP+FN)\n",
    "    specificity_I[0,i-1]=VN/(VN+FP)"
   ]
  },
  {
   "cell_type": "code",
   "execution_count": 55,
   "metadata": {},
   "outputs": [
    {
     "name": "stdout",
     "output_type": "stream",
     "text": [
      "[[0.         0.5        0.66666667 0.75       0.8        0.83333333\n",
      "  0.71428571 0.75       0.66666667 0.7        0.63636364 0.58333333\n",
      "  0.53846154 0.57142857 0.53333333 0.5625     0.58823529 0.55555556\n",
      "  0.57894737 0.55       0.57142857 0.54545455 0.52173913 0.5\n",
      "  0.48       0.5        0.48148148 0.5        0.48275862 0.46666667\n",
      "  0.48387097 0.5        0.51515152 0.52941176 0.54285714 0.55555556\n",
      "  0.56756757 0.55263158 0.53846154 0.525      0.51219512 0.52380952\n",
      "  0.53488372 0.52272727 0.51111111 0.5        0.5106383  0.5\n",
      "  0.51020408 0.5        0.49019608 0.48076923 0.49056604 0.5\n",
      "  0.50909091 0.5        0.50877193 0.51724138 0.52542373 0.53333333\n",
      "  0.54098361 0.5483871  0.53968254 0.546875   0.53846154 0.54545455\n",
      "  0.53731343 0.54411765 0.53623188 0.54285714 0.54929577 0.54166667\n",
      "  0.54794521 0.55405405 0.56       0.56578947 0.55844156 0.56410256\n",
      "  0.55696203 0.55       0.55555556 0.56097561 0.55421687 0.54761905\n",
      "  0.54117647 0.53488372 0.54022989 0.53409091 0.53932584 0.54444444\n",
      "  0.53846154 0.54347826 0.5483871  0.55319149 0.54736842 0.55208333\n",
      "  0.55670103 0.55102041 0.54545455 0.54       0.53465347 0.53921569\n",
      "  0.53398058 0.53846154 0.53333333 0.52830189 0.53271028 0.52777778\n",
      "  0.52293578 0.52727273 0.53153153 0.52678571 0.53097345 0.53508772\n",
      "  0.53043478 0.53448276 0.52991453 0.53389831 0.53781513 0.54166667\n",
      "  0.54545455 0.54918033 0.54471545 0.5483871  0.552      0.54761905\n",
      "  0.5511811  0.5546875  0.55813953 0.55384615 0.55725191 0.5530303\n",
      "  0.55639098 0.55970149 0.55555556 0.55882353 0.55474453 0.55797101\n",
      "  0.56115108 0.56428571 0.56028369 0.56338028 0.56643357 0.5625\n",
      "  0.55862069 0.56164384 0.56462585 0.56081081 0.56375839 0.56666667\n",
      "  0.56953642 0.56578947 0.5620915  0.56493506 0.56774194 0.56410256\n",
      "  0.56050955 0.55696203 0.55345912 0.55       0.54658385 0.54938272\n",
      "  0.54601227 0.54878049 0.54545455 0.54216867 0.54491018 0.54761905\n",
      "  0.5443787  0.54705882 0.54385965 0.54069767 0.5433526  0.54022989\n",
      "  0.54285714 0.53977273 0.53672316 0.53370787 0.53072626 0.52777778\n",
      "  0.52486188 0.52747253 0.52459016 0.52173913 0.51891892 0.51612903\n",
      "  0.51871658 0.51595745 0.51851852 0.51578947 0.51308901 0.51041667\n",
      "  0.50777202 0.51030928 0.50769231 0.50510204 0.50761421 0.50505051\n",
      "  0.50251256 0.5       ]]\n"
     ]
    }
   ],
   "source": [
    "print(precision_nI)"
   ]
  },
  {
   "cell_type": "code",
   "execution_count": 56,
   "metadata": {},
   "outputs": [
    {
     "name": "stdout",
     "output_type": "stream",
     "text": [
      "[[0.         0.5        0.66666667 0.75       0.8        0.83333333\n",
      "  0.71428571 0.75       0.66666667 0.7        0.63636364 0.58333333\n",
      "  0.53846154 0.57142857 0.53333333 0.5625     0.58823529 0.55555556\n",
      "  0.57894737 0.55       0.57142857 0.54545455 0.52173913 0.5\n",
      "  0.48       0.5        0.48148148 0.5        0.48275862 0.46666667\n",
      "  0.48387097 0.5        0.51515152 0.52941176 0.54285714 0.55555556\n",
      "  0.56756757 0.55263158 0.53846154 0.525      0.51219512 0.52380952\n",
      "  0.53488372 0.52272727 0.51111111 0.5        0.5106383  0.5\n",
      "  0.51020408 0.5        0.49019608 0.48076923 0.49056604 0.5\n",
      "  0.50909091 0.5        0.50877193 0.51724138 0.52542373 0.53333333\n",
      "  0.54098361 0.5483871  0.53968254 0.546875   0.53846154 0.54545455\n",
      "  0.53731343 0.54411765 0.53623188 0.54285714 0.54929577 0.54166667\n",
      "  0.54794521 0.55405405 0.56       0.56578947 0.55844156 0.56410256\n",
      "  0.55696203 0.55       0.55555556 0.56097561 0.55421687 0.54761905\n",
      "  0.54117647 0.53488372 0.54022989 0.53409091 0.53932584 0.54444444\n",
      "  0.53846154 0.54347826 0.5483871  0.55319149 0.54736842 0.55208333\n",
      "  0.55670103 0.55102041 0.54545455 0.54       0.53465347 0.53921569\n",
      "  0.53398058 0.53846154 0.53333333 0.52830189 0.53271028 0.52777778\n",
      "  0.52293578 0.52727273 0.53153153 0.52678571 0.53097345 0.53508772\n",
      "  0.53043478 0.53448276 0.52991453 0.53389831 0.53781513 0.54166667\n",
      "  0.54545455 0.54918033 0.54471545 0.5483871  0.552      0.54761905\n",
      "  0.5511811  0.5546875  0.55813953 0.55384615 0.55725191 0.5530303\n",
      "  0.55639098 0.55970149 0.55555556 0.55882353 0.55474453 0.55797101\n",
      "  0.56115108 0.56428571 0.56028369 0.56338028 0.56643357 0.5625\n",
      "  0.55862069 0.56164384 0.56462585 0.56081081 0.56375839 0.56666667\n",
      "  0.56953642 0.56578947 0.5620915  0.56493506 0.56774194 0.56410256\n",
      "  0.56050955 0.55696203 0.55345912 0.55       0.54658385 0.54938272\n",
      "  0.54601227 0.54878049 0.54545455 0.54216867 0.54491018 0.54761905\n",
      "  0.5443787  0.54705882 0.54385965 0.54069767 0.5433526  0.54022989\n",
      "  0.54285714 0.53977273 0.53672316 0.53370787 0.53072626 0.52777778\n",
      "  0.52486188 0.52747253 0.52459016 0.52173913 0.51891892 0.51612903\n",
      "  0.51871658 0.51595745 0.51851852 0.51578947 0.51308901 0.51041667\n",
      "  0.50777202 0.51030928 0.50769231 0.50510204 0.50761421 0.50505051\n",
      "  0.50251256 0.5       ]]\n"
     ]
    }
   ],
   "source": [
    "print(precision_I)"
   ]
  },
  {
   "cell_type": "code",
   "execution_count": 57,
   "metadata": {},
   "outputs": [
    {
     "name": "stdout",
     "output_type": "stream",
     "text": [
      "[[0.   0.01 0.02 0.03 0.04 0.05 0.05 0.06 0.06 0.07 0.07 0.07 0.07 0.08\n",
      "  0.08 0.09 0.1  0.1  0.11 0.11 0.12 0.12 0.12 0.12 0.12 0.13 0.13 0.14\n",
      "  0.14 0.14 0.15 0.16 0.17 0.18 0.19 0.2  0.21 0.21 0.21 0.21 0.21 0.22\n",
      "  0.23 0.23 0.23 0.23 0.24 0.24 0.25 0.25 0.25 0.25 0.26 0.27 0.28 0.28\n",
      "  0.29 0.3  0.31 0.32 0.33 0.34 0.34 0.35 0.35 0.36 0.36 0.37 0.37 0.38\n",
      "  0.39 0.39 0.4  0.41 0.42 0.43 0.43 0.44 0.44 0.44 0.45 0.46 0.46 0.46\n",
      "  0.46 0.46 0.47 0.47 0.48 0.49 0.49 0.5  0.51 0.52 0.52 0.53 0.54 0.54\n",
      "  0.54 0.54 0.54 0.55 0.55 0.56 0.56 0.56 0.57 0.57 0.57 0.58 0.59 0.59\n",
      "  0.6  0.61 0.61 0.62 0.62 0.63 0.64 0.65 0.66 0.67 0.67 0.68 0.69 0.69\n",
      "  0.7  0.71 0.72 0.72 0.73 0.73 0.74 0.75 0.75 0.76 0.76 0.77 0.78 0.79\n",
      "  0.79 0.8  0.81 0.81 0.81 0.82 0.83 0.83 0.84 0.85 0.86 0.86 0.86 0.87\n",
      "  0.88 0.88 0.88 0.88 0.88 0.88 0.88 0.89 0.89 0.9  0.9  0.9  0.91 0.92\n",
      "  0.92 0.93 0.93 0.93 0.94 0.94 0.95 0.95 0.95 0.95 0.95 0.95 0.95 0.96\n",
      "  0.96 0.96 0.96 0.96 0.97 0.97 0.98 0.98 0.98 0.98 0.98 0.99 0.99 0.99\n",
      "  1.   1.   1.   1.  ]]\n"
     ]
    }
   ],
   "source": [
    "print(recall_nI)"
   ]
  },
  {
   "cell_type": "code",
   "execution_count": 58,
   "metadata": {},
   "outputs": [
    {
     "name": "stdout",
     "output_type": "stream",
     "text": [
      "[[0.   0.01 0.02 0.03 0.04 0.05 0.05 0.06 0.06 0.07 0.07 0.07 0.07 0.08\n",
      "  0.08 0.09 0.1  0.1  0.11 0.11 0.12 0.12 0.12 0.12 0.12 0.13 0.13 0.14\n",
      "  0.14 0.14 0.15 0.16 0.17 0.18 0.19 0.2  0.21 0.21 0.21 0.21 0.21 0.22\n",
      "  0.23 0.23 0.23 0.23 0.24 0.24 0.25 0.25 0.25 0.25 0.26 0.27 0.28 0.28\n",
      "  0.29 0.3  0.31 0.32 0.33 0.34 0.34 0.35 0.35 0.36 0.36 0.37 0.37 0.38\n",
      "  0.39 0.39 0.4  0.41 0.42 0.43 0.43 0.44 0.44 0.44 0.45 0.46 0.46 0.46\n",
      "  0.46 0.46 0.47 0.47 0.48 0.49 0.49 0.5  0.51 0.52 0.52 0.53 0.54 0.54\n",
      "  0.54 0.54 0.54 0.55 0.55 0.56 0.56 0.56 0.57 0.57 0.57 0.58 0.59 0.59\n",
      "  0.6  0.61 0.61 0.62 0.62 0.63 0.64 0.65 0.66 0.67 0.67 0.68 0.69 0.69\n",
      "  0.7  0.71 0.72 0.72 0.73 0.73 0.74 0.75 0.75 0.76 0.76 0.77 0.78 0.79\n",
      "  0.79 0.8  0.81 0.81 0.81 0.82 0.83 0.83 0.84 0.85 0.86 0.86 0.86 0.87\n",
      "  0.88 0.88 0.88 0.88 0.88 0.88 0.88 0.89 0.89 0.9  0.9  0.9  0.91 0.92\n",
      "  0.92 0.93 0.93 0.93 0.94 0.94 0.95 0.95 0.95 0.95 0.95 0.95 0.95 0.96\n",
      "  0.96 0.96 0.96 0.96 0.97 0.97 0.98 0.98 0.98 0.98 0.98 0.99 0.99 0.99\n",
      "  1.   1.   1.   1.  ]]\n"
     ]
    }
   ],
   "source": [
    "print(recall_I)"
   ]
  },
  {
   "cell_type": "code",
   "execution_count": 59,
   "metadata": {},
   "outputs": [
    {
     "name": "stdout",
     "output_type": "stream",
     "text": [
      "[[0.99 0.99 0.99 0.99 0.99 0.99 0.98 0.98 0.97 0.97 0.96 0.95 0.94 0.94\n",
      "  0.93 0.93 0.93 0.92 0.92 0.91 0.91 0.9  0.89 0.88 0.87 0.87 0.86 0.86\n",
      "  0.85 0.84 0.84 0.84 0.84 0.84 0.84 0.84 0.84 0.83 0.82 0.81 0.8  0.8\n",
      "  0.8  0.79 0.78 0.77 0.77 0.76 0.76 0.75 0.74 0.73 0.73 0.73 0.73 0.72\n",
      "  0.72 0.72 0.72 0.72 0.72 0.72 0.71 0.71 0.7  0.7  0.69 0.69 0.68 0.68\n",
      "  0.68 0.67 0.67 0.67 0.67 0.67 0.66 0.66 0.65 0.64 0.64 0.64 0.63 0.62\n",
      "  0.61 0.6  0.6  0.59 0.59 0.59 0.58 0.58 0.58 0.58 0.57 0.57 0.57 0.56\n",
      "  0.55 0.54 0.53 0.53 0.52 0.52 0.51 0.5  0.5  0.49 0.48 0.48 0.48 0.47\n",
      "  0.47 0.47 0.46 0.46 0.45 0.45 0.45 0.45 0.45 0.45 0.44 0.44 0.44 0.43\n",
      "  0.43 0.43 0.43 0.42 0.42 0.41 0.41 0.41 0.4  0.4  0.39 0.39 0.39 0.39\n",
      "  0.38 0.38 0.38 0.37 0.36 0.36 0.36 0.35 0.35 0.35 0.35 0.34 0.33 0.33\n",
      "  0.33 0.32 0.31 0.3  0.29 0.28 0.27 0.27 0.26 0.26 0.25 0.24 0.24 0.24\n",
      "  0.23 0.23 0.22 0.21 0.21 0.2  0.2  0.19 0.18 0.17 0.16 0.15 0.14 0.14\n",
      "  0.13 0.12 0.11 0.1  0.1  0.09 0.09 0.08 0.07 0.06 0.05 0.05 0.04 0.03\n",
      "  0.03 0.02 0.01 0.  ]]\n"
     ]
    }
   ],
   "source": [
    "print(specificity_nI)"
   ]
  },
  {
   "cell_type": "code",
   "execution_count": 60,
   "metadata": {},
   "outputs": [
    {
     "name": "stdout",
     "output_type": "stream",
     "text": [
      "[[0.99 0.99 0.99 0.99 0.99 0.99 0.98 0.98 0.97 0.97 0.96 0.95 0.94 0.94\n",
      "  0.93 0.93 0.93 0.92 0.92 0.91 0.91 0.9  0.89 0.88 0.87 0.87 0.86 0.86\n",
      "  0.85 0.84 0.84 0.84 0.84 0.84 0.84 0.84 0.84 0.83 0.82 0.81 0.8  0.8\n",
      "  0.8  0.79 0.78 0.77 0.77 0.76 0.76 0.75 0.74 0.73 0.73 0.73 0.73 0.72\n",
      "  0.72 0.72 0.72 0.72 0.72 0.72 0.71 0.71 0.7  0.7  0.69 0.69 0.68 0.68\n",
      "  0.68 0.67 0.67 0.67 0.67 0.67 0.66 0.66 0.65 0.64 0.64 0.64 0.63 0.62\n",
      "  0.61 0.6  0.6  0.59 0.59 0.59 0.58 0.58 0.58 0.58 0.57 0.57 0.57 0.56\n",
      "  0.55 0.54 0.53 0.53 0.52 0.52 0.51 0.5  0.5  0.49 0.48 0.48 0.48 0.47\n",
      "  0.47 0.47 0.46 0.46 0.45 0.45 0.45 0.45 0.45 0.45 0.44 0.44 0.44 0.43\n",
      "  0.43 0.43 0.43 0.42 0.42 0.41 0.41 0.41 0.4  0.4  0.39 0.39 0.39 0.39\n",
      "  0.38 0.38 0.38 0.37 0.36 0.36 0.36 0.35 0.35 0.35 0.35 0.34 0.33 0.33\n",
      "  0.33 0.32 0.31 0.3  0.29 0.28 0.27 0.27 0.26 0.26 0.25 0.24 0.24 0.24\n",
      "  0.23 0.23 0.22 0.21 0.21 0.2  0.2  0.19 0.18 0.17 0.16 0.15 0.14 0.14\n",
      "  0.13 0.12 0.11 0.1  0.1  0.09 0.09 0.08 0.07 0.06 0.05 0.05 0.04 0.03\n",
      "  0.03 0.02 0.01 0.  ]]\n"
     ]
    }
   ],
   "source": [
    "print(specificity_I)"
   ]
  },
  {
   "cell_type": "code",
   "execution_count": 61,
   "metadata": {},
   "outputs": [
    {
     "name": "stdout",
     "output_type": "stream",
     "text": [
      "[[0.   0.01 0.02 0.03 0.04 0.05 0.05 0.06 0.06 0.07 0.07 0.07 0.07 0.08\n",
      "  0.08 0.09 0.1  0.1  0.11 0.11 0.12 0.12 0.12 0.12 0.12 0.13 0.13 0.14\n",
      "  0.14 0.14 0.15 0.16 0.17 0.18 0.19 0.2  0.21 0.21 0.21 0.21 0.21 0.22\n",
      "  0.23 0.23 0.23 0.23 0.24 0.24 0.25 0.25 0.25 0.25 0.26 0.27 0.28 0.28\n",
      "  0.29 0.3  0.31 0.32 0.33 0.34 0.34 0.35 0.35 0.36 0.36 0.37 0.37 0.38\n",
      "  0.39 0.39 0.4  0.41 0.42 0.43 0.43 0.44 0.44 0.44 0.45 0.46 0.46 0.46\n",
      "  0.46 0.46 0.47 0.47 0.48 0.49 0.49 0.5  0.51 0.52 0.52 0.53 0.54 0.54\n",
      "  0.54 0.54 0.54 0.55 0.55 0.56 0.56 0.56 0.57 0.57 0.57 0.58 0.59 0.59\n",
      "  0.6  0.61 0.61 0.62 0.62 0.63 0.64 0.65 0.66 0.67 0.67 0.68 0.69 0.69\n",
      "  0.7  0.71 0.72 0.72 0.73 0.73 0.74 0.75 0.75 0.76 0.76 0.77 0.78 0.79\n",
      "  0.79 0.8  0.81 0.81 0.81 0.82 0.83 0.83 0.84 0.85 0.86 0.86 0.86 0.87\n",
      "  0.88 0.88 0.88 0.88 0.88 0.88 0.88 0.89 0.89 0.9  0.9  0.9  0.91 0.92\n",
      "  0.92 0.93 0.93 0.93 0.94 0.94 0.95 0.95 0.95 0.95 0.95 0.95 0.95 0.96\n",
      "  0.96 0.96 0.96 0.96 0.97 0.97 0.98 0.98 0.98 0.98 0.98 0.99 0.99 0.99\n",
      "  1.   1.   1.   1.  ]]\n"
     ]
    }
   ],
   "source": [
    "print(sensitivity_nI)"
   ]
  },
  {
   "cell_type": "code",
   "execution_count": 62,
   "metadata": {},
   "outputs": [
    {
     "name": "stdout",
     "output_type": "stream",
     "text": [
      "[[0.   0.01 0.02 0.03 0.04 0.05 0.05 0.06 0.06 0.07 0.07 0.07 0.07 0.08\n",
      "  0.08 0.09 0.1  0.1  0.11 0.11 0.12 0.12 0.12 0.12 0.12 0.13 0.13 0.14\n",
      "  0.14 0.14 0.15 0.16 0.17 0.18 0.19 0.2  0.21 0.21 0.21 0.21 0.21 0.22\n",
      "  0.23 0.23 0.23 0.23 0.24 0.24 0.25 0.25 0.25 0.25 0.26 0.27 0.28 0.28\n",
      "  0.29 0.3  0.31 0.32 0.33 0.34 0.34 0.35 0.35 0.36 0.36 0.37 0.37 0.38\n",
      "  0.39 0.39 0.4  0.41 0.42 0.43 0.43 0.44 0.44 0.44 0.45 0.46 0.46 0.46\n",
      "  0.46 0.46 0.47 0.47 0.48 0.49 0.49 0.5  0.51 0.52 0.52 0.53 0.54 0.54\n",
      "  0.54 0.54 0.54 0.55 0.55 0.56 0.56 0.56 0.57 0.57 0.57 0.58 0.59 0.59\n",
      "  0.6  0.61 0.61 0.62 0.62 0.63 0.64 0.65 0.66 0.67 0.67 0.68 0.69 0.69\n",
      "  0.7  0.71 0.72 0.72 0.73 0.73 0.74 0.75 0.75 0.76 0.76 0.77 0.78 0.79\n",
      "  0.79 0.8  0.81 0.81 0.81 0.82 0.83 0.83 0.84 0.85 0.86 0.86 0.86 0.87\n",
      "  0.88 0.88 0.88 0.88 0.88 0.88 0.88 0.89 0.89 0.9  0.9  0.9  0.91 0.92\n",
      "  0.92 0.93 0.93 0.93 0.94 0.94 0.95 0.95 0.95 0.95 0.95 0.95 0.95 0.96\n",
      "  0.96 0.96 0.96 0.96 0.97 0.97 0.98 0.98 0.98 0.98 0.98 0.99 0.99 0.99\n",
      "  1.   1.   1.   1.  ]]\n"
     ]
    }
   ],
   "source": [
    "print(sensitivity_I)"
   ]
  },
  {
   "cell_type": "code",
   "execution_count": 63,
   "metadata": {},
   "outputs": [
    {
     "data": {
      "text/plain": [
       "array([0.54305452])"
      ]
     },
     "execution_count": 63,
     "metadata": {},
     "output_type": "execute_result"
    }
   ],
   "source": [
    "pr_moy_nI=np.sum(precision_nI[0,:])/precision_nI[0,:].shape\n",
    "pr_moy_nI"
   ]
  },
  {
   "cell_type": "code",
   "execution_count": 64,
   "metadata": {},
   "outputs": [
    {
     "data": {
      "text/plain": [
       "array([0.54305452])"
      ]
     },
     "execution_count": 64,
     "metadata": {},
     "output_type": "execute_result"
    }
   ],
   "source": [
    "pr_moy_I=np.sum(precision_I[0,:])/precision_I[0,:].shape\n",
    "pr_moy_I"
   ]
  },
  {
   "cell_type": "code",
   "execution_count": 65,
   "metadata": {},
   "outputs": [
    {
     "data": {
      "image/png": "[encoded data removed]",
      "text/plain": [
       "<Figure size 432x288 with 1 Axes>"
      ]
     },
     "metadata": {
      "needs_background": "light"
     },
     "output_type": "display_data"
    }
   ],
   "source": [
    "plt.grid(True)\n",
    "plt.ylabel(\"Precision\")\n",
    "plt.xlabel(\"Recall\")\n",
    "plt.plot(recall_nI[0,:],precision_nI[0,:],color=\"green\")\n",
    "plt.show()"
   ]
  },
  {
   "cell_type": "code",
   "execution_count": 66,
   "metadata": {},
   "outputs": [
    {
     "data": {
      "image/png": "[encoded data removed]",
      "text/plain": [
       "<Figure size 432x288 with 1 Axes>"
      ]
     },
     "metadata": {
      "needs_background": "light"
     },
     "output_type": "display_data"
    }
   ],
   "source": [
    "plt.grid(True)\n",
    "plt.ylabel(\"Precision\")\n",
    "plt.xlabel(\"Recall\")\n",
    "plt.plot(recall_I[0,:],precision_I[0,:],color=\"red\")\n",
    "plt.show()"
   ]
  },
  {
   "cell_type": "code",
   "execution_count": 69,
   "metadata": {},
   "outputs": [],
   "source": [
    "def determiner_KNN_images(index_img_requete,nbr_img_recuperes):\n",
    "    matrice_dest=mat_index[index_img_requete,:]\n",
    "    mat_index_proches=matrice_dest[0:nbr_img_recuperes] #les indices k plus proches\n",
    "    k=1\n",
    "  \n",
    "    for i in mat_index_proches:\n",
    "        target=filename_train + str(i) +\".png\"\n",
    "        pic=plt.imread(target)\n",
    "        plt.subplot(2,4,k)\n",
    "        if i>0 and i<100:\n",
    "            img_status='Non infectée'\n",
    "            plt.title(img_status)\n",
    "        elif i>=100 and i<200:\n",
    "            img_status=\"Infectée\"\n",
    "            plt.title(img_status)\n",
    "        plt.imshow(pic)\n",
    "        k=k+1\n",
    "        \n",
    "    per=np.sum(new_mat[index_image,:])\n",
    "    x=new_mat[index_image,0:nbr_img_recuperes]\n",
    "    vp=np.sum(x)\n",
    "    print('VP :',vp)\n",
    "    fp=nbr_img_recuperes-vp\n",
    "    print('FP :',fp)\n",
    "    fn=per-vp\n",
    "    print('FN :',fn)\n",
    "    vn=200-nbr_img_recuperes-fn\n",
    "    print('VN :',vn)\n",
    "    precis=vp/(vp+fp)\n",
    "    print('la précision :',precis*100,\"%\")\n",
    "    reca=vp/(vp+fn)8\n",
    "    8\n",
    "    print('le rappel :',reca*100,\"%\")\n",
    "    spec=vn/(vn+fp)\n",
    "    print('la spécificité :',spec*100,\"%\")\n",
    "    sens=vp/(vp+fn)\n",
    "    print('la sensitivité :',sens*100,\"%\")\n",
    "    acc=(vp+vn)/(vp+vn+fp+fn)\n",
    "    print('Accuracy :',sens*100,\"%\")\n",
    "    f1=(2*precis*reca)/(precis+reca)\n",
    "    print('F1-score :',f1*100,\"%\")"
   ]
  },
  {
   "cell_type": "code",
   "execution_count": 71,
   "metadata": {},
   "outputs": [
    {
     "name": "stdout",
     "output_type": "stream",
     "text": [
      "donner le numero d'image:49\n",
      "donner le nombre des images plus proches:8\n",
      "VP : 6.0\n",
      "FP : 2.0\n",
      "FN : 94.0\n",
      "VN : 98.0\n",
      "la précision : 75.0 %\n",
      "le rappel : 6.0 %\n",
      "la spécificité : 98.0 %\n",
      "la sensitivité : 6.0 %\n",
      "Accuracy : 6.0 %\n",
      "F1-score : 11.11111111111111 %\n"
     ]
    },
    {
     "data": {
      "image/png": "[encoded data removed]",
      "text/plain": [
       "<Figure size 432x288 with 8 Axes>"
      ]
     },
     "metadata": {
      "needs_background": "light"
     },
     "output_type": "display_data"
    }
   ],
   "source": [
    "index_image=int(input(\"donner le numero d'image:\"))\n",
    "nbr_img_recuperes=int(input(\"donner le nombre des images plus proches:\"))\n",
    "determiner_KNN_images(index_image,nbr_img_recuperes)"
   ]
  },
  {
   "cell_type": "code",
   "execution_count": null,
   "metadata": {},
   "outputs": [],
   "source": []
  }
 ],
 "metadata": {
  "kernelspec": {
   "display_name": "Python 3",
   "language": "python",
   "name": "python3"
  },
  "language_info": {
   "codemirror_mode": {
    "name": "ipython",
    "version": 3
   },
   "file_extension": ".py",
   "mimetype": "text/x-python",
   "name": "python",
   "nbconvert_exporter": "python",
   "pygments_lexer": "ipython3",
   "version": "3.7.3"
  }
 },
 "nbformat": 4,
 "nbformat_minor": 4
}
