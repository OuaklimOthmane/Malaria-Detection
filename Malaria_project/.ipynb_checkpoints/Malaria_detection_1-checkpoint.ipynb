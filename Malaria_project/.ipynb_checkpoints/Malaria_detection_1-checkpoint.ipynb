{
 "cells": [
  {
   "cell_type": "code",
   "execution_count": 2,
   "metadata": {},
   "outputs": [
    {
     "name": "stdout",
     "output_type": "stream",
     "text": [
      "Note: you may need to restart the kernel to use updated packages.\n"
     ]
    },
    {
     "name": "stderr",
     "output_type": "stream",
     "text": [
      "'c:\\users\\rachid' is not recognized as an internal or external command,\n",
      "operable program or batch file.\n"
     ]
    }
   ],
   "source": [
    "pip install opencv-python"
   ]
  },
  {
   "cell_type": "code",
   "execution_count": 1,
   "metadata": {},
   "outputs": [],
   "source": [
    "import numpy as np\n",
    "import matplotlib.pyplot as plt\n",
    "import cv2"
   ]
  },
  {
   "cell_type": "code",
   "execution_count": 2,
   "metadata": {},
   "outputs": [],
   "source": [
    "def rgb2gray(I):\n",
    "    r, g, b = I[:,:,0], I[:,:,1], I[:,:,2]\n",
    "    gray = 0.2989 * r + 0.5870 * g + 0.1140 * b\n",
    "    return gray"
   ]
  },
  {
   "cell_type": "code",
   "execution_count": 3,
   "metadata": {},
   "outputs": [
    {
     "name": "stdout",
     "output_type": "stream",
     "text": [
      "(100, 100, 3)\n"
     ]
    }
   ],
   "source": [
    "#resize a image from the dataset\n",
    "img = cv2.imread('dataset/training_set/1.png')\n",
    "img_resized = cv2.resize(img, dsize=(100,100), interpolation=cv2.INTER_CUBIC)\n",
    "taille=img_resized.shape\n",
    "print(taille)"
   ]
  },
  {
   "cell_type": "code",
   "execution_count": 4,
   "metadata": {},
   "outputs": [],
   "source": [
    "i=plt.imread('dataset/training_set/1.png')"
   ]
  },
  {
   "cell_type": "code",
   "execution_count": 5,
   "metadata": {},
   "outputs": [
    {
     "data": {
      "image/png": "[encoded data removed]",
      "text/plain": [
       "<Figure size 432x288 with 1 Axes>"
      ]
     },
     "metadata": {
      "needs_background": "light"
     },
     "output_type": "display_data"
    }
   ],
   "source": [
    "I_gray=rgb2gray(img_resized)\n",
    "plt.imshow(I_gray,cmap=plt.get_cmap('gray')) #draws an image on the current figure (creates a figure if there isn't a current figure)\n",
    "plt.show() #displays the figure"
   ]
  },
  {
   "cell_type": "code",
   "execution_count": 6,
   "metadata": {},
   "outputs": [
    {
     "data": {
      "text/plain": [
       "array([[[0, 0, 0],\n",
       "        [0, 0, 0],\n",
       "        [0, 0, 0],\n",
       "        ...,\n",
       "        [0, 0, 0],\n",
       "        [0, 0, 0],\n",
       "        [0, 0, 0]],\n",
       "\n",
       "       [[0, 0, 0],\n",
       "        [0, 0, 0],\n",
       "        [0, 0, 0],\n",
       "        ...,\n",
       "        [0, 0, 0],\n",
       "        [0, 0, 0],\n",
       "        [0, 0, 0]],\n",
       "\n",
       "       [[0, 0, 0],\n",
       "        [0, 0, 0],\n",
       "        [0, 0, 0],\n",
       "        ...,\n",
       "        [0, 0, 0],\n",
       "        [0, 0, 0],\n",
       "        [0, 0, 0]],\n",
       "\n",
       "       ...,\n",
       "\n",
       "       [[0, 0, 0],\n",
       "        [0, 0, 0],\n",
       "        [0, 0, 0],\n",
       "        ...,\n",
       "        [0, 0, 0],\n",
       "        [0, 0, 0],\n",
       "        [0, 0, 0]],\n",
       "\n",
       "       [[0, 0, 0],\n",
       "        [0, 0, 0],\n",
       "        [0, 0, 0],\n",
       "        ...,\n",
       "        [0, 0, 0],\n",
       "        [0, 0, 0],\n",
       "        [0, 0, 0]],\n",
       "\n",
       "       [[0, 0, 0],\n",
       "        [0, 0, 0],\n",
       "        [0, 0, 0],\n",
       "        ...,\n",
       "        [0, 0, 0],\n",
       "        [0, 0, 0],\n",
       "        [0, 0, 0]]], dtype=uint8)"
      ]
     },
     "execution_count": 6,
     "metadata": {},
     "output_type": "execute_result"
    }
   ],
   "source": [
    "img_resized"
   ]
  },
  {
   "cell_type": "code",
   "execution_count": 7,
   "metadata": {},
   "outputs": [
    {
     "data": {
      "text/plain": [
       "(100, 100)"
      ]
     },
     "execution_count": 7,
     "metadata": {},
     "output_type": "execute_result"
    }
   ],
   "source": [
    "taille=I_gray.shape\n",
    "taille\n",
    "# nl,nc=taille"
   ]
  },
  {
   "cell_type": "code",
   "execution_count": 8,
   "metadata": {},
   "outputs": [],
   "source": [
    "filename_train=\"./dataset/training_set/\"\n",
    "filename_test=\"./dataset/testing_set/\"\n",
    "nbr_im=200"
   ]
  },
  {
   "cell_type": "code",
   "execution_count": 9,
   "metadata": {},
   "outputs": [],
   "source": [
    "#read the dataset and normalize it\n",
    "def stocker_images(nbr_im, filename):\n",
    "    nl,nc=taille\n",
    "    mat_image=np.zeros((nl,nc,nbr_im))\n",
    "    for i in range(nbr_im):\n",
    "        target= filename+ str(i+1) + '.png'\n",
    "        img = cv2.imread(target)\n",
    "        img_resized = cv2.resize(img, dsize=(100,100), interpolation=cv2.INTER_CUBIC)\n",
    "        mat_image[:,:,i]=rgb2gray(img_resized)       \n",
    "    return mat_image"
   ]
  },
  {
   "cell_type": "code",
   "execution_count": 10,
   "metadata": {
    "scrolled": true
   },
   "outputs": [],
   "source": [
    "# mat_image=stocker_images(nbr_im, filename)\n",
    "mat_train_image=stocker_images(nbr_im,filename_train)\n",
    "mat_test_image=stocker_images(nbr_im,filename_test)\n",
    "# mat_test_image"
   ]
  },
  {
   "cell_type": "code",
   "execution_count": 11,
   "metadata": {},
   "outputs": [
    {
     "data": {
      "text/plain": [
       "(100, 100, 200)"
      ]
     },
     "execution_count": 11,
     "metadata": {},
     "output_type": "execute_result"
    }
   ],
   "source": [
    "taille=mat_test_image.shape\n",
    "taille"
   ]
  },
  {
   "cell_type": "code",
   "execution_count": 12,
   "metadata": {},
   "outputs": [],
   "source": [
    "def histo(I):\n",
    "    [nl,nc]=np.shape(I)\n",
    "    h=np.zeros(256,dtype=int)\n",
    "    I_m=np.round(I)\n",
    "    for i in range(0,nl):\n",
    "        for j in range(0,nc):\n",
    "            val=int(I_m[i][j])\n",
    "            h[val]+=1\n",
    "    return h"
   ]
  },
  {
   "cell_type": "code",
   "execution_count": 13,
   "metadata": {},
   "outputs": [],
   "source": [
    "def stocker_histogramme(mat_image):\n",
    "    nl,nc,nb_im=mat_image.shape\n",
    "    mat_histo=np.zeros((nb_im,256))\n",
    "    for i in range(nb_im):\n",
    "        mat_histo[i,:]=histo(mat_image[:,:,i])\n",
    "    return mat_histo"
   ]
  },
  {
   "cell_type": "code",
   "execution_count": 14,
   "metadata": {},
   "outputs": [],
   "source": [
    "mat_histo_testing=stocker_histogramme(mat_test_image)\n",
    "mat_histo_training=stocker_histogramme(mat_train_image)"
   ]
  },
  {
   "cell_type": "code",
   "execution_count": 15,
   "metadata": {},
   "outputs": [
    {
     "data": {
      "text/plain": [
       "array([[2.428e+03, 1.600e+01, 3.000e+00, ..., 0.000e+00, 0.000e+00,\n",
       "        0.000e+00],\n",
       "       [2.319e+03, 2.900e+01, 2.000e+00, ..., 0.000e+00, 0.000e+00,\n",
       "        0.000e+00],\n",
       "       [2.211e+03, 5.000e+00, 1.100e+01, ..., 0.000e+00, 0.000e+00,\n",
       "        0.000e+00],\n",
       "       ...,\n",
       "       [2.903e+03, 1.000e+01, 6.000e+00, ..., 0.000e+00, 0.000e+00,\n",
       "        0.000e+00],\n",
       "       [2.743e+03, 1.400e+01, 0.000e+00, ..., 0.000e+00, 0.000e+00,\n",
       "        0.000e+00],\n",
       "       [2.228e+03, 1.100e+01, 3.000e+00, ..., 0.000e+00, 0.000e+00,\n",
       "        0.000e+00]])"
      ]
     },
     "execution_count": 15,
     "metadata": {},
     "output_type": "execute_result"
    }
   ],
   "source": [
    "mat_histo_testing"
   ]
  },
  {
   "cell_type": "code",
   "execution_count": 16,
   "metadata": {},
   "outputs": [
    {
     "data": {
      "text/plain": [
       "array([[2840.,   13.,    9., ...,    0.,    0.,    0.],\n",
       "       [2445.,   17.,    9., ...,    0.,    0.,    0.],\n",
       "       [2286.,   13.,    9., ...,    0.,    0.,    0.],\n",
       "       ...,\n",
       "       [2822.,   12.,    7., ...,    0.,    0.,    0.],\n",
       "       [2800.,    9.,   12., ...,    0.,    0.,    0.],\n",
       "       [3646.,    9.,    6., ...,    0.,    0.,    0.]])"
      ]
     },
     "execution_count": 16,
     "metadata": {},
     "output_type": "execute_result"
    }
   ],
   "source": [
    "mat_histo_training"
   ]
  },
  {
   "cell_type": "code",
   "execution_count": 17,
   "metadata": {},
   "outputs": [
    {
     "data": {
      "text/plain": [
       "array([2.319e+03, 2.900e+01, 2.000e+00, 0.000e+00, 2.000e+00, 1.300e+01,\n",
       "       4.000e+00, 2.000e+00, 1.000e+00, 0.000e+00, 1.000e+00, 5.000e+00,\n",
       "       2.000e+00, 1.000e+00, 1.000e+00, 1.000e+00, 2.000e+00, 2.000e+00,\n",
       "       1.000e+00, 7.000e+00, 8.000e+00, 1.400e+01, 2.000e+00, 2.000e+00,\n",
       "       0.000e+00, 3.000e+00, 0.000e+00, 0.000e+00, 0.000e+00, 0.000e+00,\n",
       "       1.000e+00, 2.000e+00, 2.000e+00, 1.000e+00, 1.000e+00, 1.000e+00,\n",
       "       2.000e+00, 0.000e+00, 1.000e+00, 0.000e+00, 0.000e+00, 1.000e+00,\n",
       "       0.000e+00, 1.000e+00, 2.000e+00, 1.000e+00, 3.000e+00, 3.000e+00,\n",
       "       3.000e+00, 2.000e+00, 3.000e+00, 2.000e+00, 2.000e+00, 1.000e+00,\n",
       "       0.000e+00, 0.000e+00, 3.000e+00, 0.000e+00, 2.000e+00, 1.000e+00,\n",
       "       1.000e+00, 1.000e+00, 2.000e+00, 0.000e+00, 0.000e+00, 0.000e+00,\n",
       "       0.000e+00, 1.000e+00, 1.000e+00, 1.000e+00, 1.000e+00, 1.000e+00,\n",
       "       0.000e+00, 2.000e+00, 2.000e+00, 0.000e+00, 0.000e+00, 0.000e+00,\n",
       "       2.000e+00, 4.000e+00, 2.000e+00, 2.000e+00, 4.000e+00, 4.000e+00,\n",
       "       9.000e+00, 9.000e+00, 1.000e+00, 2.000e+00, 3.000e+00, 2.000e+00,\n",
       "       2.000e+00, 2.000e+00, 3.000e+00, 2.000e+00, 4.000e+00, 0.000e+00,\n",
       "       2.000e+00, 5.000e+00, 6.000e+00, 1.000e+00, 3.000e+00, 2.000e+00,\n",
       "       0.000e+00, 2.000e+00, 3.000e+00, 4.000e+00, 2.000e+00, 3.000e+00,\n",
       "       3.000e+00, 2.000e+00, 2.000e+00, 2.000e+00, 0.000e+00, 4.000e+00,\n",
       "       1.000e+00, 0.000e+00, 1.000e+00, 1.000e+00, 3.000e+00, 0.000e+00,\n",
       "       2.000e+00, 2.000e+00, 1.000e+00, 1.000e+00, 0.000e+00, 2.000e+00,\n",
       "       3.000e+00, 3.000e+00, 3.000e+00, 2.000e+00, 1.000e+00, 1.000e+00,\n",
       "       3.000e+00, 1.000e+00, 2.000e+00, 0.000e+00, 5.000e+00, 1.500e+01,\n",
       "       4.700e+01, 1.250e+02, 2.020e+02, 3.560e+02, 5.140e+02, 5.530e+02,\n",
       "       4.730e+02, 4.220e+02, 4.000e+02, 3.470e+02, 3.210e+02, 3.300e+02,\n",
       "       3.160e+02, 2.660e+02, 2.580e+02, 2.700e+02, 2.610e+02, 2.700e+02,\n",
       "       1.900e+02, 1.560e+02, 1.320e+02, 1.460e+02, 1.090e+02, 1.060e+02,\n",
       "       9.900e+01, 1.020e+02, 7.500e+01, 7.900e+01, 8.000e+01, 8.500e+01,\n",
       "       5.500e+01, 3.000e+01, 1.700e+01, 1.300e+01, 1.600e+01, 1.500e+01,\n",
       "       1.400e+01, 1.300e+01, 1.000e+01, 1.400e+01, 6.000e+00, 1.500e+01,\n",
       "       4.000e+00, 6.000e+00, 8.000e+00, 7.000e+00, 6.000e+00, 3.000e+00,\n",
       "       2.000e+00, 4.000e+00, 2.000e+00, 2.000e+00, 2.000e+00, 1.000e+00,\n",
       "       0.000e+00, 0.000e+00, 2.000e+00, 1.000e+00, 1.000e+00, 2.000e+00,\n",
       "       1.000e+00, 0.000e+00, 2.000e+00, 0.000e+00, 0.000e+00, 0.000e+00,\n",
       "       0.000e+00, 0.000e+00, 0.000e+00, 1.000e+00, 0.000e+00, 0.000e+00,\n",
       "       0.000e+00, 0.000e+00, 1.000e+00, 0.000e+00, 0.000e+00, 0.000e+00,\n",
       "       0.000e+00, 0.000e+00, 0.000e+00, 0.000e+00, 0.000e+00, 0.000e+00,\n",
       "       0.000e+00, 0.000e+00, 0.000e+00, 0.000e+00, 0.000e+00, 0.000e+00,\n",
       "       0.000e+00, 0.000e+00, 0.000e+00, 0.000e+00, 0.000e+00, 0.000e+00,\n",
       "       0.000e+00, 0.000e+00, 0.000e+00, 0.000e+00, 0.000e+00, 0.000e+00,\n",
       "       0.000e+00, 0.000e+00, 0.000e+00, 0.000e+00, 0.000e+00, 0.000e+00,\n",
       "       0.000e+00, 0.000e+00, 0.000e+00, 0.000e+00, 0.000e+00, 0.000e+00,\n",
       "       0.000e+00, 0.000e+00, 0.000e+00, 0.000e+00])"
      ]
     },
     "execution_count": 17,
     "metadata": {},
     "output_type": "execute_result"
    }
   ],
   "source": [
    "#affichage l'histogramme du premier image test\n",
    "hs=mat_histo_testing[1,:]\n",
    "hs"
   ]
  },
  {
   "cell_type": "code",
   "execution_count": 18,
   "metadata": {},
   "outputs": [
    {
     "data": {
      "image/png": "[encoded data removed]",
      "text/plain": [
       "<Figure size 432x288 with 1 Axes>"
      ]
     },
     "metadata": {
      "needs_background": "light"
     },
     "output_type": "display_data"
    }
   ],
   "source": [
    "pixel=np.arange(len(mat_histo_testing[1,:]))\n",
    "plt.bar(pixel,mat_histo_testing[1,:],alpha=0.9)\n",
    "plt.xlabel('Pixel')\n",
    "plt.ylabel('Frequency')\n",
    "plt.show()"
   ]
  },
  {
   "cell_type": "code",
   "execution_count": 19,
   "metadata": {},
   "outputs": [],
   "source": [
    "def dist(x,y):\n",
    "    return np.sqrt(np.sum((x-y)**2))"
   ]
  },
  {
   "cell_type": "code",
   "execution_count": 20,
   "metadata": {},
   "outputs": [],
   "source": [
    "def stock_dist(hist1,hist2,nbr_im):\n",
    "    mat_dist=np.zeros((nbr_im,nbr_im))\n",
    "    for i in range(0,nbr_im):\n",
    "        for j in range(0,nbr_im):\n",
    "            mat_dist[i,j]=dist(hist1[i],hist2[j])\n",
    "    return mat_dist"
   ]
  },
  {
   "cell_type": "code",
   "execution_count": 21,
   "metadata": {},
   "outputs": [
    {
     "data": {
      "text/plain": [
       "array([[2200.352699  , 1492.29152648, 2359.89406542, ..., 1470.13740854,\n",
       "         880.15112339, 1983.4318743 ],\n",
       "       [2165.34939444, 1850.7825372 , 2222.52469053, ...,  733.06207104,\n",
       "        1200.94629355, 1694.6757802 ],\n",
       "       [2072.21523979, 1626.2103185 , 2145.00769229, ...,  905.02265165,\n",
       "         919.84020351, 1835.76142241],\n",
       "       ...,\n",
       "       [1484.07142685, 1339.23336279, 1703.76993752, ...,  894.00447426,\n",
       "         667.38894207, 1237.30351976],\n",
       "       [1630.92489097, 1588.61260224, 1671.67460949, ...,  684.94525329,\n",
       "         898.01002222, 1209.01695604],\n",
       "       [1946.96635821, 1702.69198624, 1888.37072631, ...,  766.62376692,\n",
       "        1110.01801787, 1586.88436882]])"
      ]
     },
     "execution_count": 21,
     "metadata": {},
     "output_type": "execute_result"
    }
   ],
   "source": [
    "nbr_im=200\n",
    "mat_dist=stock_dist(mat_histo_testing,mat_histo_training,nbr_im)\n",
    "mat_dist"
   ]
  },
  {
   "cell_type": "code",
   "execution_count": 24,
   "metadata": {},
   "outputs": [
    {
     "data": {
      "text/plain": [
       "array([[ 47,  66,  45, ...,  36, 157, 161],\n",
       "       [138, 149,  54, ...,  36, 157, 161],\n",
       "       [ 62,  96,  99, ...,  36, 157, 161],\n",
       "       ...,\n",
       "       [191, 185, 188, ..., 110,  97, 161],\n",
       "       [176, 189, 134, ...,  36, 157, 161],\n",
       "       [100, 121, 119, ...,  36, 157, 161]], dtype=int64)"
      ]
     },
     "execution_count": 24,
     "metadata": {},
     "output_type": "execute_result"
    }
   ],
   "source": [
    "#Returns the indices that would sort in mat_dist\n",
    "mat_index=np.argsort(mat_dist,axis=1)\n",
    "mat_index"
   ]
  },
  {
   "cell_type": "code",
   "execution_count": 25,
   "metadata": {},
   "outputs": [
    {
     "data": {
      "text/plain": [
       "array([29,  1, 50, 15,  3, 40, 83, 33, 22, 12], dtype=int64)"
      ]
     },
     "execution_count": 25,
     "metadata": {},
     "output_type": "execute_result"
    }
   ],
   "source": [
    "mat_index[30,0:10]"
   ]
  },
  {
   "cell_type": "code",
   "execution_count": 26,
   "metadata": {},
   "outputs": [
    {
     "data": {
      "text/plain": [
       "(200, 200)"
      ]
     },
     "execution_count": 26,
     "metadata": {},
     "output_type": "execute_result"
    }
   ],
   "source": [
    "mat_index.shape"
   ]
  },
  {
   "cell_type": "code",
   "execution_count": 27,
   "metadata": {},
   "outputs": [],
   "source": [
    "new_mat=np.zeros((200,200))\n",
    "for i in range(200):\n",
    "    if i>=0 and i<=99 :\n",
    "        for j in range(0,200):\n",
    "            if mat_index[i][j]<=99:\n",
    "                    new_mat[i][j]=1\n",
    "            else:\n",
    "                    new_mat[i][j]=0\n",
    "    elif i>=100 and i<=199 :\n",
    "        for j in range(0,200):\n",
    "                if mat_index[i][j]<=199 and mat_index[i][j]>=100:\n",
    "                    new_mat[i][j]=1\n",
    "                else:\n",
    "                    new_mat[i][j]=0                  "
   ]
  },
  {
   "cell_type": "code",
   "execution_count": 28,
   "metadata": {},
   "outputs": [
    {
     "data": {
      "text/plain": [
       "array([[1., 1., 1., ..., 1., 0., 0.],\n",
       "       [0., 0., 1., ..., 1., 0., 0.],\n",
       "       [1., 1., 1., ..., 1., 0., 0.],\n",
       "       ...,\n",
       "       [1., 1., 1., ..., 1., 0., 1.],\n",
       "       [1., 1., 1., ..., 0., 1., 1.],\n",
       "       [1., 1., 1., ..., 0., 1., 1.]])"
      ]
     },
     "execution_count": 28,
     "metadata": {},
     "output_type": "execute_result"
    }
   ],
   "source": [
    "new_mat"
   ]
  },
  {
   "cell_type": "code",
   "execution_count": 29,
   "metadata": {},
   "outputs": [
    {
     "data": {
      "text/plain": [
       "array([1., 1., 1., 0., 1., 1., 1., 1., 1., 1., 1., 0., 1., 1., 1., 1., 1.,\n",
       "       1., 1., 1., 1., 1., 1., 1., 1., 0., 1., 0., 0., 1., 1., 0., 0., 1.,\n",
       "       0., 0., 0., 0., 0., 1., 0., 0., 0., 0., 0., 1., 0., 0., 1., 0., 0.,\n",
       "       1., 1., 0., 1., 1., 1., 0., 1., 1., 0., 0., 0., 1., 1., 1., 0., 1.,\n",
       "       1., 0., 0., 0., 0., 0., 0., 0., 0., 0., 0., 0., 0., 0., 1., 1., 1.,\n",
       "       0., 1., 1., 0., 1., 0., 0., 1., 1., 1., 1., 0., 1., 1., 0., 1., 0.,\n",
       "       1., 0., 1., 0., 1., 1., 1., 0., 1., 0., 0., 1., 1., 1., 0., 0., 0.,\n",
       "       0., 0., 0., 0., 0., 0., 1., 0., 0., 0., 1., 0., 0., 0., 0., 0., 1.,\n",
       "       0., 1., 1., 0., 1., 0., 0., 0., 0., 1., 1., 1., 1., 0., 0., 0., 1.,\n",
       "       0., 0., 1., 0., 1., 0., 1., 0., 0., 1., 1., 1., 1., 0., 0., 1., 0.,\n",
       "       0., 0., 1., 0., 0., 1., 1., 0., 1., 1., 1., 1., 0., 1., 0., 1., 1.,\n",
       "       0., 1., 1., 0., 0., 1., 1., 1., 1., 0., 1., 0., 0.])"
      ]
     },
     "execution_count": 29,
     "metadata": {},
     "output_type": "execute_result"
    }
   ],
   "source": [
    "#l'image requete est la premiere image du test\n",
    "new_mat[0,:]"
   ]
  },
  {
   "cell_type": "code",
   "execution_count": 30,
   "metadata": {},
   "outputs": [],
   "source": [
    "precision=np.zeros((1,200))\n",
    "recall=np.zeros((1,200))\n",
    "specificity=np.zeros((1,200))\n",
    "sensitivity=np.zeros((1,200))"
   ]
  },
  {
   "cell_type": "code",
   "execution_count": 31,
   "metadata": {},
   "outputs": [
    {
     "name": "stdout",
     "output_type": "stream",
     "text": [
      "100.0\n"
     ]
    }
   ],
   "source": [
    "# pertinent= np.sum(new_mat[0,:])\n",
    "# print(pertinent)"
   ]
  },
  {
   "cell_type": "markdown",
   "metadata": {},
   "source": [
    "sensitivity = recall = vp / (vp + fn)\n",
    "\n",
    "specificity = vn / (vn + fp)\n",
    "\n",
    "precision = vp / (vp + fp)"
   ]
  },
  {
   "cell_type": "code",
   "execution_count": 32,
   "metadata": {},
   "outputs": [
    {
     "name": "stdout",
     "output_type": "stream",
     "text": [
      "1.0\n",
      "2.0\n",
      "3.0\n",
      "3.0\n",
      "4.0\n",
      "5.0\n",
      "6.0\n",
      "7.0\n",
      "8.0\n",
      "9.0\n",
      "10.0\n",
      "10.0\n",
      "11.0\n",
      "12.0\n",
      "13.0\n",
      "14.0\n",
      "15.0\n",
      "16.0\n",
      "17.0\n",
      "18.0\n",
      "19.0\n",
      "20.0\n",
      "21.0\n",
      "22.0\n",
      "23.0\n",
      "23.0\n",
      "24.0\n",
      "24.0\n",
      "24.0\n",
      "25.0\n",
      "26.0\n",
      "26.0\n",
      "26.0\n",
      "27.0\n",
      "27.0\n",
      "27.0\n",
      "27.0\n",
      "27.0\n",
      "27.0\n",
      "28.0\n",
      "28.0\n",
      "28.0\n",
      "28.0\n",
      "28.0\n",
      "28.0\n",
      "29.0\n",
      "29.0\n",
      "29.0\n",
      "30.0\n",
      "30.0\n",
      "30.0\n",
      "31.0\n",
      "32.0\n",
      "32.0\n",
      "33.0\n",
      "34.0\n",
      "35.0\n",
      "35.0\n",
      "36.0\n",
      "37.0\n",
      "37.0\n",
      "37.0\n",
      "37.0\n",
      "38.0\n",
      "39.0\n",
      "40.0\n",
      "40.0\n",
      "41.0\n",
      "42.0\n",
      "42.0\n",
      "42.0\n",
      "42.0\n",
      "42.0\n",
      "42.0\n",
      "42.0\n",
      "42.0\n",
      "42.0\n",
      "42.0\n",
      "42.0\n",
      "42.0\n",
      "42.0\n",
      "42.0\n",
      "43.0\n",
      "44.0\n",
      "45.0\n",
      "45.0\n",
      "46.0\n",
      "47.0\n",
      "47.0\n",
      "48.0\n",
      "48.0\n",
      "48.0\n",
      "49.0\n",
      "50.0\n",
      "51.0\n",
      "52.0\n",
      "52.0\n",
      "53.0\n",
      "54.0\n",
      "54.0\n",
      "55.0\n",
      "55.0\n",
      "56.0\n",
      "56.0\n",
      "57.0\n",
      "57.0\n",
      "58.0\n",
      "59.0\n",
      "60.0\n",
      "60.0\n",
      "61.0\n",
      "61.0\n",
      "61.0\n",
      "62.0\n",
      "63.0\n",
      "64.0\n",
      "64.0\n",
      "64.0\n",
      "64.0\n",
      "64.0\n",
      "64.0\n",
      "64.0\n",
      "64.0\n",
      "64.0\n",
      "64.0\n",
      "65.0\n",
      "65.0\n",
      "65.0\n",
      "65.0\n",
      "66.0\n",
      "66.0\n",
      "66.0\n",
      "66.0\n",
      "66.0\n",
      "66.0\n",
      "67.0\n",
      "67.0\n",
      "68.0\n",
      "69.0\n",
      "69.0\n",
      "70.0\n",
      "70.0\n",
      "70.0\n",
      "70.0\n",
      "70.0\n",
      "71.0\n",
      "72.0\n",
      "73.0\n",
      "74.0\n",
      "74.0\n",
      "74.0\n",
      "74.0\n",
      "75.0\n",
      "75.0\n",
      "75.0\n",
      "76.0\n",
      "76.0\n",
      "77.0\n",
      "77.0\n",
      "78.0\n",
      "78.0\n",
      "78.0\n",
      "79.0\n",
      "80.0\n",
      "81.0\n",
      "82.0\n",
      "82.0\n",
      "82.0\n",
      "83.0\n",
      "83.0\n",
      "83.0\n",
      "83.0\n",
      "84.0\n",
      "84.0\n",
      "84.0\n",
      "85.0\n",
      "86.0\n",
      "86.0\n",
      "87.0\n",
      "88.0\n",
      "89.0\n",
      "90.0\n",
      "90.0\n",
      "91.0\n",
      "91.0\n",
      "92.0\n",
      "93.0\n",
      "93.0\n",
      "94.0\n",
      "95.0\n",
      "95.0\n",
      "95.0\n",
      "96.0\n",
      "97.0\n",
      "98.0\n",
      "99.0\n",
      "99.0\n",
      "100.0\n",
      "100.0\n",
      "100.0\n"
     ]
    }
   ],
   "source": [
    "# for i in range(1,201):\n",
    "#     VP=np.sum(new_mat[0,0:i]) #sommer les valeurs positive du 0 jusqua i (exclus) dans la premiere ligne dans la matrice\n",
    "#     print(VP)\n",
    "#     FP=i-VP\n",
    "#     FN=pertinent-VP\n",
    "#     VN=200-i-FN\n",
    "#     precision[0,i-1]=VP/(VP+FP)\n",
    "#     recall[0,i-1] =VP/(VP+FN)\n",
    "#     sensitivity[0,i-1]=VP/(VP+FN)\n",
    "#     specificity[0,i-1]=VN/(VN+FP)"
   ]
  },
  {
   "cell_type": "code",
   "execution_count": 33,
   "metadata": {},
   "outputs": [
    {
     "name": "stdout",
     "output_type": "stream",
     "text": [
      "[[1.         1.         1.         0.75       0.8        0.83333333\n",
      "  0.85714286 0.875      0.88888889 0.9        0.90909091 0.83333333\n",
      "  0.84615385 0.85714286 0.86666667 0.875      0.88235294 0.88888889\n",
      "  0.89473684 0.9        0.9047619  0.90909091 0.91304348 0.91666667\n",
      "  0.92       0.88461538 0.88888889 0.85714286 0.82758621 0.83333333\n",
      "  0.83870968 0.8125     0.78787879 0.79411765 0.77142857 0.75\n",
      "  0.72972973 0.71052632 0.69230769 0.7        0.68292683 0.66666667\n",
      "  0.65116279 0.63636364 0.62222222 0.63043478 0.61702128 0.60416667\n",
      "  0.6122449  0.6        0.58823529 0.59615385 0.60377358 0.59259259\n",
      "  0.6        0.60714286 0.61403509 0.60344828 0.61016949 0.61666667\n",
      "  0.60655738 0.59677419 0.58730159 0.59375    0.6        0.60606061\n",
      "  0.59701493 0.60294118 0.60869565 0.6        0.5915493  0.58333333\n",
      "  0.57534247 0.56756757 0.56       0.55263158 0.54545455 0.53846154\n",
      "  0.53164557 0.525      0.51851852 0.51219512 0.51807229 0.52380952\n",
      "  0.52941176 0.52325581 0.52873563 0.53409091 0.52808989 0.53333333\n",
      "  0.52747253 0.52173913 0.52688172 0.53191489 0.53684211 0.54166667\n",
      "  0.53608247 0.54081633 0.54545455 0.54       0.54455446 0.53921569\n",
      "  0.54368932 0.53846154 0.54285714 0.53773585 0.54205607 0.5462963\n",
      "  0.55045872 0.54545455 0.54954955 0.54464286 0.53982301 0.54385965\n",
      "  0.54782609 0.55172414 0.54700855 0.54237288 0.53781513 0.53333333\n",
      "  0.52892562 0.52459016 0.5203252  0.51612903 0.512      0.51587302\n",
      "  0.51181102 0.5078125  0.50387597 0.50769231 0.50381679 0.5\n",
      "  0.4962406  0.49253731 0.48888889 0.49264706 0.48905109 0.49275362\n",
      "  0.49640288 0.49285714 0.4964539  0.49295775 0.48951049 0.48611111\n",
      "  0.48275862 0.48630137 0.48979592 0.49324324 0.4966443  0.49333333\n",
      "  0.49006623 0.48684211 0.49019608 0.48701299 0.48387097 0.48717949\n",
      "  0.48407643 0.48734177 0.48427673 0.4875     0.48447205 0.48148148\n",
      "  0.48466258 0.48780488 0.49090909 0.4939759  0.49101796 0.48809524\n",
      "  0.49112426 0.48823529 0.48538012 0.48255814 0.48554913 0.48275862\n",
      "  0.48       0.48295455 0.48587571 0.48314607 0.48603352 0.48888889\n",
      "  0.49171271 0.49450549 0.49180328 0.49456522 0.49189189 0.49462366\n",
      "  0.4973262  0.49468085 0.4973545  0.5        0.4973822  0.49479167\n",
      "  0.49740933 0.5        0.5025641  0.50510204 0.50253807 0.50505051\n",
      "  0.50251256 0.5       ]]\n"
     ]
    }
   ],
   "source": [
    "print(precision)"
   ]
  },
  {
   "cell_type": "code",
   "execution_count": 34,
   "metadata": {},
   "outputs": [
    {
     "name": "stdout",
     "output_type": "stream",
     "text": [
      "[[0.01 0.02 0.03 0.03 0.04 0.05 0.06 0.07 0.08 0.09 0.1  0.1  0.11 0.12\n",
      "  0.13 0.14 0.15 0.16 0.17 0.18 0.19 0.2  0.21 0.22 0.23 0.23 0.24 0.24\n",
      "  0.24 0.25 0.26 0.26 0.26 0.27 0.27 0.27 0.27 0.27 0.27 0.28 0.28 0.28\n",
      "  0.28 0.28 0.28 0.29 0.29 0.29 0.3  0.3  0.3  0.31 0.32 0.32 0.33 0.34\n",
      "  0.35 0.35 0.36 0.37 0.37 0.37 0.37 0.38 0.39 0.4  0.4  0.41 0.42 0.42\n",
      "  0.42 0.42 0.42 0.42 0.42 0.42 0.42 0.42 0.42 0.42 0.42 0.42 0.43 0.44\n",
      "  0.45 0.45 0.46 0.47 0.47 0.48 0.48 0.48 0.49 0.5  0.51 0.52 0.52 0.53\n",
      "  0.54 0.54 0.55 0.55 0.56 0.56 0.57 0.57 0.58 0.59 0.6  0.6  0.61 0.61\n",
      "  0.61 0.62 0.63 0.64 0.64 0.64 0.64 0.64 0.64 0.64 0.64 0.64 0.64 0.65\n",
      "  0.65 0.65 0.65 0.66 0.66 0.66 0.66 0.66 0.66 0.67 0.67 0.68 0.69 0.69\n",
      "  0.7  0.7  0.7  0.7  0.7  0.71 0.72 0.73 0.74 0.74 0.74 0.74 0.75 0.75\n",
      "  0.75 0.76 0.76 0.77 0.77 0.78 0.78 0.78 0.79 0.8  0.81 0.82 0.82 0.82\n",
      "  0.83 0.83 0.83 0.83 0.84 0.84 0.84 0.85 0.86 0.86 0.87 0.88 0.89 0.9\n",
      "  0.9  0.91 0.91 0.92 0.93 0.93 0.94 0.95 0.95 0.95 0.96 0.97 0.98 0.99\n",
      "  0.99 1.   1.   1.  ]]\n"
     ]
    }
   ],
   "source": [
    "print(recall)"
   ]
  },
  {
   "cell_type": "code",
   "execution_count": 35,
   "metadata": {},
   "outputs": [
    {
     "name": "stdout",
     "output_type": "stream",
     "text": [
      "[[1.   1.   1.   0.99 0.99 0.99 0.99 0.99 0.99 0.99 0.99 0.98 0.98 0.98\n",
      "  0.98 0.98 0.98 0.98 0.98 0.98 0.98 0.98 0.98 0.98 0.98 0.97 0.97 0.96\n",
      "  0.95 0.95 0.95 0.94 0.93 0.93 0.92 0.91 0.9  0.89 0.88 0.88 0.87 0.86\n",
      "  0.85 0.84 0.83 0.83 0.82 0.81 0.81 0.8  0.79 0.79 0.79 0.78 0.78 0.78\n",
      "  0.78 0.77 0.77 0.77 0.76 0.75 0.74 0.74 0.74 0.74 0.73 0.73 0.73 0.72\n",
      "  0.71 0.7  0.69 0.68 0.67 0.66 0.65 0.64 0.63 0.62 0.61 0.6  0.6  0.6\n",
      "  0.6  0.59 0.59 0.59 0.58 0.58 0.57 0.56 0.56 0.56 0.56 0.56 0.55 0.55\n",
      "  0.55 0.54 0.54 0.53 0.53 0.52 0.52 0.51 0.51 0.51 0.51 0.5  0.5  0.49\n",
      "  0.48 0.48 0.48 0.48 0.47 0.46 0.45 0.44 0.43 0.42 0.41 0.4  0.39 0.39\n",
      "  0.38 0.37 0.36 0.36 0.35 0.34 0.33 0.32 0.31 0.31 0.3  0.3  0.3  0.29\n",
      "  0.29 0.28 0.27 0.26 0.25 0.25 0.25 0.25 0.25 0.24 0.23 0.22 0.22 0.21\n",
      "  0.2  0.2  0.19 0.19 0.18 0.18 0.17 0.16 0.16 0.16 0.16 0.16 0.15 0.14\n",
      "  0.14 0.13 0.12 0.11 0.11 0.1  0.09 0.09 0.09 0.08 0.08 0.08 0.08 0.08\n",
      "  0.07 0.07 0.06 0.06 0.06 0.05 0.05 0.05 0.04 0.03 0.03 0.03 0.03 0.03\n",
      "  0.02 0.02 0.01 0.  ]]\n"
     ]
    }
   ],
   "source": [
    "print(specificity)"
   ]
  },
  {
   "cell_type": "code",
   "execution_count": 36,
   "metadata": {},
   "outputs": [
    {
     "name": "stdout",
     "output_type": "stream",
     "text": [
      "[[0.01 0.02 0.03 0.03 0.04 0.05 0.06 0.07 0.08 0.09 0.1  0.1  0.11 0.12\n",
      "  0.13 0.14 0.15 0.16 0.17 0.18 0.19 0.2  0.21 0.22 0.23 0.23 0.24 0.24\n",
      "  0.24 0.25 0.26 0.26 0.26 0.27 0.27 0.27 0.27 0.27 0.27 0.28 0.28 0.28\n",
      "  0.28 0.28 0.28 0.29 0.29 0.29 0.3  0.3  0.3  0.31 0.32 0.32 0.33 0.34\n",
      "  0.35 0.35 0.36 0.37 0.37 0.37 0.37 0.38 0.39 0.4  0.4  0.41 0.42 0.42\n",
      "  0.42 0.42 0.42 0.42 0.42 0.42 0.42 0.42 0.42 0.42 0.42 0.42 0.43 0.44\n",
      "  0.45 0.45 0.46 0.47 0.47 0.48 0.48 0.48 0.49 0.5  0.51 0.52 0.52 0.53\n",
      "  0.54 0.54 0.55 0.55 0.56 0.56 0.57 0.57 0.58 0.59 0.6  0.6  0.61 0.61\n",
      "  0.61 0.62 0.63 0.64 0.64 0.64 0.64 0.64 0.64 0.64 0.64 0.64 0.64 0.65\n",
      "  0.65 0.65 0.65 0.66 0.66 0.66 0.66 0.66 0.66 0.67 0.67 0.68 0.69 0.69\n",
      "  0.7  0.7  0.7  0.7  0.7  0.71 0.72 0.73 0.74 0.74 0.74 0.74 0.75 0.75\n",
      "  0.75 0.76 0.76 0.77 0.77 0.78 0.78 0.78 0.79 0.8  0.81 0.82 0.82 0.82\n",
      "  0.83 0.83 0.83 0.83 0.84 0.84 0.84 0.85 0.86 0.86 0.87 0.88 0.89 0.9\n",
      "  0.9  0.91 0.91 0.92 0.93 0.93 0.94 0.95 0.95 0.95 0.96 0.97 0.98 0.99\n",
      "  0.99 1.   1.   1.  ]]\n"
     ]
    }
   ],
   "source": [
    "print(sensitivity)"
   ]
  },
  {
   "cell_type": "code",
   "execution_count": 37,
   "metadata": {},
   "outputs": [
    {
     "data": {
      "text/plain": [
       "array([0.59521564])"
      ]
     },
     "execution_count": 37,
     "metadata": {},
     "output_type": "execute_result"
    }
   ],
   "source": [
    "pr_moy=np.sum(precision[0,:])/precision[0,:].shape\n",
    "pr_moy"
   ]
  },
  {
   "cell_type": "code",
   "execution_count": 38,
   "metadata": {},
   "outputs": [
    {
     "data": {
      "image/png": "[encoded data removed]",
      "text/plain": [
       "<Figure size 432x288 with 1 Axes>"
      ]
     },
     "metadata": {
      "needs_background": "light"
     },
     "output_type": "display_data"
    }
   ],
   "source": [
    "plt.grid(True)\n",
    "plt.ylabel(\"Precision\")\n",
    "plt.xlabel(\"Recall\")\n",
    "plt.plot(recall[0,:],precision[0,:],color=\"green\")\n",
    "plt.show()"
   ]
  },
  {
   "cell_type": "code",
   "execution_count": 68,
   "metadata": {},
   "outputs": [
    {
     "name": "stdout",
     "output_type": "stream",
     "text": [
      "donner le numero d'image:130\n"
     ]
    }
   ],
   "source": [
    "index_image=int(input(\"donner le numero d'image:\"))"
   ]
  },
  {
   "cell_type": "code",
   "execution_count": 69,
   "metadata": {},
   "outputs": [],
   "source": [
    "matrice_dest=mat_index[index_image,:]"
   ]
  },
  {
   "cell_type": "code",
   "execution_count": 70,
   "metadata": {},
   "outputs": [
    {
     "data": {
      "text/plain": [
       "array([130, 140, 199, 148, 125, 113, 117, 111, 105, 173, 136, 104, 143,\n",
       "       146, 127, 152, 116, 112,  65, 155, 122, 144, 131, 165, 158, 102,\n",
       "       179, 103, 135, 169, 159,  81, 137, 142, 156,  90, 153, 189,  78,\n",
       "       190, 134,  57,  94,  71,  91, 147, 128,  72, 176, 132, 188,  36,\n",
       "       172, 171, 168,  86, 197,  13, 196, 185,   4, 126, 157, 187, 141,\n",
       "        34,  32, 194, 166, 191, 193, 181, 107, 129, 198, 167,  52, 124,\n",
       "        69,  28,  68, 121, 133, 180, 115, 145, 109, 192, 119, 182,  48,\n",
       "       114, 184,  58,  95, 162, 177, 108,  73, 164,  16, 195, 163,  88,\n",
       "        63, 100,   6,  82,  33,  41,  45,  70, 174,  80, 120,  27,  83,\n",
       "       154,  30, 150,  75, 175,  51, 138,  59, 161, 139,  22,  31,  93,\n",
       "        49,  79, 123,  87, 178, 106,  38,  35,   5,  89,  54,  10,  42,\n",
       "       170,  66,  61,  64, 118,   0, 110, 101,  60,   3,  62,  96,  29,\n",
       "       149,  18,  92,  85,  47,  98,  99,  17, 186,  43,  77,  40,  44,\n",
       "        76,  37, 183,  12,   1,  74,  84,  20,   8,  39,  25,  56,  50,\n",
       "        19, 151,  53,  14,  26,  67,   9,  21,  55,   7,  15,  11,  23,\n",
       "         2,  46,  97, 160,  24], dtype=int64)"
      ]
     },
     "execution_count": 70,
     "metadata": {},
     "output_type": "execute_result"
    }
   ],
   "source": [
    "matrice_dest"
   ]
  },
  {
   "cell_type": "code",
   "execution_count": null,
   "metadata": {},
   "outputs": [],
   "source": []
  },
  {
   "cell_type": "code",
   "execution_count": 83,
   "metadata": {},
   "outputs": [],
   "source": [
    "def determiner_KNN_images(index_img_requete,nbr_img_recuperes):\n",
    "    matrice_dest=mat_index[index_img_requete,:]\n",
    "    mat_index_proches=matrice_dest[0:nbr_img_recuperes] #les indices k plus proches\n",
    "    k=1\n",
    "    for i in mat_index_proches:\n",
    "        target=filename_train + str(i) +\".png\"\n",
    "        pic=plt.imread(target)\n",
    "        plt.subplot(2,4,k)\n",
    "        if i>0 and i<100:\n",
    "            img_status='Non infectée'\n",
    "            plt.title(img_status)\n",
    "        elif i>=100 and i<200:\n",
    "            img_status=\"Infectée\"\n",
    "            plt.title(img_status)\n",
    "        plt.imshow(pic)\n",
    "        k=k+1\n",
    "     \n",
    "    \n",
    "    "
   ]
  },
  {
   "cell_type": "code",
   "execution_count": 85,
   "metadata": {},
   "outputs": [
    {
     "name": "stdout",
     "output_type": "stream",
     "text": [
      "donner le numero d'image:1\n",
      "donner le nombre des images plus proches:8\n"
     ]
    },
    {
     "data": {
      "image/png": "[encoded data removed]",
      "text/plain": [
       "<Figure size 432x288 with 8 Axes>"
      ]
     },
     "metadata": {
      "needs_background": "light"
     },
     "output_type": "display_data"
    }
   ],
   "source": [
    "index_image=int(input(\"donner le numero d'image:\"))\n",
    "nbr_img_recuperes=int(input(\"donner le nombre des images plus proches:\"))\n",
    "determiner_KNN_images(index_image,nbr_img_recuperes)\n"
   ]
  },
  {
   "cell_type": "code",
   "execution_count": null,
   "metadata": {},
   "outputs": [],
   "source": [
    "for i in range(1,nbr_img_recuperes):\n",
    "    VP=np.sum(new_mat[0,0:i]) #sommer les valeurs positive du 0 jusqua i (exclus) dans la premiere ligne dans la matrice\n",
    "    print(VP)\n",
    "    FP=i-VP\n",
    "    FN=pertinent-VP\n",
    "    VN=200-i-FN\n",
    "    precision[0,i-1]=VP/(VP+FP)\n",
    "    recall[0,i-1] =VP/(VP+FN)\n",
    "    sensitivity[0,i-1]=VP/(VP+FN)\n",
    "    specificity[0,i-1]=VN/(VN+FP)"
   ]
  },
  {
   "cell_type": "code",
   "execution_count": null,
   "metadata": {},
   "outputs": [],
   "source": [
    "pertinent= np.sum(new_mat[0,:])\n",
    "print(pertinent)"
   ]
  },
  {
   "cell_type": "code",
   "execution_count": null,
   "metadata": {},
   "outputs": [],
   "source": []
  },
  {
   "cell_type": "code",
   "execution_count": null,
   "metadata": {},
   "outputs": [],
   "source": []
  }
 ],
 "metadata": {
  "kernelspec": {
   "display_name": "Anaconda (mini-projet)",
   "language": "python",
   "name": "anaconda-mini-projet"
  },
  "language_info": {
   "codemirror_mode": {
    "name": "ipython",
    "version": 3
   },
   "file_extension": ".py",
   "mimetype": "text/x-python",
   "name": "python",
   "nbconvert_exporter": "python",
   "pygments_lexer": "ipython3",
   "version": "3.6.9"
  }
 },
 "nbformat": 4,
 "nbformat_minor": 4
}
