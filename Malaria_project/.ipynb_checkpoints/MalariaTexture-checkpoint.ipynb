{
 "cells": [
  {
   "cell_type": "code",
   "execution_count": 22,
   "metadata": {},
   "outputs": [],
   "source": [
    "import numpy as np\n",
    "import matplotlib.pyplot as plt\n",
    "import cv2"
   ]
  },
  {
   "cell_type": "code",
   "execution_count": 23,
   "metadata": {},
   "outputs": [
    {
     "name": "stdout",
     "output_type": "stream",
     "text": [
      "(120, 120, 3)\n"
     ]
    }
   ],
   "source": [
    "#resize a image from the dataset\n",
    "img = cv2.imread('dataset/training_set/1.png')\n",
    "img_resized = cv2.resize(img, dsize=(120,120), interpolation=cv2.INTER_CUBIC)\n",
    "taille=img_resized.shape\n",
    "print(taille)"
   ]
  },
  {
   "cell_type": "code",
   "execution_count": 24,
   "metadata": {},
   "outputs": [],
   "source": [
    "def rgb2gray(I):\n",
    "    r, g, b = I[:,:,0], I[:,:,1], I[:,:,2]\n",
    "    gray = 0.2989 * r + 0.5870 * g + 0.1140 * b\n",
    "    return gray"
   ]
  },
  {
   "cell_type": "code",
   "execution_count": 25,
   "metadata": {},
   "outputs": [
    {
     "data": {
      "image/png": "[encoded data removed]",
      "text/plain": [
       "<Figure size 432x288 with 1 Axes>"
      ]
     },
     "metadata": {
      "needs_background": "light"
     },
     "output_type": "display_data"
    }
   ],
   "source": [
    "I_gray=rgb2gray(img_resized)\n",
    "plt.imshow(I_gray,cmap=plt.get_cmap('gray')) #draws an image on the current figure (creates a figure if there isn't a current figure)\n",
    "plt.show() #displays the figure"
   ]
  },
  {
   "cell_type": "code",
   "execution_count": 26,
   "metadata": {},
   "outputs": [
    {
     "data": {
      "text/plain": [
       "(120, 120)"
      ]
     },
     "execution_count": 26,
     "metadata": {},
     "output_type": "execute_result"
    }
   ],
   "source": [
    "taille=I_gray.shape\n",
    "taille\n",
    "# nl,nc=taille"
   ]
  },
  {
   "cell_type": "code",
   "execution_count": 27,
   "metadata": {},
   "outputs": [],
   "source": [
    "filename_train=\"./dataset/training_set/\"\n",
    "filename_test=\"./dataset/testing_set/\"\n",
    "nbr_im=200"
   ]
  },
  {
   "cell_type": "code",
   "execution_count": 28,
   "metadata": {},
   "outputs": [],
   "source": [
    "#read the dataset and normalize it\n",
    "def stocker_images(nbr_im, filename):\n",
    "    nl,nc=taille\n",
    "    mat_image=np.zeros((nl,nc,nbr_im))\n",
    "    for i in range(nbr_im):\n",
    "        target= filename+ str(i+1) + '.png'\n",
    "        img = cv2.imread(target)\n",
    "        img_resized = cv2.resize(img, dsize=(120,120), interpolation=cv2.INTER_CUBIC)\n",
    "        mat_image[:,:,i]=rgb2gray(img_resized)       \n",
    "    return mat_image"
   ]
  },
  {
   "cell_type": "code",
   "execution_count": 29,
   "metadata": {},
   "outputs": [],
   "source": [
    "# mat_image=stocker_images(nbr_im, filename)\n",
    "mat_train_image=stocker_images(nbr_im,filename_train)\n",
    "mat_test_image=stocker_images(nbr_im,filename_test)\n",
    "# mat_test_image"
   ]
  },
  {
   "cell_type": "code",
   "execution_count": 30,
   "metadata": {},
   "outputs": [
    {
     "data": {
      "text/plain": [
       "(120, 120, 200)"
      ]
     },
     "execution_count": 30,
     "metadata": {},
     "output_type": "execute_result"
    }
   ],
   "source": [
    "taille=mat_test_image.shape\n",
    "taille"
   ]
  },
  {
   "cell_type": "code",
   "execution_count": 31,
   "metadata": {},
   "outputs": [],
   "source": [
    "def variance2(I):\n",
    "    nl,nc=I.shape\n",
    "    m=np.mean(I)\n",
    "    va=np.sum((I-m)**2)/(nl*nc)\n",
    "    return va"
   ]
  },
  {
   "cell_type": "code",
   "execution_count": 32,
   "metadata": {},
   "outputs": [
    {
     "name": "stdout",
     "output_type": "stream",
     "text": [
      "4608.479640153907\n"
     ]
    }
   ],
   "source": [
    "print(variance2(mat_test_image[:,:,0]))"
   ]
  },
  {
   "cell_type": "code",
   "execution_count": 33,
   "metadata": {},
   "outputs": [],
   "source": [
    "def energie(I): \n",
    "    nl,nc=I.shape\n",
    "    en= np.sum(I**2)\n",
    "    return en"
   ]
  },
  {
   "cell_type": "code",
   "execution_count": 34,
   "metadata": {},
   "outputs": [
    {
     "name": "stdout",
     "output_type": "stream",
     "text": [
      "260217348.31449327\n"
     ]
    }
   ],
   "source": [
    "print(energie(mat_test_image[:,:,0]))"
   ]
  },
  {
   "cell_type": "code",
   "execution_count": 35,
   "metadata": {},
   "outputs": [],
   "source": [
    "def entropie(I):\n",
    "    ent=np.sum(I*np.log2(I+1e-10))\n",
    "    return -ent"
   ]
  },
  {
   "cell_type": "code",
   "execution_count": 36,
   "metadata": {},
   "outputs": [
    {
     "name": "stdout",
     "output_type": "stream",
     "text": [
      "-12159915.835057572\n"
     ]
    }
   ],
   "source": [
    "print(entropie(mat_test_image[:,:,0]))"
   ]
  },
  {
   "cell_type": "code",
   "execution_count": 37,
   "metadata": {},
   "outputs": [],
   "source": [
    "def contraste(I):\n",
    "    nl,nc=I.shape\n",
    "    co=0\n",
    "    for i in range(nl):\n",
    "        for j in range(nc):\n",
    "            co+=((i-j)**2*I[i,j])\n",
    "    return co"
   ]
  },
  {
   "cell_type": "code",
   "execution_count": 38,
   "metadata": {},
   "outputs": [
    {
     "name": "stdout",
     "output_type": "stream",
     "text": [
      "3180766501.031695\n"
     ]
    }
   ],
   "source": [
    "print(contraste(mat_test_image[:,:,0]))"
   ]
  },
  {
   "cell_type": "code",
   "execution_count": 39,
   "metadata": {},
   "outputs": [],
   "source": [
    "def homogenite(I):\n",
    "    nl,nc=I.shape\n",
    "    mo=0\n",
    "    for i in range(nl):\n",
    "        for j in range(nc):\n",
    "            mo+=I[i,j]/(1+abs(i-j))\n",
    "    return mo"
   ]
  },
  {
   "cell_type": "code",
   "execution_count": 40,
   "metadata": {},
   "outputs": [
    {
     "name": "stdout",
     "output_type": "stream",
     "text": [
      "102106.28700135846\n"
     ]
    }
   ],
   "source": [
    "print(homogenite(mat_test_image[:,:,0]))"
   ]
  },
  {
   "cell_type": "code",
   "execution_count": 41,
   "metadata": {},
   "outputs": [],
   "source": [
    "def stocker_desc(mat_image):\n",
    "    nl,nc,nbr_img=mat_image.shape\n",
    "    desc=np.zeros((nbr_img,5))\n",
    "    for i in range(nbr_img) :\n",
    "        I = mat_image[:,:,i]\n",
    "        desc[i,:]=variance2(I), energie(I), entropie(I), contraste(I), homogenite(I)\n",
    "    return desc"
   ]
  },
  {
   "cell_type": "code",
   "execution_count": 42,
   "metadata": {},
   "outputs": [],
   "source": [
    "mat_desc_testing=stocker_desc(mat_test_image)\n",
    "mat_desc_training=stocker_desc(mat_train_image)"
   ]
  },
  {
   "cell_type": "code",
   "execution_count": 43,
   "metadata": {},
   "outputs": [
    {
     "data": {
      "text/plain": [
       "array([ 4.60847964e+03,  2.60217348e+08, -1.21599158e+07,  3.18076650e+09,\n",
       "        1.02106287e+05])"
      ]
     },
     "execution_count": 43,
     "metadata": {},
     "output_type": "execute_result"
    }
   ],
   "source": [
    "mat_desc_testing[0,:]"
   ]
  },
  {
   "cell_type": "code",
   "execution_count": 44,
   "metadata": {},
   "outputs": [],
   "source": [
    "def dist(x,y):\n",
    "    return np.sqrt(np.sum((x-y)**2))"
   ]
  },
  {
   "cell_type": "code",
   "execution_count": 45,
   "metadata": {},
   "outputs": [],
   "source": [
    "def stock_dist(dist1,dist2,nbr_im):\n",
    "    mat_dist=np.zeros((nbr_im,nbr_im))\n",
    "    for i in range(0,nbr_im):\n",
    "        for j in range(0,nbr_im):\n",
    "            mat_dist[i,j]=dist(dist1[i],dist2[j])\n",
    "    return mat_dist        "
   ]
  },
  {
   "cell_type": "code",
   "execution_count": 46,
   "metadata": {},
   "outputs": [
    {
     "data": {
      "text/plain": [
       "array([[1.75891061e+08, 2.34408943e+07, 7.08960867e+07, ...,\n",
       "        4.58344096e+08, 5.17799949e+08, 1.98543758e+09],\n",
       "       [6.15763946e+08, 4.28251554e+08, 4.88241225e+08, ...,\n",
       "        2.36037082e+07, 7.75209272e+07, 1.54514621e+09],\n",
       "       [6.97892179e+07, 1.24089312e+08, 8.86640003e+07, ...,\n",
       "        5.66898790e+08, 6.26599741e+08, 2.09416175e+09],\n",
       "       ...,\n",
       "       [6.17428279e+08, 4.29660523e+08, 4.88657209e+08, ...,\n",
       "        3.39331952e+07, 7.67001163e+07, 1.54347297e+09],\n",
       "       [9.75482323e+08, 7.87726357e+08, 8.46180741e+08, ...,\n",
       "        3.43101046e+08, 2.82521002e+08, 1.18541347e+09],\n",
       "       [1.61391397e+08, 3.48172714e+08, 2.97495816e+08, ...,\n",
       "        7.91937573e+08, 8.51832587e+08, 2.31927540e+09]])"
      ]
     },
     "execution_count": 46,
     "metadata": {},
     "output_type": "execute_result"
    }
   ],
   "source": [
    "nbr_im=200\n",
    "mat_dist=stock_dist(mat_desc_testing,mat_desc_training,nbr_im)\n",
    "mat_dist"
   ]
  },
  {
   "cell_type": "code",
   "execution_count": 47,
   "metadata": {},
   "outputs": [
    {
     "data": {
      "text/plain": [
       "array([1.75891061e+08, 2.34408943e+07, 7.08960867e+07, 6.09844234e+07,\n",
       "       1.48910551e+09, 2.84895250e+08, 3.95336912e+08, 1.57845536e+08,\n",
       "       5.55704559e+08, 6.21535288e+07, 4.75471896e+08, 4.64659660e+07,\n",
       "       3.13727084e+07, 1.04268696e+09, 1.56260264e+08, 1.38186198e+08,\n",
       "       7.64523214e+08, 5.37400998e+08, 4.74839768e+08, 1.51218551e+07,\n",
       "       2.85691452e+08, 1.30590990e+08, 1.86172949e+08, 2.11040970e+08,\n",
       "       2.72271886e+08, 2.65509338e+08, 1.66379272e+08, 4.55128792e+08,\n",
       "       4.46039189e+08, 1.84390596e+08, 4.50297191e+08, 3.16414110e+07,\n",
       "       2.72686395e+08, 2.83246787e+08, 2.64502256e+08, 2.00446501e+08,\n",
       "       4.50339769e+08, 2.25582509e+08, 9.34630525e+07, 3.90906076e+08,\n",
       "       3.47877072e+08, 6.22489545e+08, 8.86847683e+07, 1.79298461e+08,\n",
       "       5.31445414e+08, 1.21355760e+09, 4.56926636e+08, 3.53373342e+08,\n",
       "       3.25763285e+08, 2.74428476e+08, 2.35945073e+08, 1.00631723e+09,\n",
       "       7.72581684e+08, 4.08813200e+08, 1.42173993e+07, 1.13501072e+08,\n",
       "       1.80148158e+08, 1.16318233e+09, 1.17377066e+09, 1.47581234e+08,\n",
       "       1.02053700e+09, 1.77347727e+07, 1.55043609e+08, 8.80401165e+08,\n",
       "       5.53669232e+07, 1.05532660e+09, 7.68669814e+08, 3.36565576e+08,\n",
       "       3.33453379e+08, 2.31343589e+08, 2.65253080e+08, 1.20541940e+09,\n",
       "       1.05698230e+09, 9.91800750e+07, 2.50748669e+08, 1.00558947e+08,\n",
       "       2.87208868e+08, 6.56537806e+08, 1.04789882e+09, 3.88695518e+08,\n",
       "       6.10551901e+08, 4.64445499e+07, 2.98395666e+08, 1.61930791e+07,\n",
       "       2.39707889e+08, 6.64797263e+08, 5.68742588e+07, 1.91256765e+08,\n",
       "       6.41944144e+08, 5.36252387e+07, 2.89986695e+08, 6.13212094e+08,\n",
       "       2.10751744e+08, 2.24698845e+08, 1.65973128e+08, 7.10617709e+08,\n",
       "       1.48971933e+08, 1.22955958e+08, 7.43310740e+08, 4.26879524e+08,\n",
       "       3.34222002e+08, 8.78535245e+07, 1.49197049e+09, 1.47390425e+09,\n",
       "       1.65280578e+09, 1.26938414e+09, 3.36663557e+08, 7.20499902e+08,\n",
       "       1.03652575e+08, 8.20663181e+08, 1.03059233e+08, 4.84438013e+08,\n",
       "       7.88783142e+08, 8.94827379e+08, 5.16454560e+08, 1.03918651e+08,\n",
       "       1.61531669e+09, 1.15246627e+09, 2.35520625e+08, 2.36437249e+07,\n",
       "       2.31401712e+08, 4.38939260e+08, 1.60631366e+09, 2.26763680e+08,\n",
       "       8.10585981e+08, 1.35456792e+09, 8.85238396e+08, 9.91213603e+08,\n",
       "       3.76316581e+08, 4.84890871e+08, 1.28517577e+09, 1.14918254e+09,\n",
       "       9.59394094e+08, 8.93852486e+08, 9.44215727e+08, 1.35723729e+09,\n",
       "       1.02683367e+09, 1.07965939e+09, 2.44207132e+07, 8.72119798e+08,\n",
       "       1.82699436e+09, 6.51303695e+08, 8.33935037e+08, 3.43053853e+08,\n",
       "       2.32199158e+08, 4.88654611e+08, 2.27733982e+08, 1.16849789e+09,\n",
       "       1.45971750e+09, 2.71972168e+07, 7.83986826e+08, 1.86017239e+08,\n",
       "       1.56894049e+08, 5.38033432e+08, 4.84170454e+08, 1.82040294e+09,\n",
       "       6.36093961e+08, 1.35580438e+09, 1.32604431e+09, 5.48369627e+08,\n",
       "       1.45451131e+08, 2.67051672e+09, 7.12230630e+08, 4.67488829e+08,\n",
       "       4.12207180e+08, 9.62655464e+08, 2.90362742e+08, 3.26684676e+08,\n",
       "       4.70575321e+08, 3.73734479e+08, 1.62886410e+08, 9.24084056e+08,\n",
       "       3.29685337e+08, 1.16531880e+09, 6.19759565e+08, 6.54110710e+08,\n",
       "       7.08655717e+08, 7.55497614e+08, 7.96029363e+07, 5.03381793e+08,\n",
       "       6.68436948e+08, 4.68024689e+08, 1.77095747e+08, 1.93275155e+08,\n",
       "       7.67087687e+07, 5.68577287e+08, 9.61893887e+07, 1.06359117e+09,\n",
       "       6.90940393e+08, 6.79614309e+08, 5.84503813e+08, 6.13238306e+08,\n",
       "       5.22705864e+08, 9.61989583e+08, 4.65379618e+08, 5.75741859e+08,\n",
       "       6.95286280e+08, 4.58344096e+08, 5.17799949e+08, 1.98543758e+09])"
      ]
     },
     "execution_count": 47,
     "metadata": {},
     "output_type": "execute_result"
    }
   ],
   "source": [
    "mat_dist[0,:]"
   ]
  },
  {
   "cell_type": "code",
   "execution_count": 48,
   "metadata": {},
   "outputs": [
    {
     "data": {
      "text/plain": [
       "200"
      ]
     },
     "execution_count": 48,
     "metadata": {},
     "output_type": "execute_result"
    }
   ],
   "source": [
    "mat_dist[0,:].shape[0]"
   ]
  },
  {
   "cell_type": "code",
   "execution_count": 49,
   "metadata": {},
   "outputs": [
    {
     "data": {
      "text/plain": [
       "array([[ 54,  19,  83, ..., 140, 199, 161],\n",
       "       [121,  36,  30, ..., 140, 199, 161],\n",
       "       [115,  73,  97, ..., 140, 199, 161],\n",
       "       ...,\n",
       "       [ 30, 121,  99, ..., 140, 199, 161],\n",
       "       [150,  52,  16, ...,  46,  44, 161],\n",
       "       [100,  67,  76, ..., 140, 199, 161]], dtype=int64)"
      ]
     },
     "execution_count": 49,
     "metadata": {},
     "output_type": "execute_result"
    }
   ],
   "source": [
    "mat_index=np.argsort(mat_dist,axis=1)\n",
    "mat_index"
   ]
  },
  {
   "cell_type": "code",
   "execution_count": 50,
   "metadata": {},
   "outputs": [
    {
     "data": {
      "text/plain": [
       "(200, 200)"
      ]
     },
     "execution_count": 50,
     "metadata": {},
     "output_type": "execute_result"
    }
   ],
   "source": [
    "mat_index.shape"
   ]
  },
  {
   "cell_type": "code",
   "execution_count": 51,
   "metadata": {},
   "outputs": [],
   "source": [
    "new_mat=np.zeros((200,200))\n",
    "for i in range(200):\n",
    "    if i>=0 and i<=99 :\n",
    "        for j in range(0,200):\n",
    "            if mat_index[i][j]<=99:\n",
    "                    new_mat[i][j]=1\n",
    "            else:\n",
    "                    new_mat[i][j]=0\n",
    "    elif i>=100 and i<=199 :\n",
    "        for j in range(0,200):\n",
    "                if mat_index[i][j]<=199 and mat_index[i][j]>=100:\n",
    "                    new_mat[i][j]=1\n",
    "                else:\n",
    "                    new_mat[i][j]=0                  "
   ]
  },
  {
   "cell_type": "code",
   "execution_count": 52,
   "metadata": {},
   "outputs": [
    {
     "data": {
      "text/plain": [
       "array([[1., 1., 1., ..., 0., 0., 0.],\n",
       "       [0., 1., 1., ..., 0., 0., 0.],\n",
       "       [0., 1., 1., ..., 0., 0., 0.],\n",
       "       ...,\n",
       "       [0., 1., 0., ..., 1., 1., 1.],\n",
       "       [1., 0., 0., ..., 0., 0., 1.],\n",
       "       [1., 0., 0., ..., 1., 1., 1.]])"
      ]
     },
     "execution_count": 52,
     "metadata": {},
     "output_type": "execute_result"
    }
   ],
   "source": [
    "new_mat"
   ]
  },
  {
   "cell_type": "code",
   "execution_count": 53,
   "metadata": {},
   "outputs": [
    {
     "data": {
      "text/plain": [
       "array([1., 1., 1., 1., 1., 0., 0., 0., 1., 1., 1., 1., 1., 1., 1., 1., 1.,\n",
       "       1., 0., 0., 0., 1., 1., 0., 1., 1., 0., 0., 0., 1., 1., 1., 1., 0.,\n",
       "       1., 1., 1., 1., 0., 1., 0., 1., 1., 1., 0., 1., 1., 1., 0., 1., 1.,\n",
       "       0., 1., 1., 1., 1., 1., 0., 0., 1., 0., 0., 0., 1., 1., 1., 1., 1.,\n",
       "       1., 1., 1., 1., 1., 1., 1., 1., 1., 0., 1., 1., 0., 0., 1., 0., 1.,\n",
       "       0., 0., 1., 1., 0., 0., 1., 1., 1., 1., 0., 1., 0., 1., 1., 1., 1.,\n",
       "       1., 0., 0., 0., 0., 0., 1., 1., 0., 0., 0., 0., 0., 0., 0., 0., 1.,\n",
       "       1., 0., 0., 1., 0., 0., 0., 1., 1., 0., 0., 1., 0., 1., 0., 0., 1.,\n",
       "       1., 0., 0., 0., 0., 0., 1., 0., 0., 1., 0., 1., 1., 1., 0., 0., 0.,\n",
       "       0., 0., 0., 1., 0., 0., 0., 0., 0., 0., 0., 0., 0., 1., 1., 0., 1.,\n",
       "       1., 1., 1., 0., 0., 0., 0., 1., 0., 0., 1., 1., 1., 0., 0., 0., 0.,\n",
       "       0., 0., 0., 0., 1., 0., 0., 0., 0., 0., 0., 0., 0.])"
      ]
     },
     "execution_count": 53,
     "metadata": {},
     "output_type": "execute_result"
    }
   ],
   "source": [
    "#l'image requete est la premiere image du test(non infectée)\n",
    "mat_dist_non_Infectee=new_mat[0,:]\n",
    "mat_dist_non_Infectee"
   ]
  },
  {
   "cell_type": "code",
   "execution_count": 54,
   "metadata": {},
   "outputs": [
    {
     "data": {
      "text/plain": [
       "array([0., 0., 0., 0., 0., 1., 0., 0., 0., 1., 0., 0., 1., 0., 1., 0., 0.,\n",
       "       0., 1., 0., 0., 1., 0., 0., 1., 0., 0., 1., 0., 0., 1., 0., 0., 0.,\n",
       "       0., 0., 0., 0., 1., 1., 0., 0., 0., 0., 0., 1., 0., 0., 1., 1., 1.,\n",
       "       0., 0., 1., 0., 0., 0., 0., 0., 1., 0., 1., 0., 0., 0., 0., 0., 0.,\n",
       "       0., 1., 1., 1., 0., 0., 1., 0., 0., 0., 0., 0., 0., 1., 0., 0., 0.,\n",
       "       1., 1., 0., 1., 0., 1., 0., 1., 1., 0., 0., 1., 0., 0., 1., 0., 0.,\n",
       "       0., 0., 1., 1., 1., 1., 1., 0., 0., 1., 1., 1., 1., 1., 1., 1., 1.,\n",
       "       0., 1., 1., 0., 1., 1., 1., 0., 1., 0., 1., 0., 1., 0., 1., 0., 1.,\n",
       "       0., 1., 1., 1., 1., 1., 1., 0., 1., 0., 1., 0., 0., 0., 1., 1., 1.,\n",
       "       1., 1., 1., 0., 1., 1., 1., 1., 1., 1., 1., 1., 1., 0., 0., 1., 0.,\n",
       "       0., 0., 0., 1., 1., 1., 1., 0., 1., 1., 0., 0., 0., 1., 1., 1., 1.,\n",
       "       1., 1., 1., 1., 0., 1., 1., 1., 1., 1., 1., 1., 1.])"
      ]
     },
     "execution_count": 54,
     "metadata": {},
     "output_type": "execute_result"
    }
   ],
   "source": [
    "#l'image requete est la premiere image du test (infectée)\n",
    "mat_dist_Infectee=new_mat[100,:]\n",
    "mat_dist_Infectee"
   ]
  },
  {
   "cell_type": "code",
   "execution_count": 55,
   "metadata": {},
   "outputs": [],
   "source": [
    "precision_nI=np.zeros((1,200))\n",
    "recall_nI=np.zeros((1,200))\n",
    "specificity_nI=np.zeros((1,200))\n",
    "sensitivity_nI=np.zeros((1,200))"
   ]
  },
  {
   "cell_type": "code",
   "execution_count": 56,
   "metadata": {},
   "outputs": [],
   "source": [
    "precision_I=np.zeros((1,200))\n",
    "recall_I=np.zeros((1,200))\n",
    "specificity_I=np.zeros((1,200))\n",
    "sensitivity_I=np.zeros((1,200))"
   ]
  },
  {
   "cell_type": "code",
   "execution_count": 57,
   "metadata": {},
   "outputs": [
    {
     "name": "stdout",
     "output_type": "stream",
     "text": [
      "100.0\n"
     ]
    }
   ],
   "source": [
    "pertinent= np.sum(mat_dist_non_Infectee)\n",
    "print(pertinent)"
   ]
  },
  {
   "cell_type": "code",
   "execution_count": 58,
   "metadata": {},
   "outputs": [
    {
     "name": "stdout",
     "output_type": "stream",
     "text": [
      "100.0\n"
     ]
    }
   ],
   "source": [
    "pertinent= np.sum(mat_dist_Infectee)\n",
    "print(pertinent)"
   ]
  },
  {
   "cell_type": "code",
   "execution_count": 59,
   "metadata": {},
   "outputs": [],
   "source": [
    "for i in range(1,201):\n",
    "    VP=np.sum(mat_dist_non_Infectee[0:i]) #sommer les valeurs positive du 0 jusqua i (exclus) dans la premiere ligne dans la matrice\n",
    "    FP=i-VP\n",
    "    FN=pertinent-VP\n",
    "    VN=200-i-FN\n",
    "    precision_nI[0,i-1]=VP/(VP+FP)\n",
    "    recall_nI[0,i-1] =VP/(VP+FN)\n",
    "    sensitivity_nI[0,i-1]=VP/(VP+FN)\n",
    "    specificity_nI[0,i-1]=VN/(VN+FP)"
   ]
  },
  {
   "cell_type": "code",
   "execution_count": 60,
   "metadata": {},
   "outputs": [],
   "source": [
    "for i in range(1,201):\n",
    "    VP=np.sum(mat_dist_Infectee[0:i]) #sommer les valeurs positive du 0 jusqua i (exclus) dans la premiere ligne dans la matrice\n",
    "    FP=i-VP\n",
    "    FN=pertinent-VP\n",
    "    VN=200-i-FN\n",
    "    precision_I[0,i-1]=VP/(VP+FP)\n",
    "    recall_I[0,i-1] =VP/(VP+FN)\n",
    "    sensitivity_I[0,i-1]=VP/(VP+FN)\n",
    "    specificity_I[0,i-1]=VN/(VN+FP)"
   ]
  },
  {
   "cell_type": "code",
   "execution_count": 61,
   "metadata": {},
   "outputs": [
    {
     "name": "stdout",
     "output_type": "stream",
     "text": [
      "[[1.         1.         1.         1.         1.         0.83333333\n",
      "  0.71428571 0.625      0.66666667 0.7        0.72727273 0.75\n",
      "  0.76923077 0.78571429 0.8        0.8125     0.82352941 0.83333333\n",
      "  0.78947368 0.75       0.71428571 0.72727273 0.73913043 0.70833333\n",
      "  0.72       0.73076923 0.7037037  0.67857143 0.65517241 0.66666667\n",
      "  0.67741935 0.6875     0.6969697  0.67647059 0.68571429 0.69444444\n",
      "  0.7027027  0.71052632 0.69230769 0.7        0.68292683 0.69047619\n",
      "  0.69767442 0.70454545 0.68888889 0.69565217 0.70212766 0.70833333\n",
      "  0.69387755 0.7        0.70588235 0.69230769 0.69811321 0.7037037\n",
      "  0.70909091 0.71428571 0.71929825 0.70689655 0.69491525 0.7\n",
      "  0.68852459 0.67741935 0.66666667 0.671875   0.67692308 0.68181818\n",
      "  0.68656716 0.69117647 0.69565217 0.7        0.70422535 0.70833333\n",
      "  0.71232877 0.71621622 0.72       0.72368421 0.72727273 0.71794872\n",
      "  0.72151899 0.725      0.71604938 0.70731707 0.71084337 0.70238095\n",
      "  0.70588235 0.69767442 0.68965517 0.69318182 0.69662921 0.68888889\n",
      "  0.68131868 0.68478261 0.68817204 0.69148936 0.69473684 0.6875\n",
      "  0.69072165 0.68367347 0.68686869 0.69       0.69306931 0.69607843\n",
      "  0.69902913 0.69230769 0.68571429 0.67924528 0.6728972  0.66666667\n",
      "  0.66972477 0.67272727 0.66666667 0.66071429 0.65486726 0.64912281\n",
      "  0.64347826 0.63793103 0.63247863 0.62711864 0.6302521  0.63333333\n",
      "  0.62809917 0.62295082 0.62601626 0.62096774 0.616      0.61111111\n",
      "  0.61417323 0.6171875  0.6124031  0.60769231 0.61068702 0.60606061\n",
      "  0.60902256 0.60447761 0.6        0.60294118 0.60583942 0.60144928\n",
      "  0.5971223  0.59285714 0.58865248 0.58450704 0.58741259 0.58333333\n",
      "  0.57931034 0.58219178 0.57823129 0.58108108 0.58389262 0.58666667\n",
      "  0.58278146 0.57894737 0.5751634  0.57142857 0.56774194 0.56410256\n",
      "  0.56687898 0.56329114 0.55974843 0.55625    0.55279503 0.54938272\n",
      "  0.54601227 0.54268293 0.53939394 0.53614458 0.53892216 0.54166667\n",
      "  0.53846154 0.54117647 0.54385965 0.54651163 0.54913295 0.54597701\n",
      "  0.54285714 0.53977273 0.53672316 0.53932584 0.53631285 0.53333333\n",
      "  0.5359116  0.53846154 0.54098361 0.53804348 0.53513514 0.53225806\n",
      "  0.52941176 0.52659574 0.52380952 0.52105263 0.51832461 0.52083333\n",
      "  0.51813472 0.51546392 0.51282051 0.51020408 0.50761421 0.50505051\n",
      "  0.50251256 0.5       ]]\n"
     ]
    }
   ],
   "source": [
    "print(precision_nI)"
   ]
  },
  {
   "cell_type": "code",
   "execution_count": 62,
   "metadata": {},
   "outputs": [
    {
     "name": "stdout",
     "output_type": "stream",
     "text": [
      "[[0.         0.         0.         0.         0.         0.16666667\n",
      "  0.14285714 0.125      0.11111111 0.2        0.18181818 0.16666667\n",
      "  0.23076923 0.21428571 0.26666667 0.25       0.23529412 0.22222222\n",
      "  0.26315789 0.25       0.23809524 0.27272727 0.26086957 0.25\n",
      "  0.28       0.26923077 0.25925926 0.28571429 0.27586207 0.26666667\n",
      "  0.29032258 0.28125    0.27272727 0.26470588 0.25714286 0.25\n",
      "  0.24324324 0.23684211 0.25641026 0.275      0.26829268 0.26190476\n",
      "  0.25581395 0.25       0.24444444 0.26086957 0.25531915 0.25\n",
      "  0.26530612 0.28       0.29411765 0.28846154 0.28301887 0.2962963\n",
      "  0.29090909 0.28571429 0.28070175 0.27586207 0.27118644 0.28333333\n",
      "  0.27868852 0.29032258 0.28571429 0.28125    0.27692308 0.27272727\n",
      "  0.26865672 0.26470588 0.26086957 0.27142857 0.28169014 0.29166667\n",
      "  0.28767123 0.28378378 0.29333333 0.28947368 0.28571429 0.28205128\n",
      "  0.27848101 0.275      0.27160494 0.2804878  0.27710843 0.27380952\n",
      "  0.27058824 0.27906977 0.28735632 0.28409091 0.29213483 0.28888889\n",
      "  0.2967033  0.29347826 0.30107527 0.30851064 0.30526316 0.30208333\n",
      "  0.30927835 0.30612245 0.3030303  0.31       0.30693069 0.30392157\n",
      "  0.30097087 0.29807692 0.3047619  0.31132075 0.31775701 0.32407407\n",
      "  0.33027523 0.32727273 0.32432432 0.33035714 0.33628319 0.34210526\n",
      "  0.34782609 0.35344828 0.35897436 0.36440678 0.3697479  0.36666667\n",
      "  0.37190083 0.37704918 0.37398374 0.37903226 0.384      0.38888889\n",
      "  0.38582677 0.390625   0.3875969  0.39230769 0.38931298 0.39393939\n",
      "  0.39097744 0.39552239 0.39259259 0.39705882 0.39416058 0.39855072\n",
      "  0.4028777  0.40714286 0.41134752 0.41549296 0.41958042 0.41666667\n",
      "  0.42068966 0.41780822 0.42176871 0.41891892 0.41610738 0.41333333\n",
      "  0.41721854 0.42105263 0.4248366  0.42857143 0.43225806 0.43589744\n",
      "  0.43312102 0.43670886 0.44025157 0.44375    0.44720497 0.45061728\n",
      "  0.45398773 0.45731707 0.46060606 0.46385542 0.46107784 0.45833333\n",
      "  0.46153846 0.45882353 0.45614035 0.45348837 0.45086705 0.45402299\n",
      "  0.45714286 0.46022727 0.46327684 0.46067416 0.46368715 0.46666667\n",
      "  0.4640884  0.46153846 0.45901639 0.46195652 0.46486486 0.46774194\n",
      "  0.47058824 0.47340426 0.47619048 0.47894737 0.48167539 0.47916667\n",
      "  0.48186528 0.48453608 0.48717949 0.48979592 0.49238579 0.49494949\n",
      "  0.49748744 0.5       ]]\n"
     ]
    }
   ],
   "source": [
    "print(precision_I)"
   ]
  },
  {
   "cell_type": "code",
   "execution_count": 63,
   "metadata": {},
   "outputs": [
    {
     "name": "stdout",
     "output_type": "stream",
     "text": [
      "[[0.01 0.02 0.03 0.04 0.05 0.05 0.05 0.05 0.06 0.07 0.08 0.09 0.1  0.11\n",
      "  0.12 0.13 0.14 0.15 0.15 0.15 0.15 0.16 0.17 0.17 0.18 0.19 0.19 0.19\n",
      "  0.19 0.2  0.21 0.22 0.23 0.23 0.24 0.25 0.26 0.27 0.27 0.28 0.28 0.29\n",
      "  0.3  0.31 0.31 0.32 0.33 0.34 0.34 0.35 0.36 0.36 0.37 0.38 0.39 0.4\n",
      "  0.41 0.41 0.41 0.42 0.42 0.42 0.42 0.43 0.44 0.45 0.46 0.47 0.48 0.49\n",
      "  0.5  0.51 0.52 0.53 0.54 0.55 0.56 0.56 0.57 0.58 0.58 0.58 0.59 0.59\n",
      "  0.6  0.6  0.6  0.61 0.62 0.62 0.62 0.63 0.64 0.65 0.66 0.66 0.67 0.67\n",
      "  0.68 0.69 0.7  0.71 0.72 0.72 0.72 0.72 0.72 0.72 0.73 0.74 0.74 0.74\n",
      "  0.74 0.74 0.74 0.74 0.74 0.74 0.75 0.76 0.76 0.76 0.77 0.77 0.77 0.77\n",
      "  0.78 0.79 0.79 0.79 0.8  0.8  0.81 0.81 0.81 0.82 0.83 0.83 0.83 0.83\n",
      "  0.83 0.83 0.84 0.84 0.84 0.85 0.85 0.86 0.87 0.88 0.88 0.88 0.88 0.88\n",
      "  0.88 0.88 0.89 0.89 0.89 0.89 0.89 0.89 0.89 0.89 0.89 0.89 0.9  0.91\n",
      "  0.91 0.92 0.93 0.94 0.95 0.95 0.95 0.95 0.95 0.96 0.96 0.96 0.97 0.98\n",
      "  0.99 0.99 0.99 0.99 0.99 0.99 0.99 0.99 0.99 1.   1.   1.   1.   1.\n",
      "  1.   1.   1.   1.  ]]\n"
     ]
    }
   ],
   "source": [
    "print(recall_nI)"
   ]
  },
  {
   "cell_type": "code",
   "execution_count": 64,
   "metadata": {},
   "outputs": [
    {
     "name": "stdout",
     "output_type": "stream",
     "text": [
      "[[0.   0.   0.   0.   0.   0.01 0.01 0.01 0.01 0.02 0.02 0.02 0.03 0.03\n",
      "  0.04 0.04 0.04 0.04 0.05 0.05 0.05 0.06 0.06 0.06 0.07 0.07 0.07 0.08\n",
      "  0.08 0.08 0.09 0.09 0.09 0.09 0.09 0.09 0.09 0.09 0.1  0.11 0.11 0.11\n",
      "  0.11 0.11 0.11 0.12 0.12 0.12 0.13 0.14 0.15 0.15 0.15 0.16 0.16 0.16\n",
      "  0.16 0.16 0.16 0.17 0.17 0.18 0.18 0.18 0.18 0.18 0.18 0.18 0.18 0.19\n",
      "  0.2  0.21 0.21 0.21 0.22 0.22 0.22 0.22 0.22 0.22 0.22 0.23 0.23 0.23\n",
      "  0.23 0.24 0.25 0.25 0.26 0.26 0.27 0.27 0.28 0.29 0.29 0.29 0.3  0.3\n",
      "  0.3  0.31 0.31 0.31 0.31 0.31 0.32 0.33 0.34 0.35 0.36 0.36 0.36 0.37\n",
      "  0.38 0.39 0.4  0.41 0.42 0.43 0.44 0.44 0.45 0.46 0.46 0.47 0.48 0.49\n",
      "  0.49 0.5  0.5  0.51 0.51 0.52 0.52 0.53 0.53 0.54 0.54 0.55 0.56 0.57\n",
      "  0.58 0.59 0.6  0.6  0.61 0.61 0.62 0.62 0.62 0.62 0.63 0.64 0.65 0.66\n",
      "  0.67 0.68 0.68 0.69 0.7  0.71 0.72 0.73 0.74 0.75 0.76 0.77 0.77 0.77\n",
      "  0.78 0.78 0.78 0.78 0.78 0.79 0.8  0.81 0.82 0.82 0.83 0.84 0.84 0.84\n",
      "  0.84 0.85 0.86 0.87 0.88 0.89 0.9  0.91 0.92 0.92 0.93 0.94 0.95 0.96\n",
      "  0.97 0.98 0.99 1.  ]]\n"
     ]
    }
   ],
   "source": [
    "print(recall_I)"
   ]
  },
  {
   "cell_type": "code",
   "execution_count": 65,
   "metadata": {},
   "outputs": [
    {
     "name": "stdout",
     "output_type": "stream",
     "text": [
      "[[1.   1.   1.   1.   1.   0.99 0.98 0.97 0.97 0.97 0.97 0.97 0.97 0.97\n",
      "  0.97 0.97 0.97 0.97 0.96 0.95 0.94 0.94 0.94 0.93 0.93 0.93 0.92 0.91\n",
      "  0.9  0.9  0.9  0.9  0.9  0.89 0.89 0.89 0.89 0.89 0.88 0.88 0.87 0.87\n",
      "  0.87 0.87 0.86 0.86 0.86 0.86 0.85 0.85 0.85 0.84 0.84 0.84 0.84 0.84\n",
      "  0.84 0.83 0.82 0.82 0.81 0.8  0.79 0.79 0.79 0.79 0.79 0.79 0.79 0.79\n",
      "  0.79 0.79 0.79 0.79 0.79 0.79 0.79 0.78 0.78 0.78 0.77 0.76 0.76 0.75\n",
      "  0.75 0.74 0.73 0.73 0.73 0.72 0.71 0.71 0.71 0.71 0.71 0.7  0.7  0.69\n",
      "  0.69 0.69 0.69 0.69 0.69 0.68 0.67 0.66 0.65 0.64 0.64 0.64 0.63 0.62\n",
      "  0.61 0.6  0.59 0.58 0.57 0.56 0.56 0.56 0.55 0.54 0.54 0.53 0.52 0.51\n",
      "  0.51 0.51 0.5  0.49 0.49 0.48 0.48 0.47 0.46 0.46 0.46 0.45 0.44 0.43\n",
      "  0.42 0.41 0.41 0.4  0.39 0.39 0.38 0.38 0.38 0.38 0.37 0.36 0.35 0.34\n",
      "  0.33 0.32 0.32 0.31 0.3  0.29 0.28 0.27 0.26 0.25 0.24 0.23 0.23 0.23\n",
      "  0.22 0.22 0.22 0.22 0.22 0.21 0.2  0.19 0.18 0.18 0.17 0.16 0.16 0.16\n",
      "  0.16 0.15 0.14 0.13 0.12 0.11 0.1  0.09 0.08 0.08 0.07 0.06 0.05 0.04\n",
      "  0.03 0.02 0.01 0.  ]]\n"
     ]
    }
   ],
   "source": [
    "print(specificity_nI)"
   ]
  },
  {
   "cell_type": "code",
   "execution_count": 66,
   "metadata": {},
   "outputs": [
    {
     "name": "stdout",
     "output_type": "stream",
     "text": [
      "[[0.99 0.98 0.97 0.96 0.95 0.95 0.94 0.93 0.92 0.92 0.91 0.9  0.9  0.89\n",
      "  0.89 0.88 0.87 0.86 0.86 0.85 0.84 0.84 0.83 0.82 0.82 0.81 0.8  0.8\n",
      "  0.79 0.78 0.78 0.77 0.76 0.75 0.74 0.73 0.72 0.71 0.71 0.71 0.7  0.69\n",
      "  0.68 0.67 0.66 0.66 0.65 0.64 0.64 0.64 0.64 0.63 0.62 0.62 0.61 0.6\n",
      "  0.59 0.58 0.57 0.57 0.56 0.56 0.55 0.54 0.53 0.52 0.51 0.5  0.49 0.49\n",
      "  0.49 0.49 0.48 0.47 0.47 0.46 0.45 0.44 0.43 0.42 0.41 0.41 0.4  0.39\n",
      "  0.38 0.38 0.38 0.37 0.37 0.36 0.36 0.35 0.35 0.35 0.34 0.33 0.33 0.32\n",
      "  0.31 0.31 0.3  0.29 0.28 0.27 0.27 0.27 0.27 0.27 0.27 0.26 0.25 0.25\n",
      "  0.25 0.25 0.25 0.25 0.25 0.25 0.25 0.24 0.24 0.24 0.23 0.23 0.23 0.23\n",
      "  0.22 0.22 0.21 0.21 0.2  0.2  0.19 0.19 0.18 0.18 0.17 0.17 0.17 0.17\n",
      "  0.17 0.17 0.17 0.16 0.16 0.15 0.15 0.14 0.13 0.12 0.12 0.12 0.12 0.12\n",
      "  0.12 0.12 0.11 0.11 0.11 0.11 0.11 0.11 0.11 0.11 0.11 0.11 0.1  0.09\n",
      "  0.09 0.08 0.07 0.06 0.05 0.05 0.05 0.05 0.05 0.04 0.04 0.04 0.03 0.02\n",
      "  0.01 0.01 0.01 0.01 0.01 0.01 0.01 0.01 0.01 0.   0.   0.   0.   0.\n",
      "  0.   0.   0.   0.  ]]\n"
     ]
    }
   ],
   "source": [
    "print(specificity_I)"
   ]
  },
  {
   "cell_type": "code",
   "execution_count": 67,
   "metadata": {},
   "outputs": [
    {
     "name": "stdout",
     "output_type": "stream",
     "text": [
      "[[0.01 0.02 0.03 0.04 0.05 0.05 0.05 0.05 0.06 0.07 0.08 0.09 0.1  0.11\n",
      "  0.12 0.13 0.14 0.15 0.15 0.15 0.15 0.16 0.17 0.17 0.18 0.19 0.19 0.19\n",
      "  0.19 0.2  0.21 0.22 0.23 0.23 0.24 0.25 0.26 0.27 0.27 0.28 0.28 0.29\n",
      "  0.3  0.31 0.31 0.32 0.33 0.34 0.34 0.35 0.36 0.36 0.37 0.38 0.39 0.4\n",
      "  0.41 0.41 0.41 0.42 0.42 0.42 0.42 0.43 0.44 0.45 0.46 0.47 0.48 0.49\n",
      "  0.5  0.51 0.52 0.53 0.54 0.55 0.56 0.56 0.57 0.58 0.58 0.58 0.59 0.59\n",
      "  0.6  0.6  0.6  0.61 0.62 0.62 0.62 0.63 0.64 0.65 0.66 0.66 0.67 0.67\n",
      "  0.68 0.69 0.7  0.71 0.72 0.72 0.72 0.72 0.72 0.72 0.73 0.74 0.74 0.74\n",
      "  0.74 0.74 0.74 0.74 0.74 0.74 0.75 0.76 0.76 0.76 0.77 0.77 0.77 0.77\n",
      "  0.78 0.79 0.79 0.79 0.8  0.8  0.81 0.81 0.81 0.82 0.83 0.83 0.83 0.83\n",
      "  0.83 0.83 0.84 0.84 0.84 0.85 0.85 0.86 0.87 0.88 0.88 0.88 0.88 0.88\n",
      "  0.88 0.88 0.89 0.89 0.89 0.89 0.89 0.89 0.89 0.89 0.89 0.89 0.9  0.91\n",
      "  0.91 0.92 0.93 0.94 0.95 0.95 0.95 0.95 0.95 0.96 0.96 0.96 0.97 0.98\n",
      "  0.99 0.99 0.99 0.99 0.99 0.99 0.99 0.99 0.99 1.   1.   1.   1.   1.\n",
      "  1.   1.   1.   1.  ]]\n"
     ]
    }
   ],
   "source": [
    "print(sensitivity_nI)"
   ]
  },
  {
   "cell_type": "code",
   "execution_count": 68,
   "metadata": {},
   "outputs": [
    {
     "name": "stdout",
     "output_type": "stream",
     "text": [
      "[[0.   0.   0.   0.   0.   0.01 0.01 0.01 0.01 0.02 0.02 0.02 0.03 0.03\n",
      "  0.04 0.04 0.04 0.04 0.05 0.05 0.05 0.06 0.06 0.06 0.07 0.07 0.07 0.08\n",
      "  0.08 0.08 0.09 0.09 0.09 0.09 0.09 0.09 0.09 0.09 0.1  0.11 0.11 0.11\n",
      "  0.11 0.11 0.11 0.12 0.12 0.12 0.13 0.14 0.15 0.15 0.15 0.16 0.16 0.16\n",
      "  0.16 0.16 0.16 0.17 0.17 0.18 0.18 0.18 0.18 0.18 0.18 0.18 0.18 0.19\n",
      "  0.2  0.21 0.21 0.21 0.22 0.22 0.22 0.22 0.22 0.22 0.22 0.23 0.23 0.23\n",
      "  0.23 0.24 0.25 0.25 0.26 0.26 0.27 0.27 0.28 0.29 0.29 0.29 0.3  0.3\n",
      "  0.3  0.31 0.31 0.31 0.31 0.31 0.32 0.33 0.34 0.35 0.36 0.36 0.36 0.37\n",
      "  0.38 0.39 0.4  0.41 0.42 0.43 0.44 0.44 0.45 0.46 0.46 0.47 0.48 0.49\n",
      "  0.49 0.5  0.5  0.51 0.51 0.52 0.52 0.53 0.53 0.54 0.54 0.55 0.56 0.57\n",
      "  0.58 0.59 0.6  0.6  0.61 0.61 0.62 0.62 0.62 0.62 0.63 0.64 0.65 0.66\n",
      "  0.67 0.68 0.68 0.69 0.7  0.71 0.72 0.73 0.74 0.75 0.76 0.77 0.77 0.77\n",
      "  0.78 0.78 0.78 0.78 0.78 0.79 0.8  0.81 0.82 0.82 0.83 0.84 0.84 0.84\n",
      "  0.84 0.85 0.86 0.87 0.88 0.89 0.9  0.91 0.92 0.92 0.93 0.94 0.95 0.96\n",
      "  0.97 0.98 0.99 1.  ]]\n"
     ]
    }
   ],
   "source": [
    "print(sensitivity_I)"
   ]
  },
  {
   "cell_type": "code",
   "execution_count": 69,
   "metadata": {},
   "outputs": [
    {
     "data": {
      "text/plain": [
       "array([0.65261687])"
      ]
     },
     "execution_count": 69,
     "metadata": {},
     "output_type": "execute_result"
    }
   ],
   "source": [
    "pr_moy_nI=np.sum(precision_nI[0,:])/precision_nI[0,:].shape\n",
    "pr_moy_nI"
   ]
  },
  {
   "cell_type": "code",
   "execution_count": 70,
   "metadata": {},
   "outputs": [
    {
     "data": {
      "text/plain": [
       "array([0.33410068])"
      ]
     },
     "execution_count": 70,
     "metadata": {},
     "output_type": "execute_result"
    }
   ],
   "source": [
    "pr_moy_I=np.sum(precision_I[0,:])/precision_I[0,:].shape\n",
    "pr_moy_I"
   ]
  },
  {
   "cell_type": "code",
   "execution_count": 71,
   "metadata": {},
   "outputs": [
    {
     "data": {
      "image/png": "[encoded data removed]",
      "text/plain": [
       "<Figure size 432x288 with 1 Axes>"
      ]
     },
     "metadata": {
      "needs_background": "light"
     },
     "output_type": "display_data"
    }
   ],
   "source": [
    "plt.grid(True)\n",
    "plt.ylabel(\"Precision\")\n",
    "plt.xlabel(\"Recall\")\n",
    "plt.plot(recall_nI[0,:],precision_nI[0,:],color=\"green\")\n",
    "plt.show()"
   ]
  },
  {
   "cell_type": "code",
   "execution_count": 72,
   "metadata": {},
   "outputs": [
    {
     "data": {
      "image/png": "[encoded data removed]",
      "text/plain": [
       "<Figure size 432x288 with 1 Axes>"
      ]
     },
     "metadata": {
      "needs_background": "light"
     },
     "output_type": "display_data"
    }
   ],
   "source": [
    "plt.grid(True)\n",
    "plt.ylabel(\"Precision\")\n",
    "plt.xlabel(\"Recall\")\n",
    "plt.plot(recall_I[0,:],precision_I[0,:],color=\"red\")\n",
    "plt.show()"
   ]
  },
  {
   "cell_type": "code",
   "execution_count": 77,
   "metadata": {},
   "outputs": [],
   "source": [
    "def determiner_KNN_images(index_img_requete,nbr_img_recuperes):\n",
    "    matrice_dest=mat_index[index_img_requete,:]\n",
    "    mat_index_proches=matrice_dest[0:nbr_img_recuperes] #les indices k plus proches\n",
    "    k=1\n",
    "  \n",
    "    for i in mat_index_proches:\n",
    "        target=filename_train + str(i) +\".png\"\n",
    "        pic=plt.imread(target)\n",
    "        plt.subplot(2,4,k)\n",
    "        if i>0 and i<100:\n",
    "            img_status='Non infectée'\n",
    "            plt.title(img_status)\n",
    "        elif i>=100 and i<200:\n",
    "            img_status=\"Infectée\"\n",
    "            plt.title(img_status)\n",
    "        plt.imshow(pic)\n",
    "        k=k+1\n",
    "        \n",
    "    per=np.sum(new_mat[index_image,:])\n",
    "    x=new_mat[index_image,0:nbr_img_recuperes]\n",
    "    vp=np.sum(x)\n",
    "    print('VP :',vp)\n",
    "    fp=nbr_img_recuperes-vp\n",
    "    print('FP :',fp)\n",
    "    fn=per-vp\n",
    "    print('FN :',fn)\n",
    "    vn=200-nbr_img_recuperes-fn\n",
    "    print('VN :',vn)\n",
    "    precis=vp/(vp+fp)\n",
    "    print('la précision :',precis*100,\"%\")\n",
    "    reca=vp/(vp+fn)\n",
    "    print('le rappel :',reca*100,\"%\")\n",
    "    spec=vn/(vn+fp)\n",
    "    print('la spécificité :',spec*100,\"%\")\n",
    "    sens=vp/(vp+fn)\n",
    "    print('la sensitivité :',sens*100,\"%\")\n",
    "    acc=(vp+vn)/(vp+vn+fp+fn)\n",
    "    print('Accuracy :',acc*100,\"%\")\n",
    "    f1=(2*precis*reca)/(precis+reca)\n",
    "    print('F1-score :',f1*100,\"%\")"
   ]
  },
  {
   "cell_type": "code",
   "execution_count": 79,
   "metadata": {},
   "outputs": [
    {
     "name": "stdout",
     "output_type": "stream",
     "text": [
      "donner le numero d'image:16\n",
      "donner le nombre des images plus proches:8\n",
      "\n",
      "\n",
      "VP : 3.0\n",
      "FP : 5.0\n",
      "FN : 97.0\n",
      "VN : 95.0\n",
      "la précision : 37.5 %\n",
      "le rappel : 3.0 %\n",
      "la spécificité : 95.0 %\n",
      "la sensitivité : 3.0 %\n",
      "Accuracy : 49.0 %\n",
      "F1-score : 5.555555555555555 %\n"
     ]
    },
    {
     "data": {
      "image/png": "[encoded data removed]",
      "text/plain": [
       "<Figure size 432x288 with 8 Axes>"
      ]
     },
     "metadata": {
      "needs_background": "light"
     },
     "output_type": "display_data"
    }
   ],
   "source": [
    "index_image=int(input(\"donner le numero d'image:\"))\n",
    "nbr_img_recuperes=int(input(\"donner le nombre des images plus proches:\"))\n",
    "print('\\n')\n",
    "determiner_KNN_images(index_image,nbr_img_recuperes)"
   ]
  },
  {
   "cell_type": "code",
   "execution_count": null,
   "metadata": {},
   "outputs": [],
   "source": []
  }
 ],
 "metadata": {
  "kernelspec": {
   "display_name": "Python 3",
   "language": "python",
   "name": "python3"
  },
  "language_info": {
   "codemirror_mode": {
    "name": "ipython",
    "version": 3
   },
   "file_extension": ".py",
   "mimetype": "text/x-python",
   "name": "python",
   "nbconvert_exporter": "python",
   "pygments_lexer": "ipython3",
   "version": "3.7.3"
  }
 },
 "nbformat": 4,
 "nbformat_minor": 4
}
