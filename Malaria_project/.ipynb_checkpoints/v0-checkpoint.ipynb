{
 "cells": [
  {
   "cell_type": "code",
   "execution_count": 1,
   "metadata": {},
   "outputs": [],
   "source": [
    "import numpy as np\n",
    "import matplotlib.pyplot as plt\n",
    "import cv2"
   ]
  },
  {
   "cell_type": "code",
   "execution_count": 3,
   "metadata": {},
   "outputs": [
    {
     "name": "stdout",
     "output_type": "stream",
     "text": [
      "(120, 120, 3)\n"
     ]
    }
   ],
   "source": [
    "#resize a image from the dataset\n",
    "img = cv2.imread('dataset/training_set/1.png')\n",
    "img_resized = cv2.resize(img, dsize=(120,120), interpolation=cv2.INTER_CUBIC)\n",
    "taille=img_resized.shape\n",
    "print(taille)"
   ]
  },
  {
   "cell_type": "code",
   "execution_count": 4,
   "metadata": {},
   "outputs": [],
   "source": [
    "def rgb2gray(I):\n",
    "    r, g, b = I[:,:,0], I[:,:,1], I[:,:,2]\n",
    "    gray = 0.2989 * r + 0.5870 * g + 0.1140 * b\n",
    "    return gray"
   ]
  },
  {
   "cell_type": "code",
   "execution_count": 5,
   "metadata": {},
   "outputs": [
    {
     "data": {
      "image/png": "[encoded data removed]",
      "text/plain": [
       "<Figure size 432x288 with 1 Axes>"
      ]
     },
     "metadata": {
      "needs_background": "light"
     },
     "output_type": "display_data"
    }
   ],
   "source": [
    "I_gray=rgb2gray(img_resized)\n",
    "plt.imshow(I_gray,cmap=plt.get_cmap('gray')) #draws an image on the current figure (creates a figure if there isn't a current figure)\n",
    "plt.show() #displays the figure"
   ]
  },
  {
   "cell_type": "code",
   "execution_count": 6,
   "metadata": {},
   "outputs": [
    {
     "data": {
      "text/plain": [
       "(120, 120)"
      ]
     },
     "execution_count": 6,
     "metadata": {},
     "output_type": "execute_result"
    }
   ],
   "source": [
    "taille=I_gray.shape\n",
    "taille\n",
    "# nl,nc=taille"
   ]
  },
  {
   "cell_type": "code",
   "execution_count": 7,
   "metadata": {},
   "outputs": [],
   "source": [
    "filename_train=\"./dataset/training_set/\"\n",
    "filename_test=\"./dataset/testing_set/\"\n",
    "nbr_im=200"
   ]
  },
  {
   "cell_type": "code",
   "execution_count": null,
   "metadata": {},
   "outputs": [],
   "source": [
    "def Laplacian(I):\n",
    "    img_lap=cv2.Laplacian(I,cv2.CV_8U,-1)\n",
    "    r, g, b = img_lap[:,:,0], img_lap[:,:,1], img_lap[:,:,2]\n",
    "    gray_lap= 0.2989 * r + 0.5870 * g + 0.1140 * b\n",
    "    plt.imshow(gray_lap,cmap='gray')\n",
    "    plt.show()\n",
    "    return gray_lap"
   ]
  },
  {
   "cell_type": "code",
   "execution_count": null,
   "metadata": {},
   "outputs": [],
   "source": [
    "#read the dataset and normalize it\n",
    "def stocker_images_forme(nbr_im, filename):\n",
    "    nl,nc=taille\n",
    "    mat_image=np.zeros((nl,nc,nbr_im))\n",
    "    for i in range(nbr_im):\n",
    "        target= filename+ str(i+1) + '.png'\n",
    "        img = cv2.imread(target)\n",
    "        img_resized = cv2.resize(img, dsize=(120,120), interpolation=cv2.INTER_CUBIC)\n",
    "        mat_image[:,:,i]=Laplacian(img_resized)      \n",
    "    return mat_image"
   ]
  },
  {
   "cell_type": "code",
   "execution_count": null,
   "metadata": {},
   "outputs": [],
   "source": [
    "# mat_image=stocker_images(nbr_im, filename)\n",
    "mat_train_image_f=stocker_images(nbr_im,filename_train)\n",
    "mat_test_image_f=stocker_images(nbr_im,filename_test)\n",
    "# mat_test_image"
   ]
  },
  {
   "cell_type": "code",
   "execution_count": 8,
   "metadata": {},
   "outputs": [],
   "source": [
    "#read the dataset and normalize it\n",
    "def stocker_images(nbr_im, filename):\n",
    "    nl,nc=taille\n",
    "    mat_image=np.zeros((nl,nc,nbr_im))\n",
    "    for i in range(nbr_im):\n",
    "        target= filename+ str(i+1) + '.png'\n",
    "        img = cv2.imread(target)\n",
    "        img_resized = cv2.resize(img, dsize=(120,120), interpolation=cv2.INTER_CUBIC)\n",
    "        mat_image[:,:,i]=rgb2gray(img_resized)       \n",
    "    return mat_image"
   ]
  },
  {
   "cell_type": "code",
   "execution_count": 9,
   "metadata": {},
   "outputs": [],
   "source": [
    "# mat_image=stocker_images(nbr_im, filename)\n",
    "mat_train_image=stocker_images(nbr_im,filename_train)\n",
    "mat_test_image=stocker_images(nbr_im,filename_test)\n",
    "# mat_test_image"
   ]
  },
  {
   "cell_type": "code",
   "execution_count": 10,
   "metadata": {},
   "outputs": [],
   "source": [
    "def histo(I):\n",
    "    [nl,nc]=np.shape(I)\n",
    "    h=np.zeros(256,dtype=int)\n",
    "    I_m=np.round(I)\n",
    "    for i in range(0,nl):\n",
    "        for j in range(0,nc):\n",
    "            val=int(I_m[i][j])\n",
    "            h[val]+=1\n",
    "    return h"
   ]
  },
  {
   "cell_type": "code",
   "execution_count": 11,
   "metadata": {},
   "outputs": [],
   "source": [
    "def variance2(I):\n",
    "    nl,nc=I.shape\n",
    "    m=np.mean(I)\n",
    "    va=np.sum((I-m)**2)/(nl*nc)\n",
    "    return va"
   ]
  },
  {
   "cell_type": "code",
   "execution_count": 12,
   "metadata": {},
   "outputs": [],
   "source": [
    "def energie(I): \n",
    "    nl,nc=I.shape\n",
    "    en= np.sum(I**2)\n",
    "    return en"
   ]
  },
  {
   "cell_type": "code",
   "execution_count": 13,
   "metadata": {},
   "outputs": [],
   "source": [
    "def entropie(I):\n",
    "    ent=np.sum(I*np.log2(I+1e-10))\n",
    "    return -ent"
   ]
  },
  {
   "cell_type": "code",
   "execution_count": 14,
   "metadata": {},
   "outputs": [],
   "source": [
    "def contraste(I):\n",
    "    nl,nc=I.shape\n",
    "    co=0\n",
    "    for i in range(nl):\n",
    "        for j in range(nc):\n",
    "            co+=((i-j)**2*I[i,j])\n",
    "    return co"
   ]
  },
  {
   "cell_type": "code",
   "execution_count": 15,
   "metadata": {},
   "outputs": [],
   "source": [
    "def homogenite(I):\n",
    "    nl,nc=I.shape\n",
    "    mo=0\n",
    "    for i in range(nl):\n",
    "        for j in range(nc):\n",
    "            mo+=I[i,j]/(1+abs(i-j))\n",
    "    return mo"
   ]
  },
  {
   "cell_type": "code",
   "execution_count": 16,
   "metadata": {},
   "outputs": [],
   "source": [
    "def stocker_histogramme(mat_image):\n",
    "    nl,nc,nb_im=mat_image.shape\n",
    "    mat_histo=np.zeros((nb_im,256))\n",
    "    for i in range(nb_im):\n",
    "        mat_histo[i,:]=histo(mat_image[:,:,i])\n",
    "    return mat_histo"
   ]
  },
  {
   "cell_type": "code",
   "execution_count": 17,
   "metadata": {},
   "outputs": [],
   "source": [
    "mat_histo_testing=stocker_histogramme(mat_test_image)\n",
    "mat_histo_training=stocker_histogramme(mat_train_image)"
   ]
  },
  {
   "cell_type": "code",
   "execution_count": 18,
   "metadata": {},
   "outputs": [],
   "source": [
    "def stocker_dist_txt(mat_image):\n",
    "    nl,nc,nbr_img=mat_image.shape\n",
    "    desc=np.zeros((nbr_img,5))\n",
    "    for i in range(nbr_img) :\n",
    "        I = mat_image[:,:,i]\n",
    "        desc[i,:]=variance2(I), energie(I), entropie(I), contraste(I), homogenite(I)\n",
    "    return desc"
   ]
  },
  {
   "cell_type": "code",
   "execution_count": 19,
   "metadata": {},
   "outputs": [],
   "source": [
    "mat_desc_testing=stocker_dist_txt(mat_test_image)\n",
    "mat_desc_training=stocker_dist_txt(mat_train_image)"
   ]
  },
  {
   "cell_type": "code",
   "execution_count": null,
   "metadata": {},
   "outputs": [],
   "source": [
    "mat_desc_testing_f=stocker_dist_txt(mat_test_image_f)\n",
    "mat_desc_training_f=stocker_dist_txt(mat_train_image_f)"
   ]
  },
  {
   "cell_type": "code",
   "execution_count": 20,
   "metadata": {},
   "outputs": [],
   "source": [
    "def dist(x,y):\n",
    "    return np.sqrt(np.sum((x-y)**2))"
   ]
  },
  {
   "cell_type": "code",
   "execution_count": 52,
   "metadata": {},
   "outputs": [],
   "source": [
    "def stock_dist(dist1,dist2,nbr_im):\n",
    "    mat_dist=np.zeros((nbr_im,nbr_im))\n",
    "    for i in range(0,nbr_im):\n",
    "        for j in range(0,nbr_im):\n",
    "            mat_dist[i,j]=dist(dist1[i],dist2[j])\n",
    "    return mat_dist "
   ]
  },
  {
   "cell_type": "code",
   "execution_count": 53,
   "metadata": {},
   "outputs": [
    {
     "data": {
      "text/plain": [
       "array([[3162.53347808, 2162.04625297, 3396.92949588, ..., 2114.31738393,\n",
       "        1246.20865027, 2819.33467329],\n",
       "       [3112.5870269 , 2664.2225883 , 3192.79783262, ..., 1120.55343469,\n",
       "        1730.16415406, 2446.42065066],\n",
       "       [2980.59658458, 2354.96199545, 3078.5850646 , ..., 1338.83083323,\n",
       "        1333.65587765, 2628.95302354],\n",
       "       ...,\n",
       "       [2143.87499636, 1930.95313252, 2447.77776769, ..., 1278.67196732,\n",
       "         951.73630802, 1778.50105426],\n",
       "       [2354.77684718, 2287.32332651, 2408.56264191, ...,  980.07652762,\n",
       "        1256.37733186, 1720.15173749],\n",
       "       [2791.87392265, 2448.00694443, 2711.08096522, ..., 1139.57535951,\n",
       "        1583.7007293 , 2237.84181747]])"
      ]
     },
     "execution_count": 53,
     "metadata": {},
     "output_type": "execute_result"
    }
   ],
   "source": [
    "nbr_im=200\n",
    "mat_dist_histo=stock_dist(mat_histo_testing,mat_histo_training,nbr_im)\n",
    "mat_dist_histo"
   ]
  },
  {
   "cell_type": "code",
   "execution_count": 55,
   "metadata": {},
   "outputs": [
    {
     "data": {
      "text/plain": [
       "array([[1.75891061e+08, 2.34408943e+07, 7.08960867e+07, ...,\n",
       "        4.58344096e+08, 5.17799949e+08, 1.98543758e+09],\n",
       "       [6.15763946e+08, 4.28251554e+08, 4.88241225e+08, ...,\n",
       "        2.36037082e+07, 7.75209272e+07, 1.54514621e+09],\n",
       "       [6.97892179e+07, 1.24089312e+08, 8.86640003e+07, ...,\n",
       "        5.66898790e+08, 6.26599741e+08, 2.09416175e+09],\n",
       "       ...,\n",
       "       [6.17428279e+08, 4.29660523e+08, 4.88657209e+08, ...,\n",
       "        3.39331952e+07, 7.67001163e+07, 1.54347297e+09],\n",
       "       [9.75482323e+08, 7.87726357e+08, 8.46180741e+08, ...,\n",
       "        3.43101046e+08, 2.82521002e+08, 1.18541347e+09],\n",
       "       [1.61391397e+08, 3.48172714e+08, 2.97495816e+08, ...,\n",
       "        7.91937573e+08, 8.51832587e+08, 2.31927540e+09]])"
      ]
     },
     "execution_count": 55,
     "metadata": {},
     "output_type": "execute_result"
    }
   ],
   "source": [
    "nbr_im=200\n",
    "mat_dist=stock_dist(mat_desc_testing,mat_desc_training,nbr_im)\n",
    "mat_dist"
   ]
  },
  {
   "cell_type": "code",
   "execution_count": null,
   "metadata": {},
   "outputs": [],
   "source": [
    "nbr_im=200\n",
    "mat_dist_f=stock_dist(mat_desc_testing_f,mat_desc_training_f,nbr_im)\n",
    "mat_dist_f"
   ]
  },
  {
   "cell_type": "code",
   "execution_count": 25,
   "metadata": {},
   "outputs": [],
   "source": [
    "#Returns the indices that would sort in mat_dist\n",
    "mat_index_histo=np.argsort(mat_dist_histo,axis=1)\n",
    "mat_index=np.argsort(mat_dist,axis=1)\n",
    "mat_index_f=np.argsort(mat_dist_f,axis=1)"
   ]
  },
  {
   "cell_type": "code",
   "execution_count": 67,
   "metadata": {},
   "outputs": [],
   "source": [
    "def convert_mat_index_binary(x):\n",
    "    matrice=np.zeros((200,200))\n",
    "    for i in range(200):\n",
    "        if i>=0 and i<=99 :\n",
    "            for j in range(0,200):\n",
    "                if x[i][j]<=99:\n",
    "                    matrice[i][j]=1\n",
    "                else:\n",
    "                    matrice[i][j]=0\n",
    "        elif i>=100 and i<=199 :\n",
    "             for j in range(0,200):\n",
    "                if x[i][j]<=199 and x[i][j]>=100:\n",
    "                    matrice[i][j]=1\n",
    "                else:\n",
    "                    matrice[i][j]=0 \n",
    "    return matrice"
   ]
  },
  {
   "cell_type": "code",
   "execution_count": 71,
   "metadata": {},
   "outputs": [],
   "source": [
    "new_mat_histo=convert_mat_index_binary(mat_index_histo)\n",
    "\n",
    "new_mat=convert_mat_index_binary(mat_index)\n",
    "\n",
    "new_mat_f=convert_mat_index_binary(mat_index_f)\n"
   ]
  },
  {
   "cell_type": "code",
   "execution_count": 75,
   "metadata": {},
   "outputs": [],
   "source": [
    "#l'image requete est la premiere image du test(non infectée)\n",
    "mat_dist_histo_non_Infectee=new_mat_histo[0,:]\n",
    "\n",
    "#l'image requete est la premiere image du test (infectée)\n",
    "mat_dist_histo_Infectee=new_mat_histo[100,:]\n"
   ]
  },
  {
   "cell_type": "code",
   "execution_count": 70,
   "metadata": {},
   "outputs": [],
   "source": [
    "#l'image requete est la premiere image du test(non infectée)\n",
    "mat_dist_non_Infectee=new_mat[0,:]\n",
    "\n",
    "#l'image requete est la premiere image du test (infectée)\n",
    "mat_dist_Infectee=new_mat[100,:]\n"
   ]
  },
  {
   "cell_type": "code",
   "execution_count": null,
   "metadata": {},
   "outputs": [],
   "source": [
    "#l'image requete est la premiere image du test(non infectée)\n",
    "mat_dist_f_non_Infectee=new_mat[0,:]\n",
    "\n",
    "#l'image requete est la premiere image du test (infectée)\n",
    "mat_dist_f_Infectee=new_mat[100,:]"
   ]
  },
  {
   "cell_type": "code",
   "execution_count": 33,
   "metadata": {},
   "outputs": [],
   "source": [
    "pertinent= np.sum(mat_dist_histo_non_Infectee)\n",
    "\n",
    "pertinent= np.sum(mat_dist_histo_Infectee)\n"
   ]
  },
  {
   "cell_type": "code",
   "execution_count": 34,
   "metadata": {},
   "outputs": [],
   "source": [
    "pertinent= np.sum(mat_dist_non_Infectee)\n",
    "\n",
    "pertinent= np.sum(mat_dist_Infectee)\n"
   ]
  },
  {
   "cell_type": "code",
   "execution_count": null,
   "metadata": {},
   "outputs": [],
   "source": [
    "pertinent= np.sum(mat_dist_f_non_Infectee)\n",
    "\n",
    "pertinent= np.sum(mat_dist_f_Infectee)\n"
   ]
  },
  {
   "cell_type": "code",
   "execution_count": 90,
   "metadata": {},
   "outputs": [],
   "source": [
    "def calc_evals(mat_dist_x):\n",
    "    precision=np.zeros((1,200))\n",
    "    recall=np.zeros((1,200))\n",
    "    specificity=np.zeros((1,200))\n",
    "    sensitivity=np.zeros((1,200))\n",
    "    for i in range(1,201):\n",
    "        VP=np.sum(mat_dist_x[0:i]) #sommer les valeurs positive du 0 jusqua i (exclus) dans la premiere ligne dans la matrice\n",
    "        FP=i-VP\n",
    "        FN=pertinent-VP\n",
    "        VN=200-i-FN\n",
    "        precision[0,i-1]=VP/(VP+FP)\n",
    "        recall[0,i-1] =VP/(VP+FN)\n",
    "        sensitivity[0,i-1]=VP/(VP+FN)\n",
    "        specificity[0,i-1]=VN/(VN+FP)\n",
    "    return precision,recall,sensitivity,specificity"
   ]
  },
  {
   "cell_type": "code",
   "execution_count": 91,
   "metadata": {},
   "outputs": [],
   "source": [
    "precision_nI_histo,recall_nI_histo,sensitivity_nI_histo,specificity_nI_histo= calc_evals(mat_dist_histo_non_Infectee)"
   ]
  },
  {
   "cell_type": "code",
   "execution_count": null,
   "metadata": {},
   "outputs": [],
   "source": [
    "precision_I_histo,recall_I_histo,sensitivity_I_histo,specificity_I_histo= calc_evals(mat_dist_histo_Infectee)"
   ]
  },
  {
   "cell_type": "code",
   "execution_count": 92,
   "metadata": {},
   "outputs": [],
   "source": [
    "precision_nI,recall_nI,sensitivity_nI,specificity_nI=calc_evals(mat_dist_non_Infectee)"
   ]
  },
  {
   "cell_type": "code",
   "execution_count": null,
   "metadata": {},
   "outputs": [],
   "source": [
    "precision_I,recall_I,sensitivity_I,specificity_I=calc_evals(mat_dist_Infectee)"
   ]
  },
  {
   "cell_type": "code",
   "execution_count": null,
   "metadata": {},
   "outputs": [],
   "source": [
    "precision_nI_f,recall_nI_f,sensitivity_nI_f,specificity_nI_f=calc_evals(mat_dist_f_non_Infectee)"
   ]
  },
  {
   "cell_type": "code",
   "execution_count": null,
   "metadata": {},
   "outputs": [],
   "source": [
    "precision_I_f,recall_I_f,sensitivity_I_f,specificity_I_f=calc_evals(mat_dist_f_Infectee)"
   ]
  },
  {
   "cell_type": "code",
   "execution_count": 80,
   "metadata": {},
   "outputs": [
    {
     "name": "stdout",
     "output_type": "stream",
     "text": [
      "[0.5936317]\n",
      "[0.33410068]\n"
     ]
    }
   ],
   "source": [
    "pr_moy_nI_histo=np.sum(precision_nI_histo[0,:])/precision_nI_histo[0,:].shape\n",
    "print(pr_moy_nI_histo)\n",
    "\n",
    "pr_moy_I_histo=np.sum(precision_I_histo[0,:])/precision_I_histo[0,:].shape\n",
    "print(pr_moy_I_histo)"
   ]
  },
  {
   "cell_type": "code",
   "execution_count": 81,
   "metadata": {},
   "outputs": [
    {
     "name": "stdout",
     "output_type": "stream",
     "text": [
      "[0.65261687]\n",
      "[0.33410068]\n"
     ]
    }
   ],
   "source": [
    "pr_moy_nI=np.sum(precision_nI[0,:])/precision_nI[0,:].shape\n",
    "print(pr_moy_nI)\n",
    "\n",
    "pr_moy_I=np.sum(precision_I[0,:])/precision_I[0,:].shape\n",
    "print(pr_moy_I)"
   ]
  },
  {
   "cell_type": "code",
   "execution_count": null,
   "metadata": {},
   "outputs": [],
   "source": [
    "pr_moy_nI_f=np.sum(precision_nI_f[0,:])/precision_nI_f[0,:].shape\n",
    "print(pr_moy_nI_f)\n",
    "\n",
    "pr_moy_I_f=np.sum(precision_I_f[0,:])/precision_I_f[0,:].shape\n",
    "print(pr_moy_I_f)"
   ]
  },
  {
   "cell_type": "code",
   "execution_count": 93,
   "metadata": {},
   "outputs": [],
   "source": [
    "def trace_evals(recall,precision):\n",
    "    plt.grid(True)\n",
    "    plt.ylabel(\"Precision\")\n",
    "    plt.xlabel(\"Recall\")\n",
    "    plt.plot(recall[0,:],precision[0,:],color=\"green\")\n",
    "    plt.show()"
   ]
  },
  {
   "cell_type": "code",
   "execution_count": 94,
   "metadata": {},
   "outputs": [
    {
     "data": {
      "image/png": "[encoded data removed]",
      "text/plain": [
       "<Figure size 432x288 with 1 Axes>"
      ]
     },
     "metadata": {
      "needs_background": "light"
     },
     "output_type": "display_data"
    }
   ],
   "source": [
    "trace_evals(recall_nI_histo,precision_nI_histo)"
   ]
  },
  {
   "cell_type": "code",
   "execution_count": 95,
   "metadata": {},
   "outputs": [
    {
     "data": {
      "image/png": "[encoded data removed]",
      "text/plain": [
       "<Figure size 432x288 with 1 Axes>"
      ]
     },
     "metadata": {
      "needs_background": "light"
     },
     "output_type": "display_data"
    }
   ],
   "source": [
    "trace_evals(recall_I_histo,precision_I_histo)"
   ]
  },
  {
   "cell_type": "code",
   "execution_count": 96,
   "metadata": {},
   "outputs": [
    {
     "data": {
      "image/png": "[encoded data removed]",
      "text/plain": [
       "<Figure size 432x288 with 1 Axes>"
      ]
     },
     "metadata": {
      "needs_background": "light"
     },
     "output_type": "display_data"
    }
   ],
   "source": [
    "trace_evals(recall_nI,precision_nI)"
   ]
  },
  {
   "cell_type": "code",
   "execution_count": 97,
   "metadata": {},
   "outputs": [
    {
     "data": {
      "image/png": "[encoded data removed]",
      "text/plain": [
       "<Figure size 432x288 with 1 Axes>"
      ]
     },
     "metadata": {
      "needs_background": "light"
     },
     "output_type": "display_data"
    }
   ],
   "source": [
    "trace_evals(recall_I,precision_I)"
   ]
  },
  {
   "cell_type": "code",
   "execution_count": null,
   "metadata": {},
   "outputs": [],
   "source": [
    "trace_evals(recall_nI_f,precision_nI_f)"
   ]
  },
  {
   "cell_type": "code",
   "execution_count": null,
   "metadata": {},
   "outputs": [],
   "source": [
    "trace_evals(recall_I_f,precision_I_f)"
   ]
  },
  {
   "cell_type": "code",
   "execution_count": null,
   "metadata": {},
   "outputs": [],
   "source": [
    "def determiner_KNN_images(index_img_requete,nbr_img_recuperes,descripteur):\n",
    "    \n",
    "    if int(descripteur)==1 :\n",
    "        matrice1=mat_index_histo\n",
    "        matrice2=new_mat_histo\n",
    "    elif int(descripteur)==2:\n",
    "        matrice1=mat_index\n",
    "        matrice2=new_mat\n",
    "    elif int(descripteur)==3:\n",
    "        matrice1=mat_index_f\n",
    "        matrice2=new_mat_f\n",
    "        \n",
    "    matrice_dest=matrice1[index_img_requete,:]\n",
    "    mat_index_proches=matrice_dest[0:nbr_img_recuperes] #les indices k plus proches\n",
    "    per=np.sum(matrice2[index_image,:])\n",
    "    x=matrice2[index_image,0:nbr_img_recuperes]\n",
    "    k=1\n",
    "    \n",
    "    for i in mat_index_proches:\n",
    "        target=filename_train + str(i) +\".png\"\n",
    "        pic=plt.imread(target)\n",
    "        plt.subplot(2,4,k)\n",
    "        if i>0 and i<100:\n",
    "            img_status='Non infectée'\n",
    "            plt.title(img_status)\n",
    "        elif i>=100 and i<200:\n",
    "            img_status=\"Infectée\"\n",
    "            plt.title(img_status)\n",
    "        plt.imshow(pic)\n",
    "        k=k+1\n",
    "        \n",
    "    per=np.sum(matrice2[index_image,:])\n",
    "    x=matrice2[index_image,0:nbr_img_recuperes]\n",
    "    vp=np.sum(x)\n",
    "    print('VP :',vp)\n",
    "    fp=nbr_img_recuperes-vp\n",
    "    print('FP :',fp)\n",
    "    fn=per-vp\n",
    "    print('FN :',fn)\n",
    "    vn=200-nbr_img_recuperes-fn\n",
    "    print('VN :',vn)\n",
    "    precis=vp/(vp+fp)\n",
    "    print('la précision :',precis*100,\"%\")\n",
    "    reca=vp/(vp+fn)\n",
    "    print('le rappel :',reca*100,\"%\")\n",
    "    spec=vn/(vn+fp)\n",
    "    print('la spécificité :',spec*100,\"%\")\n",
    "    sens=vp/(vp+fn)\n",
    "    print('la sensitivité :',sens*100,\"%\")\n",
    "    acc=(vp+vn)/(vp+vn+fp+fn)\n",
    "    print('Accuracy :',acc*100,\"%\")\n",
    "    f1=(2*precis*reca)/(precis+reca)\n",
    "    print('F1-score :',f1*100,\"%\")"
   ]
  },
  {
   "cell_type": "code",
   "execution_count": null,
   "metadata": {},
   "outputs": [],
   "source": [
    "index_image=int(input(\"donner le numero d'image:\\t\"))\n",
    "nbr_img_recuperes=int(input(\"donner le nombre des images plus proches:\\t\"))\n",
    "descripteur=int(input(\"\\t saisie :\\n 1-histogramme  /  2-texture  /  3-Form\\t\"))\n",
    "print('\\n')\n",
    "determiner_KNN_images(index_image,nbr_img_recuperes,descripteur)"
   ]
  }
 ],
 "metadata": {
  "kernelspec": {
   "display_name": "Python 3",
   "language": "python",
   "name": "python3"
  },
  "language_info": {
   "codemirror_mode": {
    "name": "ipython",
    "version": 3
   },
   "file_extension": ".py",
   "mimetype": "text/x-python",
   "name": "python",
   "nbconvert_exporter": "python",
   "pygments_lexer": "ipython3",
   "version": "3.7.3"
  }
 },
 "nbformat": 4,
 "nbformat_minor": 4
}
