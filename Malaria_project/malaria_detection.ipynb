{
 "cells": [
  {
   "cell_type": "code",
   "execution_count": 1,
   "metadata": {},
   "outputs": [],
   "source": [
    "import numpy as np\n",
    "import matplotlib.pyplot as plt\n",
    "import cv2\n",
    "import os\n",
    "from flask import Flask, render_template, request, url_for, redirect,jsonify,session\n",
    "from werkzeug.utils import secure_filename\n",
    "import json\n",
    "from random import randint"
   ]
  },
  {
   "cell_type": "code",
   "execution_count": 2,
   "metadata": {},
   "outputs": [],
   "source": [
    "filename_train=\"./dataset/training_set/\"\n",
    "filename_test=\"./dataset/testing_set/\"\n",
    "nbr_im=600"
   ]
  },
  {
   "cell_type": "code",
   "execution_count": 3,
   "metadata": {
    "scrolled": false
   },
   "outputs": [
    {
     "name": "stdout",
     "output_type": "stream",
     "text": [
      "(120, 120, 3)\n"
     ]
    }
   ],
   "source": [
    "#resize a image from the dataset\n",
    "img = cv2.imread('dataset/training_set/1.png')\n",
    "img_resized = cv2.resize(img, dsize=(120,120), interpolation=cv2.INTER_CUBIC)\n",
    "taille=img_resized.shape\n",
    "print(taille)"
   ]
  },
  {
   "cell_type": "code",
   "execution_count": 4,
   "metadata": {},
   "outputs": [],
   "source": [
    "def rgb2gray(I):\n",
    "    r, g, b = I[:,:,0], I[:,:,1], I[:,:,2]\n",
    "    gray = 0.2989 * r + 0.5870 * g + 0.1140 * b\n",
    "    return gray"
   ]
  },
  {
   "cell_type": "code",
   "execution_count": 5,
   "metadata": {},
   "outputs": [
    {
     "data": {
      "image/png": "[encoded data removed]",
      "text/plain": [
       "<Figure size 432x288 with 1 Axes>"
      ]
     },
     "metadata": {
      "needs_background": "light"
     },
     "output_type": "display_data"
    }
   ],
   "source": [
    "I_gray=rgb2gray(img_resized)\n",
    "plt.imshow(I_gray,cmap=plt.get_cmap('gray')) #draws an image on the current figure (creates a figure if there isn't a current figure)\n",
    "plt.show() #displays the figure"
   ]
  },
  {
   "cell_type": "code",
   "execution_count": 6,
   "metadata": {},
   "outputs": [
    {
     "data": {
      "text/plain": [
       "(120, 120)"
      ]
     },
     "execution_count": 6,
     "metadata": {},
     "output_type": "execute_result"
    }
   ],
   "source": [
    "taille=I_gray.shape\n",
    "taille\n",
    "# nl,nc=taille"
   ]
  },
  {
   "cell_type": "code",
   "execution_count": 7,
   "metadata": {},
   "outputs": [],
   "source": [
    "\n",
    "def stocker_images(nbr_im, filename):\n",
    "    nl,nc=taille\n",
    "    mat_image=np.zeros((nl,nc,nbr_im))\n",
    "    for i in range(nbr_im):\n",
    "        target= filename+ str(i+1) + '.png'\n",
    "        img = cv2.imread(target)\n",
    "        img_resized = cv2.resize(img, dsize=(120,120), interpolation=cv2.INTER_CUBIC)\n",
    "        mat_image[:,:,i]=rgb2gray(img_resized)       \n",
    "    return mat_image"
   ]
  },
  {
   "cell_type": "code",
   "execution_count": 8,
   "metadata": {},
   "outputs": [],
   "source": [
    "mat_train_image=stocker_images(nbr_im,filename_train)\n",
    "mat_test_image=stocker_images(nbr_im,filename_test)"
   ]
  },
  {
   "cell_type": "code",
   "execution_count": 9,
   "metadata": {},
   "outputs": [],
   "source": [
    "def dist(x,y):\n",
    "    return np.sqrt(np.sum((x-y)**2))"
   ]
  },
  {
   "cell_type": "code",
   "execution_count": 10,
   "metadata": {},
   "outputs": [],
   "source": [
    "def stock_dist(dist1,dist2,nbr_im):\n",
    "    mat_dist=np.zeros((nbr_im,nbr_im))\n",
    "    for i in range(0,nbr_im):\n",
    "        for j in range(0,nbr_im):\n",
    "            mat_dist[i,j]=dist(dist1[i],dist2[j])\n",
    "    return mat_dist "
   ]
  },
  {
   "cell_type": "code",
   "execution_count": 11,
   "metadata": {},
   "outputs": [],
   "source": [
    "def convert_mat_index_binary(x):\n",
    "    matrice=np.zeros((600,600))\n",
    "    for i in range(600):\n",
    "        if i>=0 and i<=299 :\n",
    "            for j in range(0,600):\n",
    "                if x[i][j]<=299:\n",
    "                    matrice[i][j]=1\n",
    "                else:\n",
    "                    matrice[i][j]=0\n",
    "        elif i>=300 and i<=599 :\n",
    "             for j in range(0,600):\n",
    "                if x[i][j]<=599 and x[i][j]>=300:\n",
    "                    matrice[i][j]=1\n",
    "                else:\n",
    "                    matrice[i][j]=0 \n",
    "    return matrice"
   ]
  },
  {
   "cell_type": "code",
   "execution_count": 12,
   "metadata": {},
   "outputs": [],
   "source": [
    "def calc_evals(mat_dist_x):\n",
    "    precision=np.zeros((1,600))\n",
    "    recall=np.zeros((1,600))\n",
    "    specificity=np.zeros((1,600))\n",
    "    sensitivity=np.zeros((1,600))\n",
    "    for i in range(1,601):\n",
    "        VP=np.sum(mat_dist_x[0:i]) #sommer les valeurs positive du 0 jusqua i (exclus) dans la premiere ligne dans la matrice\n",
    "        FP=i-VP\n",
    "        FN=pertinent-VP\n",
    "        VN=600-i-FN\n",
    "        precision[0,i-1]=VP/(VP+FP)\n",
    "        recall[0,i-1] =VP/(VP+FN)\n",
    "        sensitivity[0,i-1]=VP/(VP+FN)\n",
    "        specificity[0,i-1]=VN/(VN+FP)\n",
    "    return precision,recall,sensitivity,specificity"
   ]
  },
  {
   "cell_type": "code",
   "execution_count": 13,
   "metadata": {},
   "outputs": [],
   "source": [
    "def trace_evals(recall,precision):\n",
    "    plt.grid(True)\n",
    "    plt.ylabel(\"Precision\")\n",
    "    plt.xlabel(\"Recall\")\n",
    "    plt.plot(recall[0,:],precision[0,:],color=\"green\")\n",
    "    plt.show()"
   ]
  },
  {
   "cell_type": "markdown",
   "metadata": {},
   "source": [
    "# histogramme"
   ]
  },
  {
   "cell_type": "code",
   "execution_count": 14,
   "metadata": {},
   "outputs": [],
   "source": [
    "def histo(I):\n",
    "    [nl,nc]=np.shape(I)\n",
    "    h=np.zeros(256,dtype=int)\n",
    "    I_m=np.round(I)\n",
    "    for i in range(0,nl):\n",
    "        for j in range(0,nc):\n",
    "            val=int(I_m[i][j])\n",
    "            h[val]+=1\n",
    "    return h"
   ]
  },
  {
   "cell_type": "code",
   "execution_count": 15,
   "metadata": {},
   "outputs": [],
   "source": [
    "def stocker_histogramme(mat_image):\n",
    "    nl,nc,nb_im=mat_image.shape\n",
    "    mat_histo=np.zeros((nb_im,256))\n",
    "    for i in range(nb_im):\n",
    "        mat_histo[i,:]=histo(mat_image[:,:,i])\n",
    "    return mat_histo"
   ]
  },
  {
   "cell_type": "code",
   "execution_count": 16,
   "metadata": {},
   "outputs": [],
   "source": [
    "mat_histo_testing=stocker_histogramme(mat_test_image)\n",
    "mat_histo_training=stocker_histogramme(mat_train_image)"
   ]
  },
  {
   "cell_type": "code",
   "execution_count": 17,
   "metadata": {},
   "outputs": [
    {
     "data": {
      "text/plain": [
       "array([[2475.44420256, 2832.03107328, 2197.70334668, ..., 1771.75393325,\n",
       "        2640.44011483, 2503.62696902],\n",
       "       [1986.32726407, 2513.0045762 , 1695.47987307, ..., 1552.97456515,\n",
       "        2109.47718641, 1838.30084589],\n",
       "       [1569.17749155,  705.65997478, 1429.76501566, ..., 1281.80419722,\n",
       "        1097.68756939, 1103.25427713],\n",
       "       ...,\n",
       "       [2619.74617091, 1163.87456369, 2338.84544167, ..., 2269.90704655,\n",
       "        1548.9280164 , 1993.71913769],\n",
       "       [2437.94831775, 1009.96336567, 2172.34849875, ..., 2062.50527272,\n",
       "        1290.52237485, 1751.34062935],\n",
       "       [1280.8942189 , 1709.93859539, 1275.55556523, ..., 1190.98530637,\n",
       "        1307.81879479,  886.34756163]])"
      ]
     },
     "execution_count": 17,
     "metadata": {},
     "output_type": "execute_result"
    }
   ],
   "source": [
    "nbr_im=600\n",
    "mat_dist_histo=stock_dist(mat_histo_testing,mat_histo_training,nbr_im)\n",
    "mat_dist_histo"
   ]
  },
  {
   "cell_type": "code",
   "execution_count": 18,
   "metadata": {},
   "outputs": [],
   "source": [
    "mat_index_histo=np.argsort(mat_dist_histo,axis=1)"
   ]
  },
  {
   "cell_type": "code",
   "execution_count": 19,
   "metadata": {},
   "outputs": [],
   "source": [
    "new_mat_histo=convert_mat_index_binary(mat_index_histo)"
   ]
  },
  {
   "cell_type": "code",
   "execution_count": 20,
   "metadata": {},
   "outputs": [],
   "source": [
    "#l'image requete est la premiere image du test(non infectée)\n",
    "mat_dist_histo_non_Infectee=new_mat_histo[0,:]\n",
    "\n",
    "#l'image requete est la premiere image du test (infectée)\n",
    "mat_dist_histo_Infectee=new_mat_histo[300,:]\n"
   ]
  },
  {
   "cell_type": "code",
   "execution_count": 21,
   "metadata": {},
   "outputs": [],
   "source": [
    "pertinent= np.sum(mat_dist_histo_non_Infectee)\n",
    "\n",
    "pertinent= np.sum(mat_dist_histo_Infectee)\n"
   ]
  },
  {
   "cell_type": "code",
   "execution_count": 22,
   "metadata": {},
   "outputs": [],
   "source": [
    "precision_nI_histo,recall_nI_histo,sensitivity_nI_histo,specificity_nI_histo= calc_evals(mat_dist_histo_non_Infectee)"
   ]
  },
  {
   "cell_type": "code",
   "execution_count": 23,
   "metadata": {},
   "outputs": [],
   "source": [
    "precision_I_histo,recall_I_histo,sensitivity_I_histo,specificity_I_histo=calc_evals(mat_dist_histo_Infectee)"
   ]
  },
  {
   "cell_type": "code",
   "execution_count": 24,
   "metadata": {},
   "outputs": [
    {
     "name": "stdout",
     "output_type": "stream",
     "text": [
      "[0.27873631]\n",
      "[0.6478107]\n"
     ]
    }
   ],
   "source": [
    "pr_moy_nI_histo=np.sum(precision_nI_histo[0,:])/precision_nI_histo[0,:].shape\n",
    "print(pr_moy_nI_histo)\n",
    "\n",
    "pr_moy_I_histo=np.sum(precision_I_histo[0,:])/precision_I_histo[0,:].shape\n",
    "print(pr_moy_I_histo)"
   ]
  },
  {
   "cell_type": "code",
   "execution_count": 25,
   "metadata": {},
   "outputs": [
    {
     "data": {
      "image/png": "[encoded data removed]",
      "text/plain": [
       "<Figure size 432x288 with 1 Axes>"
      ]
     },
     "metadata": {
      "needs_background": "light"
     },
     "output_type": "display_data"
    }
   ],
   "source": [
    "trace_evals(recall_nI_histo,precision_nI_histo)"
   ]
  },
  {
   "cell_type": "code",
   "execution_count": 26,
   "metadata": {},
   "outputs": [
    {
     "data": {
      "image/png": "[encoded data removed]",
      "text/plain": [
       "<Figure size 432x288 with 1 Axes>"
      ]
     },
     "metadata": {
      "needs_background": "light"
     },
     "output_type": "display_data"
    }
   ],
   "source": [
    "trace_evals(recall_I_histo,precision_I_histo)"
   ]
  },
  {
   "cell_type": "markdown",
   "metadata": {},
   "source": [
    "# Texture"
   ]
  },
  {
   "cell_type": "code",
   "execution_count": 27,
   "metadata": {},
   "outputs": [],
   "source": [
    "def variance2(I):\n",
    "    nl,nc=I.shape\n",
    "    m=np.mean(I)\n",
    "    va=np.sum((I-m)**2)/(nl*nc)\n",
    "    return va"
   ]
  },
  {
   "cell_type": "code",
   "execution_count": 28,
   "metadata": {},
   "outputs": [],
   "source": [
    "def energie(I): \n",
    "    nl,nc=I.shape\n",
    "    en= np.sum(I**2)\n",
    "    return en"
   ]
  },
  {
   "cell_type": "code",
   "execution_count": 29,
   "metadata": {},
   "outputs": [],
   "source": [
    "def entropie(I):\n",
    "    ent=np.sum(I*np.log2(I+1e-10))\n",
    "    return -ent"
   ]
  },
  {
   "cell_type": "code",
   "execution_count": 30,
   "metadata": {},
   "outputs": [],
   "source": [
    "def contraste(I):\n",
    "    nl,nc=I.shape\n",
    "    co=0\n",
    "    for i in range(nl):\n",
    "        for j in range(nc):\n",
    "            co+=((i-j)**2*I[i,j])\n",
    "    return co"
   ]
  },
  {
   "cell_type": "code",
   "execution_count": 31,
   "metadata": {},
   "outputs": [],
   "source": [
    "def homogenite(I):\n",
    "    nl,nc=I.shape\n",
    "    mo=0\n",
    "    for i in range(nl):\n",
    "        for j in range(nc):\n",
    "            mo+=I[i,j]/(1+abs(i-j))\n",
    "    return mo"
   ]
  },
  {
   "cell_type": "code",
   "execution_count": 32,
   "metadata": {},
   "outputs": [],
   "source": [
    "def stocker_desc_txt(mat_image):\n",
    "    nl,nc,nbr_img=mat_image.shape\n",
    "    desc=np.zeros((nbr_img,5))\n",
    "    for i in range(nbr_img) :\n",
    "        I = mat_image[:,:,i]\n",
    "        desc[i,:]=variance2(I), energie(I), entropie(I), contraste(I), homogenite(I)\n",
    "    return desc"
   ]
  },
  {
   "cell_type": "code",
   "execution_count": 33,
   "metadata": {},
   "outputs": [],
   "source": [
    "mat_desc_testing=stocker_desc_txt(mat_test_image)\n",
    "mat_desc_training=stocker_desc_txt(mat_train_image)"
   ]
  },
  {
   "cell_type": "code",
   "execution_count": 34,
   "metadata": {
    "scrolled": true
   },
   "outputs": [
    {
     "data": {
      "text/plain": [
       "array([[5.58740671e+08, 7.26951885e+08, 3.39637464e+08, ...,\n",
       "        5.60085987e+08, 4.98641998e+08, 1.50962904e+08],\n",
       "       [3.17277879e+07, 1.31007728e+09, 9.22551152e+08, ...,\n",
       "        1.14322152e+09, 8.77464669e+07, 4.32332343e+08],\n",
       "       [4.44823383e+08, 8.40760141e+08, 4.53445242e+08, ...,\n",
       "        6.74126764e+08, 3.84593644e+08, 5.20702550e+07],\n",
       "       ...,\n",
       "       [1.33025546e+09, 4.72765542e+07, 4.33005926e+08, ...,\n",
       "        2.12764820e+08, 1.27002710e+09, 9.23335739e+08],\n",
       "       [8.55496769e+08, 4.29917435e+08, 4.53365754e+07, ...,\n",
       "        2.63556677e+08, 7.95262676e+08, 4.49203362e+08],\n",
       "       [3.67336585e+07, 1.26033116e+09, 8.72855194e+08, ...,\n",
       "        1.09346629e+09, 4.53626806e+07, 3.82539565e+08]])"
      ]
     },
     "execution_count": 34,
     "metadata": {},
     "output_type": "execute_result"
    }
   ],
   "source": [
    "nbr_im=600\n",
    "mat_dist=stock_dist(mat_desc_testing,mat_desc_training,nbr_im)\n",
    "mat_dist"
   ]
  },
  {
   "cell_type": "code",
   "execution_count": 35,
   "metadata": {},
   "outputs": [],
   "source": [
    "mat_index=np.argsort(mat_dist,axis=1)"
   ]
  },
  {
   "cell_type": "code",
   "execution_count": 36,
   "metadata": {},
   "outputs": [],
   "source": [
    "new_mat=convert_mat_index_binary(mat_index)"
   ]
  },
  {
   "cell_type": "code",
   "execution_count": 37,
   "metadata": {},
   "outputs": [],
   "source": [
    "#l'image requete est la premiere image du test(non infectée)\n",
    "mat_dist_non_Infectee=new_mat[0,:]\n",
    "\n",
    "#l'image requete est la premiere image du test (infectée)\n",
    "mat_dist_Infectee=new_mat[300,:]\n"
   ]
  },
  {
   "cell_type": "code",
   "execution_count": 38,
   "metadata": {},
   "outputs": [],
   "source": [
    "pertinent= np.sum(mat_dist_non_Infectee)\n",
    "\n",
    "pertinent= np.sum(mat_dist_Infectee)\n"
   ]
  },
  {
   "cell_type": "code",
   "execution_count": 39,
   "metadata": {},
   "outputs": [],
   "source": [
    "precision_nI,recall_nI,sensitivity_nI,specificity_nI=calc_evals(mat_dist_non_Infectee)"
   ]
  },
  {
   "cell_type": "code",
   "execution_count": 40,
   "metadata": {},
   "outputs": [],
   "source": [
    "precision_I,recall_I,sensitivity_I,specificity_I=calc_evals(mat_dist_Infectee)"
   ]
  },
  {
   "cell_type": "code",
   "execution_count": 41,
   "metadata": {},
   "outputs": [
    {
     "name": "stdout",
     "output_type": "stream",
     "text": [
      "[0.42678847]\n",
      "[0.52862887]\n"
     ]
    }
   ],
   "source": [
    "pr_moy_nI=np.sum(precision_nI[0,:])/precision_nI[0,:].shape\n",
    "print(pr_moy_nI)\n",
    "\n",
    "pr_moy_I=np.sum(precision_I[0,:])/precision_I[0,:].shape\n",
    "print(pr_moy_I)"
   ]
  },
  {
   "cell_type": "code",
   "execution_count": 42,
   "metadata": {},
   "outputs": [
    {
     "data": {
      "image/png": "[encoded data removed]",
      "text/plain": [
       "<Figure size 432x288 with 1 Axes>"
      ]
     },
     "metadata": {
      "needs_background": "light"
     },
     "output_type": "display_data"
    }
   ],
   "source": [
    "trace_evals(recall_nI,precision_nI)"
   ]
  },
  {
   "cell_type": "code",
   "execution_count": 43,
   "metadata": {},
   "outputs": [
    {
     "data": {
      "image/png": "[encoded data removed]",
      "text/plain": [
       "<Figure size 432x288 with 1 Axes>"
      ]
     },
     "metadata": {
      "needs_background": "light"
     },
     "output_type": "display_data"
    }
   ],
   "source": [
    "trace_evals(recall_I,precision_I)"
   ]
  },
  {
   "cell_type": "markdown",
   "metadata": {},
   "source": [
    "# forme & histogramme"
   ]
  },
  {
   "cell_type": "code",
   "execution_count": 44,
   "metadata": {},
   "outputs": [],
   "source": [
    "def Laplacian(I):\n",
    "    img_lap=cv2.Laplacian(I,cv2.CV_8U,-1)\n",
    "    r, g, b = img_lap[:,:,0], img_lap[:,:,1], img_lap[:,:,2]\n",
    "    gray_lap= 0.2989 * r + 0.5870 * g + 0.1140 * b\n",
    "    return gray_lap"
   ]
  },
  {
   "cell_type": "code",
   "execution_count": 45,
   "metadata": {},
   "outputs": [],
   "source": [
    "def stocker_images_forme(nbr_im, filename):\n",
    "    nl,nc=taille\n",
    "    mat_image=np.zeros((nl,nc,nbr_im))\n",
    "    for i in range(nbr_im):\n",
    "        target= filename+ str(i+1) + '.png'\n",
    "        img = cv2.imread(target)\n",
    "        img_resized = cv2.resize(img, dsize=(120,120), interpolation=cv2.INTER_CUBIC)\n",
    "        mat_image[:,:,i]=Laplacian(img_resized)      \n",
    "    return mat_image"
   ]
  },
  {
   "cell_type": "code",
   "execution_count": 46,
   "metadata": {},
   "outputs": [],
   "source": [
    "mat_train_image_f=stocker_images_forme(nbr_im,filename_train)\n",
    "mat_test_image_f=stocker_images_forme(nbr_im,filename_test)"
   ]
  },
  {
   "cell_type": "code",
   "execution_count": 47,
   "metadata": {},
   "outputs": [],
   "source": [
    "mat_desc_testing_f=stocker_histogramme(mat_test_image_f)\n",
    "mat_desc_training_f=stocker_histogramme(mat_train_image_f)"
   ]
  },
  {
   "cell_type": "code",
   "execution_count": 48,
   "metadata": {},
   "outputs": [
    {
     "data": {
      "text/plain": [
       "array([[ 465.18383463,  830.86220277,  528.41082502, ..., 1627.0427161 ,\n",
       "         902.68931532,  891.82285236],\n",
       "       [ 541.09888191,  766.65898547,  652.33273718, ..., 1871.43474372,\n",
       "         929.10279302,  775.33863569],\n",
       "       [ 645.60978927,  940.35418859,  738.67178097, ..., 1901.36582487,\n",
       "        1066.03752279,  958.40075125],\n",
       "       ...,\n",
       "       [ 390.7633555 ,  293.87412271,  324.05246489, ..., 1129.25373588,\n",
       "         218.40787532,  417.54760208],\n",
       "       [ 564.36335813,  502.39625795,  471.2112053 , ...,  929.54289842,\n",
       "         302.15227949,  586.16891763],\n",
       "       [ 315.82906769,  364.98767102,  314.37239065, ..., 1195.84614395,\n",
       "         302.57230541,  389.59209438]])"
      ]
     },
     "execution_count": 48,
     "metadata": {},
     "output_type": "execute_result"
    }
   ],
   "source": [
    "nbr_im=600\n",
    "mat_dist_f=stock_dist(mat_desc_testing_f,mat_desc_training_f,nbr_im)\n",
    "mat_dist_f"
   ]
  },
  {
   "cell_type": "code",
   "execution_count": 49,
   "metadata": {},
   "outputs": [],
   "source": [
    "mat_index_f=np.argsort(mat_dist_f,axis=1)"
   ]
  },
  {
   "cell_type": "code",
   "execution_count": 50,
   "metadata": {},
   "outputs": [],
   "source": [
    "new_mat_f=convert_mat_index_binary(mat_index_f)"
   ]
  },
  {
   "cell_type": "code",
   "execution_count": 51,
   "metadata": {},
   "outputs": [],
   "source": [
    "#l'image requete est la premiere image du test(non infectée)\n",
    "mat_dist_f_non_Infectee=new_mat_f[0,:]\n",
    "\n",
    "#l'image requete est la premiere image du test (infectée)\n",
    "mat_dist_f_Infectee=new_mat_f[300,:]"
   ]
  },
  {
   "cell_type": "code",
   "execution_count": 52,
   "metadata": {},
   "outputs": [],
   "source": [
    "pertinent= np.sum(mat_dist_f_non_Infectee)\n",
    "\n",
    "pertinent= np.sum(mat_dist_f_Infectee)\n"
   ]
  },
  {
   "cell_type": "code",
   "execution_count": 53,
   "metadata": {},
   "outputs": [],
   "source": [
    "precision_nI_f,recall_nI_f,sensitivity_nI_f,specificity_nI_f=calc_evals(mat_dist_f_non_Infectee)"
   ]
  },
  {
   "cell_type": "code",
   "execution_count": 54,
   "metadata": {},
   "outputs": [],
   "source": [
    "precision_I_f,recall_I_f,sensitivity_I_f,specificity_I_f=calc_evals(mat_dist_f_Infectee)"
   ]
  },
  {
   "cell_type": "code",
   "execution_count": 55,
   "metadata": {},
   "outputs": [
    {
     "name": "stdout",
     "output_type": "stream",
     "text": [
      "[0.51096986]\n",
      "[0.5434618]\n"
     ]
    }
   ],
   "source": [
    "pr_moy_nI_f=np.sum(precision_nI_f[0,:])/precision_nI_f[0,:].shape\n",
    "print(pr_moy_nI_f)\n",
    "\n",
    "pr_moy_I_f=np.sum(precision_I_f[0,:])/precision_I_f[0,:].shape\n",
    "print(pr_moy_I_f)"
   ]
  },
  {
   "cell_type": "code",
   "execution_count": 56,
   "metadata": {},
   "outputs": [
    {
     "data": {
      "image/png": "[encoded data removed]",
      "text/plain": [
       "<Figure size 432x288 with 1 Axes>"
      ]
     },
     "metadata": {
      "needs_background": "light"
     },
     "output_type": "display_data"
    }
   ],
   "source": [
    "trace_evals(recall_nI_f,precision_nI_f)"
   ]
  },
  {
   "cell_type": "code",
   "execution_count": 57,
   "metadata": {},
   "outputs": [
    {
     "data": {
      "image/png": "[encoded data removed]",
      "text/plain": [
       "<Figure size 432x288 with 1 Axes>"
      ]
     },
     "metadata": {
      "needs_background": "light"
     },
     "output_type": "display_data"
    }
   ],
   "source": [
    "trace_evals(recall_I_f,precision_I_f)"
   ]
  },
  {
   "cell_type": "markdown",
   "metadata": {},
   "source": [
    "# Algorithme K plus proches"
   ]
  },
  {
   "cell_type": "code",
   "execution_count": 58,
   "metadata": {},
   "outputs": [],
   "source": [
    "def determiner_KNN_images(index_img_requete,nbr_img_recuperes,descripteur):\n",
    "    if int(descripteur)==1 :\n",
    "        matrice1=mat_index_histo\n",
    "        matrice2=new_mat_histo\n",
    "    elif int(descripteur)==2:\n",
    "        matrice1=mat_index\n",
    "        matrice2=new_mat\n",
    "    elif int(descripteur)==3:\n",
    "        matrice1=mat_index_f\n",
    "        matrice2=new_mat_f\n",
    "        \n",
    "    matrice_dest=matrice1[index_img_requete,:]\n",
    "    mat_index_proches=matrice_dest[0:nbr_img_recuperes] #les indices k plus proches\n",
    "    per=np.sum(matrice2[index_image,:])\n",
    "    x=matrice2[index_image,0:nbr_img_recuperes]\n",
    "    k=1\n",
    "    \n",
    "    for i in mat_index_proches:\n",
    "        target=filename_train + str(i) +\".png\"\n",
    "        pic=plt.imread(target)\n",
    "        plt.subplot(2,4,k)\n",
    "        if i>0 and i<300:\n",
    "            img_status='Non infectée'\n",
    "            plt.title(img_status)\n",
    "        elif i>=300 and i<600:\n",
    "            img_status=\"Infectée\"\n",
    "            plt.title(img_status)\n",
    "        plt.imshow(pic)\n",
    "        k=k+1\n",
    "        \n",
    "    per=np.sum(matrice2[index_image,:])\n",
    "    x=matrice2[index_image,0:nbr_img_recuperes]\n",
    "    vp=np.sum(x)\n",
    "    print('VP :',vp)\n",
    "    fp=nbr_img_recuperes-vp\n",
    "    print('FP :',fp)\n",
    "    fn=per-vp\n",
    "    print('FN :',fn)\n",
    "    vn=600-nbr_img_recuperes-fn\n",
    "    print('VN :',vn)\n",
    "    precis=vp/(vp+fp)\n",
    "    print('la précision :',precis*100,\"%\")\n",
    "    reca=vp/(vp+fn)\n",
    "    print('le rappel :',reca*100,\"%\")\n",
    "    spec=vn/(vn+fp)\n",
    "    print('la spécificité :',spec*100,\"%\")\n",
    "    sens=vp/(vp+fn)\n",
    "    print('la sensitivité :',sens*100,\"%\")\n",
    "    acc=(vp+vn)/(vp+vn+fp+fn)\n",
    "    print('Accuracy :',acc*100,\"%\")\n",
    "    f1=(2*precis*reca)/(precis+reca)\n",
    "    print('F1-score :',f1*100,\"%\")"
   ]
  },
  {
   "cell_type": "code",
   "execution_count": 59,
   "metadata": {},
   "outputs": [
    {
     "name": "stdout",
     "output_type": "stream",
     "text": [
      "donner le numero d'image:\t280\n",
      "donner le nombre des images plus proches:\t8\n",
      "\t saisie :\n",
      " 1-histogramme  /  2-texture  /  3-Form\t1\n",
      "\n",
      "\n",
      "VP : 5.0\n",
      "FP : 3.0\n",
      "FN : 295.0\n",
      "VN : 297.0\n",
      "la précision : 62.5 %\n",
      "le rappel : 1.6666666666666667 %\n",
      "la spécificité : 99.0 %\n",
      "la sensitivité : 1.6666666666666667 %\n",
      "Accuracy : 50.33333333333333 %\n",
      "F1-score : 3.2467532467532463 %\n"
     ]
    },
    {
     "data": {
      "image/png": "[encoded data removed]",
      "text/plain": [
       "<Figure size 432x288 with 8 Axes>"
      ]
     },
     "metadata": {
      "needs_background": "light"
     },
     "output_type": "display_data"
    }
   ],
   "source": [
    "index_image=int(input(\"donner le numero d'image:\\t\"))\n",
    "nbr_img_recuperes=int(input(\"donner le nombre des images plus proches:\\t\"))\n",
    "descripteur=int(input(\"\\t saisie :\\n 1-histogramme  /  2-texture  /  3-Form\\t\"))\n",
    "print('\\n')\n",
    "determiner_KNN_images(index_image,nbr_img_recuperes,descripteur)"
   ]
  },
  {
   "cell_type": "markdown",
   "metadata": {},
   "source": [
    "# App web avec flask"
   ]
  },
  {
   "cell_type": "code",
   "execution_count": 62,
   "metadata": {},
   "outputs": [],
   "source": [
    "\n",
    "def calc_measurs(index_img_requete,mat_index_desc,mat_binary,nbr_img_recuperes=8):\n",
    "    eval_params={}\n",
    "    matrice_dest=mat_index_desc[index_img_requete,:]\n",
    "    mat_index_proches=matrice_dest[0:nbr_img_recuperes] #les indices k plus proches\n",
    "    image_url=''\n",
    "    value=randint(0,10000)\n",
    "    k=1\n",
    "    for i in mat_index_proches:\n",
    "        target=filename_train + str(i) +\".png\"\n",
    "        pic=plt.imread(target)\n",
    "        plt.subplot(2,4,k)\n",
    "        if i>0 and i<300:\n",
    "            img_status='Non infectée'\n",
    "            plt.title(img_status)\n",
    "        elif i>=300 and i<600:\n",
    "            img_status=\"Infectée\"\n",
    "            plt.title(img_status)\n",
    "        plt.imshow(pic)\n",
    "        plt.savefig('static/img/' + str(value) + '.png')\n",
    "        image_url = str(value) + '.png'\n",
    "        k=k+1    \n",
    "    per=np.sum(mat_binary[index_img_requete,:])\n",
    "    mat_binary_requete=mat_binary[index_img_requete,0:nbr_img_recuperes]\n",
    "    vp=np.sum(mat_binary_requete) #vrais postives\n",
    "    fp=nbr_img_recuperes-vp  #faux positives\n",
    "    fn=per-vp #faux negatives\n",
    "    vn=600-nbr_img_recuperes-fn # vrais negatives\n",
    "    eval_params['precision']=vp*100/(vp+fp)\n",
    "    eval_params['rappel']=vp*100/(vp+fn)\n",
    "    eval_params['sensitivity']=vp*100/(vp+fn)\n",
    "    eval_params['specificity']=vn*100/(vn+fp)\n",
    "    eval_params['f1_score']= 2*vp*100 / (2*vp + fp + fn)\n",
    "    eval_params['accuracy']=(vp+vn)*100/(vp+vn+fp+fn)\n",
    "    eval_params['image_url']=image_url\n",
    "    return eval_params"
   ]
  },
  {
   "cell_type": "code",
   "execution_count": null,
   "metadata": {},
   "outputs": [
    {
     "name": "stdout",
     "output_type": "stream",
     "text": [
      " * Serving Flask app \"__main__\" (lazy loading)\n",
      " * Environment: production\n",
      "   WARNING: This is a development server. Do not use it in a production deployment.\n",
      "   Use a production WSGI server instead.\n",
      " * Debug mode: off\n"
     ]
    },
    {
     "name": "stderr",
     "output_type": "stream",
     "text": [
      " * Running on http://127.0.0.1:5000/ (Press CTRL+C to quit)\n",
      "127.0.0.1 - - [15/Mar/2021 23:35:21] \"\u001b[37mGET / HTTP/1.1\u001b[0m\" 200 -\n"
     ]
    },
    {
     "name": "stdout",
     "output_type": "stream",
     "text": [
      "['280', 'png']\n"
     ]
    },
    {
     "name": "stderr",
     "output_type": "stream",
     "text": [
      "C:\\ProgramData\\Anaconda3\\envs\\mini-projet\\lib\\site-packages\\ipykernel_launcher.py:11: MatplotlibDeprecationWarning: Adding an axes using the same arguments as a previous axes currently reuses the earlier instance.  In a future version, a new instance will always be created and returned.  Meanwhile, this warning can be suppressed, and the future behavior ensured, by passing a unique label to each axes instance.\n",
      "  # This is added back by InteractiveShellApp.init_path()\n",
      "127.0.0.1 - - [15/Mar/2021 23:36:14] \"\u001b[37mPOST /upload HTTP/1.1\u001b[0m\" 200 -\n",
      "127.0.0.1 - - [15/Mar/2021 23:36:14] \"\u001b[37mGET /static/img/1949.png HTTP/1.1\u001b[0m\" 200 -\n",
      "127.0.0.1 - - [15/Mar/2021 23:36:14] \"\u001b[37mGET /static/img/5890.png HTTP/1.1\u001b[0m\" 200 -\n",
      "127.0.0.1 - - [15/Mar/2021 23:36:14] \"\u001b[37mGET /static/img/9703.png HTTP/1.1\u001b[0m\" 200 -\n"
     ]
    },
    {
     "name": "stdout",
     "output_type": "stream",
     "text": [
      "{'precision': 62.5, 'rappel': 1.6666666666666667, 'sensitivity': 1.6666666666666667, 'specificity': 99.0, 'f1_score': 3.2467532467532467, 'accuracy': 50.333333333333336, 'image_url': '1949.png'}\n",
      "{'precision': 75.0, 'rappel': 2.0, 'sensitivity': 2.0, 'specificity': 99.33333333333333, 'f1_score': 3.896103896103896, 'accuracy': 50.666666666666664, 'image_url': '5890.png'}\n"
     ]
    }
   ],
   "source": [
    "\n",
    "app = Flask(__name__)\n",
    "UPLOAD_FOLDER = 'static/uploads'\n",
    "app.config['UPLOAD_FOLDER'] = UPLOAD_FOLDER\n",
    "app.config['MAX_CONTENT_LENGTH'] = 16 * 1024 * 1024\n",
    "ALLOWED_EXTENSIONS = set(['png', 'jpg', 'jpeg', 'gif'])\n",
    "eval_params={}\n",
    "def allowed_file(filename):\n",
    "    return '.' in filename and filename.rsplit('.', 1)[1].lower() in ALLOWED_EXTENSIONS\n",
    "\n",
    "\n",
    "@app.route('/')\n",
    "def home():\n",
    "    return render_template('home.html',)\n",
    "\n",
    "\n",
    "@app.route('/upload', methods=['POST','GET'])\n",
    "def upload():\n",
    "    if request.method == 'POST':\n",
    "        file = request.files['file']\n",
    "        filename = secure_filename(file.filename)\n",
    "        file_name = filename.split(\".\")\n",
    "        print(file_name)\n",
    "        index = int(file_name[0])\n",
    "        eval_params_histo=calc_measurs(index,mat_index_histo,new_mat_histo)\n",
    "        eval_params_texture=calc_measurs(index,mat_index,new_mat)\n",
    "        eval_params_form=calc_measurs(index,mat_index_f,new_mat_f)\n",
    "        print(eval_params_histo)\n",
    "        print(eval_params_texture)\n",
    "        file.save(os.path.join(app.config['UPLOAD_FOLDER'], filename))\n",
    "        return jsonify(eval_params_histo,eval_params_texture,eval_params_form)\n",
    "if __name__ == '__main__':\n",
    "    app.run()\n"
   ]
  },
  {
   "cell_type": "code",
   "execution_count": null,
   "metadata": {},
   "outputs": [],
   "source": []
  },
  {
   "cell_type": "code",
   "execution_count": null,
   "metadata": {},
   "outputs": [],
   "source": []
  },
  {
   "cell_type": "code",
   "execution_count": null,
   "metadata": {},
   "outputs": [],
   "source": []
  },
  {
   "cell_type": "code",
   "execution_count": null,
   "metadata": {},
   "outputs": [],
   "source": []
  }
 ],
 "metadata": {
  "kernelspec": {
   "display_name": "Python 3",
   "language": "python",
   "name": "python3"
  },
  "language_info": {
   "codemirror_mode": {
    "name": "ipython",
    "version": 3
   },
   "file_extension": ".py",
   "mimetype": "text/x-python",
   "name": "python",
   "nbconvert_exporter": "python",
   "pygments_lexer": "ipython3",
   "version": "3.8.5"
  }
 },
 "nbformat": 4,
 "nbformat_minor": 4
}
